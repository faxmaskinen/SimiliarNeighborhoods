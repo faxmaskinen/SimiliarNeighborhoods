{
 "metadata": {
  "language_info": {
   "codemirror_mode": {
    "name": "ipython",
    "version": 3
   },
   "file_extension": ".py",
   "mimetype": "text/x-python",
   "name": "python",
   "nbconvert_exporter": "python",
   "pygments_lexer": "ipython3",
   "version": "3.8.6-final"
  },
  "orig_nbformat": 2,
  "kernelspec": {
   "name": "Python 3.8.6 64-bit",
   "display_name": "Python 3.8.6 64-bit",
   "metadata": {
    "interpreter": {
     "hash": "c1c7833bc1f675858b97fffafeb722f93481f4d9b87f7b55bd9edaba86123ae6"
    }
   }
  }
 },
 "nbformat": 4,
 "nbformat_minor": 2,
 "cells": [
  {
   "cell_type": "code",
   "execution_count": 151,
   "metadata": {},
   "outputs": [
    {
     "output_type": "stream",
     "name": "stdout",
     "text": [
      "Libraries imported.\n"
     ]
    }
   ],
   "source": [
    "import pandas as pd # library for data analsysis\n",
    "import numpy as np # library to handle data in a vectorized manner\n",
    "import random # library for random number generation\n",
    "\n",
    "# from bs4 import BeautifulSoup\n",
    "#  http://beautiful-soup-4.readthedocs.io/en/latest/    # for more advanced web scraping  \n",
    "\n",
    "import lxml\n",
    "import html5lib\n",
    "import csv\n",
    "\n",
    "import json # library to handle JSON files\n",
    "\n",
    "import requests # library to handle requests\n",
    "\n",
    "import time  # used to record time to run functions\n",
    "\n",
    "from collections import Counter\n",
    "\n",
    "print('Libraries imported.')"
   ]
  },
  {
   "cell_type": "code",
   "execution_count": 152,
   "metadata": {},
   "outputs": [],
   "source": [
    "import sys\n",
    "# insert at 1, 0 is the script path (or '' in REPL)\n",
    "sys.path.insert(1, '../credentials/')\n",
    "\n",
    "import config"
   ]
  },
  {
   "source": [
    "## Import neighborhoods data\n",
    "\n",
    "start with Toronto"
   ],
   "cell_type": "markdown",
   "metadata": {}
  },
  {
   "cell_type": "code",
   "execution_count": 153,
   "metadata": {},
   "outputs": [
    {
     "output_type": "execute_result",
     "data": {
      "text/plain": [
       "  Postal Code           Borough              Neighbourhood\n",
       "0         M1A      Not assigned               Not assigned\n",
       "1         M2A      Not assigned               Not assigned\n",
       "2         M3A        North York                  Parkwoods\n",
       "3         M4A        North York           Victoria Village\n",
       "4         M5A  Downtown Toronto  Regent Park, Harbourfront"
      ],
      "text/html": "<div>\n<style scoped>\n    .dataframe tbody tr th:only-of-type {\n        vertical-align: middle;\n    }\n\n    .dataframe tbody tr th {\n        vertical-align: top;\n    }\n\n    .dataframe thead th {\n        text-align: right;\n    }\n</style>\n<table border=\"1\" class=\"dataframe\">\n  <thead>\n    <tr style=\"text-align: right;\">\n      <th></th>\n      <th>Postal Code</th>\n      <th>Borough</th>\n      <th>Neighbourhood</th>\n    </tr>\n  </thead>\n  <tbody>\n    <tr>\n      <th>0</th>\n      <td>M1A</td>\n      <td>Not assigned</td>\n      <td>Not assigned</td>\n    </tr>\n    <tr>\n      <th>1</th>\n      <td>M2A</td>\n      <td>Not assigned</td>\n      <td>Not assigned</td>\n    </tr>\n    <tr>\n      <th>2</th>\n      <td>M3A</td>\n      <td>North York</td>\n      <td>Parkwoods</td>\n    </tr>\n    <tr>\n      <th>3</th>\n      <td>M4A</td>\n      <td>North York</td>\n      <td>Victoria Village</td>\n    </tr>\n    <tr>\n      <th>4</th>\n      <td>M5A</td>\n      <td>Downtown Toronto</td>\n      <td>Regent Park, Harbourfront</td>\n    </tr>\n  </tbody>\n</table>\n</div>"
     },
     "metadata": {},
     "execution_count": 153
    }
   ],
   "source": [
    "url = 'https://en.wikipedia.org/wiki/List_of_postal_codes_of_Canada:_M'\n",
    "df_to_neighborhoods = pd.read_html(url, attrs={\"class\": \"wikitable\"})[0]   # 0 is for the 1st table in this particular page\n",
    "df_to_neighborhoods.head()"
   ]
  },
  {
   "source": [
    "clean the Toronto dataframe"
   ],
   "cell_type": "markdown",
   "metadata": {}
  },
  {
   "cell_type": "code",
   "execution_count": 154,
   "metadata": {},
   "outputs": [
    {
     "output_type": "stream",
     "name": "stdout",
     "text": [
      "Dropped 'Not assigned' values in the 'Postal Code' column!\nAny mispelles not assigned values in 'Borough'?  Series([], Name: Borough, dtype: object), Series([], Name: Borough, dtype: object)\nThere is no duplicate 'Postal Code' rows!\nCannot find any 'Not assigned' values in the 'Neighbourhood' column!\n"
     ]
    },
    {
     "output_type": "execute_result",
     "data": {
      "text/plain": [
       "  Postal Code           Borough                                Neighbourhood\n",
       "0         M3A        North York                                    Parkwoods\n",
       "1         M4A        North York                             Victoria Village\n",
       "2         M5A  Downtown Toronto                    Regent Park, Harbourfront\n",
       "3         M6A        North York             Lawrence Manor, Lawrence Heights\n",
       "4         M7A  Downtown Toronto  Queen's Park, Ontario Provincial Government"
      ],
      "text/html": "<div>\n<style scoped>\n    .dataframe tbody tr th:only-of-type {\n        vertical-align: middle;\n    }\n\n    .dataframe tbody tr th {\n        vertical-align: top;\n    }\n\n    .dataframe thead th {\n        text-align: right;\n    }\n</style>\n<table border=\"1\" class=\"dataframe\">\n  <thead>\n    <tr style=\"text-align: right;\">\n      <th></th>\n      <th>Postal Code</th>\n      <th>Borough</th>\n      <th>Neighbourhood</th>\n    </tr>\n  </thead>\n  <tbody>\n    <tr>\n      <th>0</th>\n      <td>M3A</td>\n      <td>North York</td>\n      <td>Parkwoods</td>\n    </tr>\n    <tr>\n      <th>1</th>\n      <td>M4A</td>\n      <td>North York</td>\n      <td>Victoria Village</td>\n    </tr>\n    <tr>\n      <th>2</th>\n      <td>M5A</td>\n      <td>Downtown Toronto</td>\n      <td>Regent Park, Harbourfront</td>\n    </tr>\n    <tr>\n      <th>3</th>\n      <td>M6A</td>\n      <td>North York</td>\n      <td>Lawrence Manor, Lawrence Heights</td>\n    </tr>\n    <tr>\n      <th>4</th>\n      <td>M7A</td>\n      <td>Downtown Toronto</td>\n      <td>Queen's Park, Ontario Provincial Government</td>\n    </tr>\n  </tbody>\n</table>\n</div>"
     },
     "metadata": {},
     "execution_count": 154
    }
   ],
   "source": [
    "df_to_neighborhoods['Borough']=df_to_neighborhoods['Borough'].replace('Not assigned',np.NaN)   # replace 'Not assigned' with NaN \n",
    "df_to_neighborhoods=df_to_neighborhoods.dropna() \n",
    "df_to_neighborhoods.reset_index(drop=True, inplace=True)\n",
    "print(\"Dropped 'Not assigned' values in the 'Postal Code' column!\")\n",
    "\n",
    "# pd.set_option('display.max_rows', None)     # show all data in dataframe\n",
    "\n",
    "# check for mispelled 'Not assigned' values in 'Borough' which has not been replaced\n",
    "print(\"Any mispelles not assigned values in 'Borough'?  \" + str(df_to_neighborhoods['Borough'][df_to_neighborhoods['Borough'].str.lower().str.contains('t as', regex=False)]) + \", \" + str(df_to_neighborhoods['Borough'][df_to_neighborhoods['Borough'].str.lower().str.contains('not ', regex=False)]) )   \n",
    "\n",
    "# find non unique (duplicate) postal codes \n",
    "dupli= \"no\"\n",
    "for d in df_to_neighborhoods['Postal Code'].duplicated().unique():\n",
    "    if d == True:\n",
    "        dupli = \"\"\n",
    "print(\"There is \" + dupli+\" duplicate 'Postal Code' rows!\")\n",
    "\n",
    "\n",
    "# find neighborhoods with 'Not assigned' values\n",
    "assigned=\"Cannot find any\"\n",
    "for a in df_to_neighborhoods['Neighbourhood'].isin(['Not assigned']):\n",
    "    if a == True:\n",
    "        assigned=\"Found\"\n",
    "print(assigned+\" 'Not assigned' values in the 'Neighbourhood' column!\")\n",
    "\n",
    "df_to_neighborhoods.head()"
   ]
  },
  {
   "cell_type": "code",
   "execution_count": 155,
   "metadata": {},
   "outputs": [
    {
     "output_type": "execute_result",
     "data": {
      "text/plain": [
       "(103, 3)"
      ]
     },
     "metadata": {},
     "execution_count": 155
    }
   ],
   "source": [
    "df_to_neighborhoods.shape"
   ]
  },
  {
   "source": [
    "### Add location data of the neighborhoods in Toronto\n",
    "\n",
    "Google Maps Geocoding API started to cost therefore geocoder is used, however it is a bit unreliable it seems, thus we need to download an .CSV file with data of the coordinates"
   ],
   "cell_type": "markdown",
   "metadata": {}
  },
  {
   "cell_type": "code",
   "execution_count": 156,
   "metadata": {},
   "outputs": [
    {
     "output_type": "execute_result",
     "data": {
      "text/plain": [
       "  Postal Code   Latitude  Longitude\n",
       "0         M1B  43.806686 -79.194353\n",
       "1         M1C  43.784535 -79.160497\n",
       "2         M1E  43.763573 -79.188711\n",
       "3         M1G  43.770992 -79.216917\n",
       "4         M1H  43.773136 -79.239476"
      ],
      "text/html": "<div>\n<style scoped>\n    .dataframe tbody tr th:only-of-type {\n        vertical-align: middle;\n    }\n\n    .dataframe tbody tr th {\n        vertical-align: top;\n    }\n\n    .dataframe thead th {\n        text-align: right;\n    }\n</style>\n<table border=\"1\" class=\"dataframe\">\n  <thead>\n    <tr style=\"text-align: right;\">\n      <th></th>\n      <th>Postal Code</th>\n      <th>Latitude</th>\n      <th>Longitude</th>\n    </tr>\n  </thead>\n  <tbody>\n    <tr>\n      <th>0</th>\n      <td>M1B</td>\n      <td>43.806686</td>\n      <td>-79.194353</td>\n    </tr>\n    <tr>\n      <th>1</th>\n      <td>M1C</td>\n      <td>43.784535</td>\n      <td>-79.160497</td>\n    </tr>\n    <tr>\n      <th>2</th>\n      <td>M1E</td>\n      <td>43.763573</td>\n      <td>-79.188711</td>\n    </tr>\n    <tr>\n      <th>3</th>\n      <td>M1G</td>\n      <td>43.770992</td>\n      <td>-79.216917</td>\n    </tr>\n    <tr>\n      <th>4</th>\n      <td>M1H</td>\n      <td>43.773136</td>\n      <td>-79.239476</td>\n    </tr>\n  </tbody>\n</table>\n</div>"
     },
     "metadata": {},
     "execution_count": 156
    }
   ],
   "source": [
    "df_to_coordinates=pd.read_csv('../datafiles/Geospatial_Coordinates.csv')\n",
    "df_to_coordinates.head()"
   ]
  },
  {
   "cell_type": "code",
   "execution_count": 157,
   "metadata": {},
   "outputs": [],
   "source": [
    "import geocoder # import geocoder\n",
    "import geopy\n",
    "from geopy.geocoders import Nominatim"
   ]
  },
  {
   "cell_type": "code",
   "execution_count": 158,
   "metadata": {},
   "outputs": [],
   "source": [
    "# Coordinate arrays\n",
    "lat_to_list=np.array([])\n",
    "long_to_list=np.array([])\n",
    "\n",
    "for i, pcode in enumerate(df_to_neighborhoods['Postal Code']):\n",
    "    # print(i, pcode)\n",
    "    # initialize your variable to None\n",
    "    lat_coords =None\n",
    "    lng_coords =None\n",
    "    \n",
    "\n",
    "    locator = Nominatim(user_agent=\"myGeocoder\")\n",
    "    count = 0\n",
    "    # loop until you get the coordinates\n",
    "    while(lng_coords is None):\n",
    "        location = locator.geocode('{}, Toronto, Ontario'.format(pcode))\n",
    "        try:\n",
    "            lat_coords = location.latitude\n",
    "            lng_coords = location.longitude\n",
    "            # print(\"Coordinates: \"+ str(lat_coords) + \", \"+str(lng_coords) )\n",
    "        except:\n",
    "            lat_coords =None\n",
    "            lng_coords =None\n",
    "\n",
    "        if count == 3:  # the limit\n",
    "            # print(\" Error 'Location' not found in Geocode! Switching to CSV file\")\n",
    "            lat_coords = df_to_coordinates.loc[ df_to_coordinates['Postal Code'] == pcode ]['Latitude'].to_list()[0]\n",
    "            lng_coords = df_to_coordinates.loc[ df_to_coordinates['Postal Code'] == pcode ]['Longitude'].to_list()[0]\n",
    "            # print(\"\\nCoordinates: \"+ str(lat_coords) + \", \"+str(lng_coords) )\n",
    "        # if count == 3:\n",
    "        #     print(\"Error count = 3\")\n",
    "        #     break\n",
    "\n",
    "        count = count + 1\n",
    "\n",
    "    lat_to_list= np.append(lat_to_list, lat_coords)\n",
    "    long_to_list= np.append(long_to_list, lng_coords)"
   ]
  },
  {
   "cell_type": "code",
   "execution_count": 148,
   "metadata": {},
   "outputs": [],
   "source": [
    "# print(lat_to_list.shape, long_to_list.shape)\n",
    "# lat_to_list"
   ]
  },
  {
   "cell_type": "code",
   "execution_count": 159,
   "metadata": {},
   "outputs": [
    {
     "output_type": "execute_result",
     "data": {
      "text/plain": [
       "  Postal Code           Borough                                Neighbourhood  \\\n",
       "0         M3A        North York                                    Parkwoods   \n",
       "1         M4A        North York                             Victoria Village   \n",
       "2         M5A  Downtown Toronto                    Regent Park, Harbourfront   \n",
       "3         M6A        North York             Lawrence Manor, Lawrence Heights   \n",
       "4         M7A  Downtown Toronto  Queen's Park, Ontario Provincial Government   \n",
       "\n",
       "    Latitude  Longitude  \n",
       "0  43.653482 -79.383935  \n",
       "1  43.725882 -79.315572  \n",
       "2  43.654260 -79.360636  \n",
       "3  43.718518 -79.464763  \n",
       "4  43.653482 -79.383935  "
      ],
      "text/html": "<div>\n<style scoped>\n    .dataframe tbody tr th:only-of-type {\n        vertical-align: middle;\n    }\n\n    .dataframe tbody tr th {\n        vertical-align: top;\n    }\n\n    .dataframe thead th {\n        text-align: right;\n    }\n</style>\n<table border=\"1\" class=\"dataframe\">\n  <thead>\n    <tr style=\"text-align: right;\">\n      <th></th>\n      <th>Postal Code</th>\n      <th>Borough</th>\n      <th>Neighbourhood</th>\n      <th>Latitude</th>\n      <th>Longitude</th>\n    </tr>\n  </thead>\n  <tbody>\n    <tr>\n      <th>0</th>\n      <td>M3A</td>\n      <td>North York</td>\n      <td>Parkwoods</td>\n      <td>43.653482</td>\n      <td>-79.383935</td>\n    </tr>\n    <tr>\n      <th>1</th>\n      <td>M4A</td>\n      <td>North York</td>\n      <td>Victoria Village</td>\n      <td>43.725882</td>\n      <td>-79.315572</td>\n    </tr>\n    <tr>\n      <th>2</th>\n      <td>M5A</td>\n      <td>Downtown Toronto</td>\n      <td>Regent Park, Harbourfront</td>\n      <td>43.654260</td>\n      <td>-79.360636</td>\n    </tr>\n    <tr>\n      <th>3</th>\n      <td>M6A</td>\n      <td>North York</td>\n      <td>Lawrence Manor, Lawrence Heights</td>\n      <td>43.718518</td>\n      <td>-79.464763</td>\n    </tr>\n    <tr>\n      <th>4</th>\n      <td>M7A</td>\n      <td>Downtown Toronto</td>\n      <td>Queen's Park, Ontario Provincial Government</td>\n      <td>43.653482</td>\n      <td>-79.383935</td>\n    </tr>\n  </tbody>\n</table>\n</div>"
     },
     "metadata": {},
     "execution_count": 159
    }
   ],
   "source": [
    "df_to_neighborhoods[\"Latitude\"]=lat_to_list\n",
    "df_to_neighborhoods[\"Longitude\"]=long_to_list\n",
    "df_to_neighborhoods.head()"
   ]
  },
  {
   "cell_type": "code",
   "execution_count": 161,
   "metadata": {},
   "outputs": [
    {
     "output_type": "execute_result",
     "data": {
      "text/plain": [
       "(103, 5)"
      ]
     },
     "metadata": {},
     "execution_count": 161
    }
   ],
   "source": [
    "df_to_neighborhoods.shape"
   ]
  },
  {
   "source": [
    "### Now adding weather data of the city New York\n",
    "\n",
    "1. we take a look at city level temp data\n",
    "\n",
    "2. we use openweathermap api to get last 5 days daily temperature and the most frequent weather to compare. \n",
    "   An average of the neighborhoods temperature and the most common weathers would have been preferred."
   ],
   "cell_type": "markdown",
   "metadata": {}
  },
  {
   "cell_type": "code",
   "execution_count": 147,
   "metadata": {},
   "outputs": [],
   "source": [
    "url = 'https://en.wikipedia.org/wiki/List_of_cities_by_average_temperature'\n",
    "df_city_weather_eu = pd.read_html(url, attrs={\"class\": \"wikitable\"})[2]   # 0 is for the 1st table in this particular page\n",
    "df_city_weather_na = pd.read_html(url, attrs={\"class\": \"wikitable\"})[3]\n",
    "df_city_weather = pd.concat([df_city_weather_eu, df_city_weather_na])\n",
    "# df_city_weather.head()"
   ]
  },
  {
   "source": [
    "Clean the data"
   ],
   "cell_type": "markdown",
   "metadata": {}
  },
  {
   "cell_type": "code",
   "execution_count": 146,
   "metadata": {},
   "outputs": [
    {
     "output_type": "execute_result",
     "data": {
      "text/plain": [
       "          Country           City   Jan   Feb  Mar   Apr   May   Jun   Jul  \\\n",
       "60         Sweden      Stockholm  −2.8  −3.0  0.1   4.6  10.7  15.6  17.2   \n",
       "16         Canada        Toronto  −3.7  −2.6  1.4   7.9  14.1  19.4  22.3   \n",
       "77  United States  New York City   0.6   2.1  6.1  11.9  17.1  22.1  24.9   \n",
       "\n",
       "     Aug   Sep   Oct  Nov   Dec  Year  \n",
       "60  16.2  11.9   7.5  2.6  −1.0   6.6  \n",
       "16  21.5  17.2  10.7  4.9  −0.5   9.4  \n",
       "77  24.3  20.2  14.1  8.9   3.3  12.9  "
      ],
      "text/html": "<div>\n<style scoped>\n    .dataframe tbody tr th:only-of-type {\n        vertical-align: middle;\n    }\n\n    .dataframe tbody tr th {\n        vertical-align: top;\n    }\n\n    .dataframe thead th {\n        text-align: right;\n    }\n</style>\n<table border=\"1\" class=\"dataframe\">\n  <thead>\n    <tr style=\"text-align: right;\">\n      <th></th>\n      <th>Country</th>\n      <th>City</th>\n      <th>Jan</th>\n      <th>Feb</th>\n      <th>Mar</th>\n      <th>Apr</th>\n      <th>May</th>\n      <th>Jun</th>\n      <th>Jul</th>\n      <th>Aug</th>\n      <th>Sep</th>\n      <th>Oct</th>\n      <th>Nov</th>\n      <th>Dec</th>\n      <th>Year</th>\n    </tr>\n  </thead>\n  <tbody>\n    <tr>\n      <th>60</th>\n      <td>Sweden</td>\n      <td>Stockholm</td>\n      <td>−2.8</td>\n      <td>−3.0</td>\n      <td>0.1</td>\n      <td>4.6</td>\n      <td>10.7</td>\n      <td>15.6</td>\n      <td>17.2</td>\n      <td>16.2</td>\n      <td>11.9</td>\n      <td>7.5</td>\n      <td>2.6</td>\n      <td>−1.0</td>\n      <td>6.6</td>\n    </tr>\n    <tr>\n      <th>16</th>\n      <td>Canada</td>\n      <td>Toronto</td>\n      <td>−3.7</td>\n      <td>−2.6</td>\n      <td>1.4</td>\n      <td>7.9</td>\n      <td>14.1</td>\n      <td>19.4</td>\n      <td>22.3</td>\n      <td>21.5</td>\n      <td>17.2</td>\n      <td>10.7</td>\n      <td>4.9</td>\n      <td>−0.5</td>\n      <td>9.4</td>\n    </tr>\n    <tr>\n      <th>77</th>\n      <td>United States</td>\n      <td>New York City</td>\n      <td>0.6</td>\n      <td>2.1</td>\n      <td>6.1</td>\n      <td>11.9</td>\n      <td>17.1</td>\n      <td>22.1</td>\n      <td>24.9</td>\n      <td>24.3</td>\n      <td>20.2</td>\n      <td>14.1</td>\n      <td>8.9</td>\n      <td>3.3</td>\n      <td>12.9</td>\n    </tr>\n  </tbody>\n</table>\n</div>"
     },
     "metadata": {},
     "execution_count": 146
    }
   ],
   "source": [
    "# remove the farenheit temperature values\n",
    "weather_months = df_city_weather.columns.drop(['Country','City','Ref.']) # list of months\n",
    "\n",
    "for month in  weather_months:\n",
    "    df_city_weather[str(month)] = df_city_weather[str(month)].str.replace(r\"\\(.*\\)\",\"\") # Remove the parenthesis + the within\n",
    "\n",
    "# drop the ref column\n",
    "df_city_weather = df_city_weather.drop(['Ref.'], axis=1) \n",
    "\n",
    "# the cities average temperatures in celsius\n",
    "# df_city_weather.head()\n",
    "\n",
    "# cities of interest\n",
    "df_city_weather[df_city_weather[\"City\"].str.lower().str.contains(\"stock|new york|toro\")]\n",
    "# pd.set_option('display.max_columns', None)"
   ]
  },
  {
   "source": [
    "### use another data source \n",
    "the the used wikipedia page since a city level is not detailed enough."
   ],
   "cell_type": "markdown",
   "metadata": {}
  },
  {
   "cell_type": "code",
   "execution_count": 201,
   "metadata": {},
   "outputs": [],
   "source": [
    "openweathermap_api_key = config.openweathermap_api_key\n",
    "lat       = 43.648198\n",
    "lon       = -79.379817\n"
   ]
  },
  {
   "cell_type": "code",
   "execution_count": 202,
   "metadata": {},
   "outputs": [],
   "source": [
    "url = \"https://api.openweathermap.org/data/2.5/onecall?lat={}&lon={}&exclude={}&appid={}\".format(lat, lon, \"current,minutely,hourly,alerts\", openweathermap_api_key)"
   ]
  },
  {
   "cell_type": "code",
   "execution_count": 203,
   "metadata": {},
   "outputs": [],
   "source": [
    "results = requests.get(url).json()"
   ]
  },
  {
   "cell_type": "code",
   "execution_count": 204,
   "metadata": {},
   "outputs": [
    {
     "output_type": "execute_result",
     "data": {
      "text/plain": [
       "dict_keys(['lat', 'lon', 'timezone', 'timezone_offset', 'daily'])"
      ]
     },
     "metadata": {},
     "execution_count": 204
    }
   ],
   "source": [
    "results.keys()\n",
    "# results['current']['temp']\n",
    "# results['daily'][0].keys()\n",
    "# results['daily'][0]['weather'][0]['main']\n",
    "# results['daily'][0]['dt']\n",
    "# results['daily'][0]['temp']['day']"
   ]
  },
  {
   "cell_type": "code",
   "execution_count": 205,
   "metadata": {},
   "outputs": [
    {
     "output_type": "stream",
     "name": "stdout",
     "text": [
      "Mean temp:  11.15375\nmost frequent weather:  Clouds\n"
     ]
    },
    {
     "output_type": "execute_result",
     "data": {
      "text/plain": [
       "    temp weather                             date\n",
       "0   8.39    Rain  Sun, 01 Nov 2020 18:00:00 +0000\n",
       "1   4.70  Clouds  Sun, 01 Nov 2020 18:00:00 +0000\n",
       "2   3.78  Clouds  Sun, 01 Nov 2020 18:00:00 +0000\n",
       "3  13.29   Clear  Sun, 01 Nov 2020 18:00:00 +0000\n",
       "4  14.02  Clouds  Sun, 01 Nov 2020 18:00:00 +0000"
      ],
      "text/html": "<div>\n<style scoped>\n    .dataframe tbody tr th:only-of-type {\n        vertical-align: middle;\n    }\n\n    .dataframe tbody tr th {\n        vertical-align: top;\n    }\n\n    .dataframe thead th {\n        text-align: right;\n    }\n</style>\n<table border=\"1\" class=\"dataframe\">\n  <thead>\n    <tr style=\"text-align: right;\">\n      <th></th>\n      <th>temp</th>\n      <th>weather</th>\n      <th>date</th>\n    </tr>\n  </thead>\n  <tbody>\n    <tr>\n      <th>0</th>\n      <td>8.39</td>\n      <td>Rain</td>\n      <td>Sun, 01 Nov 2020 18:00:00 +0000</td>\n    </tr>\n    <tr>\n      <th>1</th>\n      <td>4.70</td>\n      <td>Clouds</td>\n      <td>Sun, 01 Nov 2020 18:00:00 +0000</td>\n    </tr>\n    <tr>\n      <th>2</th>\n      <td>3.78</td>\n      <td>Clouds</td>\n      <td>Sun, 01 Nov 2020 18:00:00 +0000</td>\n    </tr>\n    <tr>\n      <th>3</th>\n      <td>13.29</td>\n      <td>Clear</td>\n      <td>Sun, 01 Nov 2020 18:00:00 +0000</td>\n    </tr>\n    <tr>\n      <th>4</th>\n      <td>14.02</td>\n      <td>Clouds</td>\n      <td>Sun, 01 Nov 2020 18:00:00 +0000</td>\n    </tr>\n  </tbody>\n</table>\n</div>"
     },
     "metadata": {},
     "execution_count": 205
    }
   ],
   "source": [
    "weather_yesterday=[]\n",
    "for i,a in enumerate(results['daily']):\n",
    "    # print(i)\n",
    "    # print(str(round( results['daily'][i]['temp']['day'] -273, 2)) +\" C.  \"+ str(results['daily'][i]['weather'][0]['main'])+ \"  \" +str( time.strftime(\"%a, %d %b %Y %H:%M:%S +0000\", time.localtime(results['daily'][0]['dt'])) ) )\n",
    "    weather_yesterday.append([round( results['daily'][i]['temp']['day'] -273.15, 2), results['daily'][i]['weather'][0]['main'], time.strftime(\"%a, %d %b %Y %H:%M:%S +0000\", time.localtime(results['daily'][0]['dt'])) ])\n",
    "\n",
    "df_weather_yesterday=pd.DataFrame(weather_yesterday, columns=['temp','weather','date'])\n",
    "print(\"Mean temp: \",df_weather_yesterday['temp'].mean())\n",
    "# print(\"weather: \",Counter(df_weather_yesterday['weather']))\n",
    "print(\"most frequent weather: \", df_weather_yesterday['weather'].value_counts()[:1].index[0])\n",
    "\n",
    "df_weather_yesterday.head()"
   ]
  },
  {
   "source": [
    "include data in df"
   ],
   "cell_type": "markdown",
   "metadata": {}
  },
  {
   "cell_type": "code",
   "execution_count": 213,
   "metadata": {},
   "outputs": [],
   "source": [
    "weather_mean_temp=np.array([])\n",
    "weather_most_freq_weather=np.array([])\n",
    "\n",
    "# get coordinates for all neighborhoods\n",
    "for lat,lon in df_to_neighborhoods[['Latitude', 'Longitude']].itertuples(index=False):\n",
    "\n",
    "    # Get data from api, with coordinates\n",
    "    url = \"https://api.openweathermap.org/data/2.5/onecall?lat={}&lon={}&exclude={}&appid={}\".format(lat, lon, \"current,minutely,hourly,alerts\", openweathermap_api_key)\n",
    "    weather_data = requests.get(url).json()\n",
    "    \n",
    "    # there is a constraint that MAX 60 api-calls per minutes can be made\n",
    "    time.sleep(2)\n",
    "    \n",
    "    # get weather data for last 5 days and get mean ans most freq\n",
    "    weather_last_5=[]\n",
    "    for i in range(0,len(weather_data['daily'])):\n",
    "        # print(weather_data['daily'][i]['temp']['day'])\n",
    "        # clean and add data in dataframe\n",
    "        weather_last_5.append([ round( weather_data['daily'][i]['temp']['day'] -273.15, 2),  weather_data['daily'][i]['weather'][0]['main'] ])\n",
    "    df_weather_last_5=pd.DataFrame(weather_last_5, columns=['temp','weather'])\n",
    "    \n",
    "    # calculate mean temp and most frequent weather, the last 5 days\n",
    "    mean_temperature=df_weather_last_5['temp'].mean()\n",
    "    most_freq_weather=df_weather_last_5['weather'].value_counts()[:1].index[0]\n",
    "\n",
    "    \n",
    "    weather_mean_temp= np.append(weather_mean_temp, mean_temperature)\n",
    "    weather_most_freq_weather= np.append(weather_most_freq_weather, most_freq_weather)"
   ]
  },
  {
   "cell_type": "code",
   "execution_count": 215,
   "metadata": {},
   "outputs": [
    {
     "output_type": "stream",
     "name": "stdout",
     "text": [
      "Mean temp:  11.20625\n"
     ]
    },
    {
     "output_type": "execute_result",
     "data": {
      "text/plain": [
       "0     7.29\n",
       "1     4.47\n",
       "2     3.83\n",
       "3    13.57\n",
       "4    14.26\n",
       "5    14.16\n",
       "6    15.87\n",
       "7    16.20\n",
       "Name: temp, dtype: float64"
      ]
     },
     "metadata": {},
     "execution_count": 215
    }
   ],
   "source": [
    "print(\"Mean temp: \",df_weather_last_5['temp'].mean())\n",
    "df_weather_last_5['temp']"
   ]
  },
  {
   "cell_type": "code",
   "execution_count": 214,
   "metadata": {},
   "outputs": [
    {
     "output_type": "execute_result",
     "data": {
      "text/plain": [
       "  Postal Code           Borough                                Neighbourhood  \\\n",
       "0         M3A        North York                                    Parkwoods   \n",
       "1         M4A        North York                             Victoria Village   \n",
       "2         M5A  Downtown Toronto                    Regent Park, Harbourfront   \n",
       "3         M6A        North York             Lawrence Manor, Lawrence Heights   \n",
       "4         M7A  Downtown Toronto  Queen's Park, Ontario Provincial Government   \n",
       "\n",
       "    Latitude  Longitude  mean_temp_last5days most_freq_weather_last5days  \n",
       "0  43.653482 -79.383935             11.06625                      Clouds  \n",
       "1  43.725882 -79.315572             11.03875                      Clouds  \n",
       "2  43.654260 -79.360636             11.01625                      Clouds  \n",
       "3  43.718518 -79.464763             10.97875                      Clouds  \n",
       "4  43.653482 -79.383935             11.06625                      Clouds  "
      ],
      "text/html": "<div>\n<style scoped>\n    .dataframe tbody tr th:only-of-type {\n        vertical-align: middle;\n    }\n\n    .dataframe tbody tr th {\n        vertical-align: top;\n    }\n\n    .dataframe thead th {\n        text-align: right;\n    }\n</style>\n<table border=\"1\" class=\"dataframe\">\n  <thead>\n    <tr style=\"text-align: right;\">\n      <th></th>\n      <th>Postal Code</th>\n      <th>Borough</th>\n      <th>Neighbourhood</th>\n      <th>Latitude</th>\n      <th>Longitude</th>\n      <th>mean_temp_last5days</th>\n      <th>most_freq_weather_last5days</th>\n    </tr>\n  </thead>\n  <tbody>\n    <tr>\n      <th>0</th>\n      <td>M3A</td>\n      <td>North York</td>\n      <td>Parkwoods</td>\n      <td>43.653482</td>\n      <td>-79.383935</td>\n      <td>11.06625</td>\n      <td>Clouds</td>\n    </tr>\n    <tr>\n      <th>1</th>\n      <td>M4A</td>\n      <td>North York</td>\n      <td>Victoria Village</td>\n      <td>43.725882</td>\n      <td>-79.315572</td>\n      <td>11.03875</td>\n      <td>Clouds</td>\n    </tr>\n    <tr>\n      <th>2</th>\n      <td>M5A</td>\n      <td>Downtown Toronto</td>\n      <td>Regent Park, Harbourfront</td>\n      <td>43.654260</td>\n      <td>-79.360636</td>\n      <td>11.01625</td>\n      <td>Clouds</td>\n    </tr>\n    <tr>\n      <th>3</th>\n      <td>M6A</td>\n      <td>North York</td>\n      <td>Lawrence Manor, Lawrence Heights</td>\n      <td>43.718518</td>\n      <td>-79.464763</td>\n      <td>10.97875</td>\n      <td>Clouds</td>\n    </tr>\n    <tr>\n      <th>4</th>\n      <td>M7A</td>\n      <td>Downtown Toronto</td>\n      <td>Queen's Park, Ontario Provincial Government</td>\n      <td>43.653482</td>\n      <td>-79.383935</td>\n      <td>11.06625</td>\n      <td>Clouds</td>\n    </tr>\n  </tbody>\n</table>\n</div>"
     },
     "metadata": {},
     "execution_count": 214
    }
   ],
   "source": [
    "df_to_neighborhoods[\"mean_temp_last5days\"]=weather_mean_temp\n",
    "df_to_neighborhoods[\"most_freq_weather_last5days\"]=weather_most_freq_weather\n",
    "df_to_neighborhoods.head()"
   ]
  },
  {
   "cell_type": "code",
   "execution_count": 216,
   "metadata": {},
   "outputs": [
    {
     "output_type": "execute_result",
     "data": {
      "text/plain": [
       "    Postal Code           Borough  \\\n",
       "0           M3A        North York   \n",
       "1           M4A        North York   \n",
       "2           M5A  Downtown Toronto   \n",
       "3           M6A        North York   \n",
       "4           M7A  Downtown Toronto   \n",
       "..          ...               ...   \n",
       "98          M8X         Etobicoke   \n",
       "99          M4Y  Downtown Toronto   \n",
       "100         M7Y      East Toronto   \n",
       "101         M8Y         Etobicoke   \n",
       "102         M8Z         Etobicoke   \n",
       "\n",
       "                                         Neighbourhood   Latitude  Longitude  \\\n",
       "0                                            Parkwoods  43.653482 -79.383935   \n",
       "1                                     Victoria Village  43.725882 -79.315572   \n",
       "2                            Regent Park, Harbourfront  43.654260 -79.360636   \n",
       "3                     Lawrence Manor, Lawrence Heights  43.718518 -79.464763   \n",
       "4          Queen's Park, Ontario Provincial Government  43.653482 -79.383935   \n",
       "..                                                 ...        ...        ...   \n",
       "98       The Kingsway, Montgomery Road, Old Mill North  43.653654 -79.506944   \n",
       "99                                Church and Wellesley  43.665860 -79.383160   \n",
       "100  Business reply mail Processing Centre, South C...  43.662744 -79.321558   \n",
       "101  Old Mill South, King's Mill Park, Sunnylea, Hu...  43.636258 -79.498509   \n",
       "102  Mimico NW, The Queensway West, South of Bloor,...  43.628841 -79.520999   \n",
       "\n",
       "     mean_temp_last5days most_freq_weather_last5days  \n",
       "0               11.06625                      Clouds  \n",
       "1               11.03875                      Clouds  \n",
       "2               11.01625                      Clouds  \n",
       "3               10.97875                      Clouds  \n",
       "4               11.06625                      Clouds  \n",
       "..                   ...                         ...  \n",
       "98              11.25125                      Clouds  \n",
       "99              11.00125                      Clouds  \n",
       "100             10.96000                      Clouds  \n",
       "101             11.23625                      Clouds  \n",
       "102             11.20625                      Clouds  \n",
       "\n",
       "[103 rows x 7 columns]"
      ],
      "text/html": "<div>\n<style scoped>\n    .dataframe tbody tr th:only-of-type {\n        vertical-align: middle;\n    }\n\n    .dataframe tbody tr th {\n        vertical-align: top;\n    }\n\n    .dataframe thead th {\n        text-align: right;\n    }\n</style>\n<table border=\"1\" class=\"dataframe\">\n  <thead>\n    <tr style=\"text-align: right;\">\n      <th></th>\n      <th>Postal Code</th>\n      <th>Borough</th>\n      <th>Neighbourhood</th>\n      <th>Latitude</th>\n      <th>Longitude</th>\n      <th>mean_temp_last5days</th>\n      <th>most_freq_weather_last5days</th>\n    </tr>\n  </thead>\n  <tbody>\n    <tr>\n      <th>0</th>\n      <td>M3A</td>\n      <td>North York</td>\n      <td>Parkwoods</td>\n      <td>43.653482</td>\n      <td>-79.383935</td>\n      <td>11.06625</td>\n      <td>Clouds</td>\n    </tr>\n    <tr>\n      <th>1</th>\n      <td>M4A</td>\n      <td>North York</td>\n      <td>Victoria Village</td>\n      <td>43.725882</td>\n      <td>-79.315572</td>\n      <td>11.03875</td>\n      <td>Clouds</td>\n    </tr>\n    <tr>\n      <th>2</th>\n      <td>M5A</td>\n      <td>Downtown Toronto</td>\n      <td>Regent Park, Harbourfront</td>\n      <td>43.654260</td>\n      <td>-79.360636</td>\n      <td>11.01625</td>\n      <td>Clouds</td>\n    </tr>\n    <tr>\n      <th>3</th>\n      <td>M6A</td>\n      <td>North York</td>\n      <td>Lawrence Manor, Lawrence Heights</td>\n      <td>43.718518</td>\n      <td>-79.464763</td>\n      <td>10.97875</td>\n      <td>Clouds</td>\n    </tr>\n    <tr>\n      <th>4</th>\n      <td>M7A</td>\n      <td>Downtown Toronto</td>\n      <td>Queen's Park, Ontario Provincial Government</td>\n      <td>43.653482</td>\n      <td>-79.383935</td>\n      <td>11.06625</td>\n      <td>Clouds</td>\n    </tr>\n    <tr>\n      <th>...</th>\n      <td>...</td>\n      <td>...</td>\n      <td>...</td>\n      <td>...</td>\n      <td>...</td>\n      <td>...</td>\n      <td>...</td>\n    </tr>\n    <tr>\n      <th>98</th>\n      <td>M8X</td>\n      <td>Etobicoke</td>\n      <td>The Kingsway, Montgomery Road, Old Mill North</td>\n      <td>43.653654</td>\n      <td>-79.506944</td>\n      <td>11.25125</td>\n      <td>Clouds</td>\n    </tr>\n    <tr>\n      <th>99</th>\n      <td>M4Y</td>\n      <td>Downtown Toronto</td>\n      <td>Church and Wellesley</td>\n      <td>43.665860</td>\n      <td>-79.383160</td>\n      <td>11.00125</td>\n      <td>Clouds</td>\n    </tr>\n    <tr>\n      <th>100</th>\n      <td>M7Y</td>\n      <td>East Toronto</td>\n      <td>Business reply mail Processing Centre, South C...</td>\n      <td>43.662744</td>\n      <td>-79.321558</td>\n      <td>10.96000</td>\n      <td>Clouds</td>\n    </tr>\n    <tr>\n      <th>101</th>\n      <td>M8Y</td>\n      <td>Etobicoke</td>\n      <td>Old Mill South, King's Mill Park, Sunnylea, Hu...</td>\n      <td>43.636258</td>\n      <td>-79.498509</td>\n      <td>11.23625</td>\n      <td>Clouds</td>\n    </tr>\n    <tr>\n      <th>102</th>\n      <td>M8Z</td>\n      <td>Etobicoke</td>\n      <td>Mimico NW, The Queensway West, South of Bloor,...</td>\n      <td>43.628841</td>\n      <td>-79.520999</td>\n      <td>11.20625</td>\n      <td>Clouds</td>\n    </tr>\n  </tbody>\n</table>\n<p>103 rows × 7 columns</p>\n</div>"
     },
     "metadata": {},
     "execution_count": 216
    }
   ],
   "source": [
    "pd.set_option('display.max_columns', None)\n",
    "df_to_neighborhoods"
   ]
  },
  {
   "cell_type": "code",
   "execution_count": null,
   "metadata": {},
   "outputs": [],
   "source": []
  },
  {
   "cell_type": "code",
   "execution_count": 374,
   "metadata": {},
   "outputs": [],
   "source": [
    "url = 'https://www.numbeo.com/crime/rankings.jsp'\n",
    "df_city_weather = pd.read_html(url)[1]   # 0 is for the 1st table in this particular page\n",
    "# df_city_weather.head()\n",
    "df_city_weather.drop(['Rank'], axis=1, inplace=True) # drop rank dol since only nan\n",
    "df_city_weather['Rank'] = df_city_weather.index # add index as rank, since they are ordered by rank\n",
    "# df_city_weather['City'].str.split(',', expand=True)[2].unique()\n",
    "df_city_weather=pd.concat([df_city_weather, df_city_weather['City'].str.split(', ', expand=True)], axis=1)\n",
    "# df_city_weather\n",
    "# ~pd.notna(df_city_weather[2])"
   ]
  },
  {
   "cell_type": "code",
   "execution_count": 375,
   "metadata": {},
   "outputs": [
    {
     "output_type": "stream",
     "name": "stdout",
     "text": [
      "    Crime Index  Safety Index  Rank              City              Country\n0         84.57         15.43     0           Caracas            Venezuela\n1         81.89         18.11     1          Pretoria         South Africa\n2         81.35         18.65     2    San Pedro Sula             Honduras\n3         81.05         18.95     3      Port Moresby     Papua New Guinea\n4         80.93         19.07     4  Pietermaritzburg         South Africa\n5         80.80         19.20     5            Durban         South Africa\n6         80.31         19.69     6      Johannesburg         South Africa\n7         78.51         21.49     7         Fortaleza               Brazil\n8         77.42         22.58     8    Rio de Janeiro               Brazil\n9         77.22         22.78     9             Kabul          Afghanistan\n10        76.85         23.15    10    Port Elizabeth         South Africa\n11        76.81         23.19    11            Recife               Brazil\n12        75.79         24.21    12      Porto Alegre               Brazil\n13        75.70         24.30    13     Port of Spain  Trinidad And Tobago\n14        75.61         24.39    14           Memphis    TN, United States\n15        75.60         24.40    15          Salvador               Brazil\n16        74.75         25.25    16         Baltimore    MD, United States\n17        73.79         26.21    17           Detroit    MI, United States\n18        73.67         26.33    18         Cape Town         South Africa\n19        71.51         28.49    19             Klang             Malaysia\n"
     ]
    }
   ],
   "source": [
    "# fixa \n",
    "# print(Counter(~pd.notna(df_city_weather[2])))\n",
    "# print(Counter(df_city_weather[2]))\n",
    "# print(Counter(df_city_weather[1]))\n",
    "# df_city_weather[pd.notna(df_city_weather[2])][1] =  df_city_weather[pd.notna(df_city_weather[2])][1].astype(str) + \",  \"\n",
    "# df_city_weather[~pd.notna(df_city_weather[2])][2].str.replace(None,\"a\")\n",
    "df_city_weather.loc[pd.notna(df_city_weather[2]), 2]=\", \"+df_city_weather.loc[pd.notna(df_city_weather[2]), 2].astype(str)\n",
    "df_city_weather[2].fillna(\"\",inplace=True)\n",
    "# df_city_weather.head(20)\n",
    "# # df_city_weather[2]\n",
    "\n",
    "df_city_weather['Country']=df_city_weather[1].str.cat(df_city_weather[2])\n",
    "# # # # df_city_weather[df_city_weather[1]!=\"\"]\n",
    "# # # # df_city_weather[df_city_weather[1]==None]\n",
    "# # # df_city_weather[pd.notna(df_city_weather[2])][1] \n",
    "\n",
    "df_city_weather.drop([1,2,\"City\"],axis=1, inplace=True)\n",
    "df_city_weather.rename(columns={0:'City'},inplace=True)\n",
    "print(df_city_weather.head(20))\n"
   ]
  },
  {
   "cell_type": "code",
   "execution_count": 376,
   "metadata": {},
   "outputs": [],
   "source": [
    "# print(df_city_weather[[0,1,2, 'Country']].head(20))\n",
    "# print(Counter(df_city_weather['Country']))\n",
    "# print(df_city_weather.head(20))"
   ]
  },
  {
   "cell_type": "code",
   "execution_count": 377,
   "metadata": {},
   "outputs": [
    {
     "output_type": "execute_result",
     "data": {
      "text/plain": [
       "       col       col2\n",
       "0       aa       d aa\n",
       "1  adsadaf  d adsadaf\n",
       "2   fafwfe   d fafwfe\n",
       "3       de       d de\n",
       "4  Ecuador  d Ecuador"
      ],
      "text/html": "<div>\n<style scoped>\n    .dataframe tbody tr th:only-of-type {\n        vertical-align: middle;\n    }\n\n    .dataframe tbody tr th {\n        vertical-align: top;\n    }\n\n    .dataframe thead th {\n        text-align: right;\n    }\n</style>\n<table border=\"1\" class=\"dataframe\">\n  <thead>\n    <tr style=\"text-align: right;\">\n      <th></th>\n      <th>col</th>\n      <th>col2</th>\n    </tr>\n  </thead>\n  <tbody>\n    <tr>\n      <th>0</th>\n      <td>aa</td>\n      <td>d aa</td>\n    </tr>\n    <tr>\n      <th>1</th>\n      <td>adsadaf</td>\n      <td>d adsadaf</td>\n    </tr>\n    <tr>\n      <th>2</th>\n      <td>fafwfe</td>\n      <td>d fafwfe</td>\n    </tr>\n    <tr>\n      <th>3</th>\n      <td>de</td>\n      <td>d de</td>\n    </tr>\n    <tr>\n      <th>4</th>\n      <td>Ecuador</td>\n      <td>d Ecuador</td>\n    </tr>\n  </tbody>\n</table>\n</div>"
     },
     "metadata": {},
     "execution_count": 377
    }
   ],
   "source": [
    "A=['aa','adsadaf', 'fafwfe','de', 'Ecuador']\n",
    "eb=pd.DataFrame({'col':A})\n",
    "eb['col2'] = 'd ' + eb['col'].astype(str)\n",
    "eb"
   ]
  },
  {
   "cell_type": "code",
   "execution_count": 378,
   "metadata": {},
   "outputs": [
    {
     "output_type": "execute_result",
     "data": {
      "text/plain": [
       "      country_region_code country_region            sub_region_1  \\\n",
       "0                      SE         Sweden                     NaN   \n",
       "1                      SE         Sweden                     NaN   \n",
       "2                      SE         Sweden                     NaN   \n",
       "3                      SE         Sweden                     NaN   \n",
       "4                      SE         Sweden                     NaN   \n",
       "...                   ...            ...                     ...   \n",
       "53730                  SE         Sweden  Västra Götaland County   \n",
       "53731                  SE         Sweden  Västra Götaland County   \n",
       "53732                  SE         Sweden  Västra Götaland County   \n",
       "53733                  SE         Sweden  Västra Götaland County   \n",
       "53734                  SE         Sweden  Västra Götaland County   \n",
       "\n",
       "                sub_region_2  metro_area iso_3166_2_code  census_fips_code  \\\n",
       "0                        NaN         NaN             NaN               NaN   \n",
       "1                        NaN         NaN             NaN               NaN   \n",
       "2                        NaN         NaN             NaN               NaN   \n",
       "3                        NaN         NaN             NaN               NaN   \n",
       "4                        NaN         NaN             NaN               NaN   \n",
       "...                      ...         ...             ...               ...   \n",
       "53730  Vårgårda Municipality         NaN             NaN               NaN   \n",
       "53731  Vårgårda Municipality         NaN             NaN               NaN   \n",
       "53732  Vårgårda Municipality         NaN             NaN               NaN   \n",
       "53733  Vårgårda Municipality         NaN             NaN               NaN   \n",
       "53734  Vårgårda Municipality         NaN             NaN               NaN   \n",
       "\n",
       "             date  retail_and_recreation_percent_change_from_baseline  \\\n",
       "0      2020-02-15                                                2.0    \n",
       "1      2020-02-16                                              -10.0    \n",
       "2      2020-02-17                                               -4.0    \n",
       "3      2020-02-18                                                0.0    \n",
       "4      2020-02-19                                                3.0    \n",
       "...           ...                                                ...    \n",
       "53730  2020-10-12                                                NaN    \n",
       "53731  2020-10-13                                                NaN    \n",
       "53732  2020-10-14                                                NaN    \n",
       "53733  2020-10-15                                                NaN    \n",
       "53734  2020-10-16                                                NaN    \n",
       "\n",
       "       grocery_and_pharmacy_percent_change_from_baseline  \\\n",
       "0                                                    0.0   \n",
       "1                                                   -7.0   \n",
       "2                                                   -3.0   \n",
       "3                                                    0.0   \n",
       "4                                                    1.0   \n",
       "...                                                  ...   \n",
       "53730                                                NaN   \n",
       "53731                                                NaN   \n",
       "53732                                                NaN   \n",
       "53733                                                NaN   \n",
       "53734                                                NaN   \n",
       "\n",
       "       parks_percent_change_from_baseline  \\\n",
       "0                                     3.0   \n",
       "1                                   -30.0   \n",
       "2                                    -3.0   \n",
       "3                                    13.0   \n",
       "4                                    26.0   \n",
       "...                                   ...   \n",
       "53730                                 NaN   \n",
       "53731                                 NaN   \n",
       "53732                                 NaN   \n",
       "53733                                 NaN   \n",
       "53734                                 NaN   \n",
       "\n",
       "       transit_stations_percent_change_from_baseline  \\\n",
       "0                                                4.0   \n",
       "1                                              -11.0   \n",
       "2                                               -6.0   \n",
       "3                                               -4.0   \n",
       "4                                               -3.0   \n",
       "...                                              ...   \n",
       "53730                                          -29.0   \n",
       "53731                                          -20.0   \n",
       "53732                                          -27.0   \n",
       "53733                                          -20.0   \n",
       "53734                                          -36.0   \n",
       "\n",
       "       workplaces_percent_change_from_baseline  \\\n",
       "0                                         -2.0   \n",
       "1                                         -5.0   \n",
       "2                                         -6.0   \n",
       "3                                         -5.0   \n",
       "4                                         -5.0   \n",
       "...                                        ...   \n",
       "53730                                    -11.0   \n",
       "53731                                    -15.0   \n",
       "53732                                    -10.0   \n",
       "53733                                    -10.0   \n",
       "53734                                    -11.0   \n",
       "\n",
       "       residential_percent_change_from_baseline  \n",
       "0                                           0.0  \n",
       "1                                           2.0  \n",
       "2                                           2.0  \n",
       "3                                           1.0  \n",
       "4                                           1.0  \n",
       "...                                         ...  \n",
       "53730                                       NaN  \n",
       "53731                                       NaN  \n",
       "53732                                       NaN  \n",
       "53733                                       NaN  \n",
       "53734                                       NaN  \n",
       "\n",
       "[53735 rows x 14 columns]"
      ],
      "text/html": "<div>\n<style scoped>\n    .dataframe tbody tr th:only-of-type {\n        vertical-align: middle;\n    }\n\n    .dataframe tbody tr th {\n        vertical-align: top;\n    }\n\n    .dataframe thead th {\n        text-align: right;\n    }\n</style>\n<table border=\"1\" class=\"dataframe\">\n  <thead>\n    <tr style=\"text-align: right;\">\n      <th></th>\n      <th>country_region_code</th>\n      <th>country_region</th>\n      <th>sub_region_1</th>\n      <th>sub_region_2</th>\n      <th>metro_area</th>\n      <th>iso_3166_2_code</th>\n      <th>census_fips_code</th>\n      <th>date</th>\n      <th>retail_and_recreation_percent_change_from_baseline</th>\n      <th>grocery_and_pharmacy_percent_change_from_baseline</th>\n      <th>parks_percent_change_from_baseline</th>\n      <th>transit_stations_percent_change_from_baseline</th>\n      <th>workplaces_percent_change_from_baseline</th>\n      <th>residential_percent_change_from_baseline</th>\n    </tr>\n  </thead>\n  <tbody>\n    <tr>\n      <th>0</th>\n      <td>SE</td>\n      <td>Sweden</td>\n      <td>NaN</td>\n      <td>NaN</td>\n      <td>NaN</td>\n      <td>NaN</td>\n      <td>NaN</td>\n      <td>2020-02-15</td>\n      <td>2.0</td>\n      <td>0.0</td>\n      <td>3.0</td>\n      <td>4.0</td>\n      <td>-2.0</td>\n      <td>0.0</td>\n    </tr>\n    <tr>\n      <th>1</th>\n      <td>SE</td>\n      <td>Sweden</td>\n      <td>NaN</td>\n      <td>NaN</td>\n      <td>NaN</td>\n      <td>NaN</td>\n      <td>NaN</td>\n      <td>2020-02-16</td>\n      <td>-10.0</td>\n      <td>-7.0</td>\n      <td>-30.0</td>\n      <td>-11.0</td>\n      <td>-5.0</td>\n      <td>2.0</td>\n    </tr>\n    <tr>\n      <th>2</th>\n      <td>SE</td>\n      <td>Sweden</td>\n      <td>NaN</td>\n      <td>NaN</td>\n      <td>NaN</td>\n      <td>NaN</td>\n      <td>NaN</td>\n      <td>2020-02-17</td>\n      <td>-4.0</td>\n      <td>-3.0</td>\n      <td>-3.0</td>\n      <td>-6.0</td>\n      <td>-6.0</td>\n      <td>2.0</td>\n    </tr>\n    <tr>\n      <th>3</th>\n      <td>SE</td>\n      <td>Sweden</td>\n      <td>NaN</td>\n      <td>NaN</td>\n      <td>NaN</td>\n      <td>NaN</td>\n      <td>NaN</td>\n      <td>2020-02-18</td>\n      <td>0.0</td>\n      <td>0.0</td>\n      <td>13.0</td>\n      <td>-4.0</td>\n      <td>-5.0</td>\n      <td>1.0</td>\n    </tr>\n    <tr>\n      <th>4</th>\n      <td>SE</td>\n      <td>Sweden</td>\n      <td>NaN</td>\n      <td>NaN</td>\n      <td>NaN</td>\n      <td>NaN</td>\n      <td>NaN</td>\n      <td>2020-02-19</td>\n      <td>3.0</td>\n      <td>1.0</td>\n      <td>26.0</td>\n      <td>-3.0</td>\n      <td>-5.0</td>\n      <td>1.0</td>\n    </tr>\n    <tr>\n      <th>...</th>\n      <td>...</td>\n      <td>...</td>\n      <td>...</td>\n      <td>...</td>\n      <td>...</td>\n      <td>...</td>\n      <td>...</td>\n      <td>...</td>\n      <td>...</td>\n      <td>...</td>\n      <td>...</td>\n      <td>...</td>\n      <td>...</td>\n      <td>...</td>\n    </tr>\n    <tr>\n      <th>53730</th>\n      <td>SE</td>\n      <td>Sweden</td>\n      <td>Västra Götaland County</td>\n      <td>Vårgårda Municipality</td>\n      <td>NaN</td>\n      <td>NaN</td>\n      <td>NaN</td>\n      <td>2020-10-12</td>\n      <td>NaN</td>\n      <td>NaN</td>\n      <td>NaN</td>\n      <td>-29.0</td>\n      <td>-11.0</td>\n      <td>NaN</td>\n    </tr>\n    <tr>\n      <th>53731</th>\n      <td>SE</td>\n      <td>Sweden</td>\n      <td>Västra Götaland County</td>\n      <td>Vårgårda Municipality</td>\n      <td>NaN</td>\n      <td>NaN</td>\n      <td>NaN</td>\n      <td>2020-10-13</td>\n      <td>NaN</td>\n      <td>NaN</td>\n      <td>NaN</td>\n      <td>-20.0</td>\n      <td>-15.0</td>\n      <td>NaN</td>\n    </tr>\n    <tr>\n      <th>53732</th>\n      <td>SE</td>\n      <td>Sweden</td>\n      <td>Västra Götaland County</td>\n      <td>Vårgårda Municipality</td>\n      <td>NaN</td>\n      <td>NaN</td>\n      <td>NaN</td>\n      <td>2020-10-14</td>\n      <td>NaN</td>\n      <td>NaN</td>\n      <td>NaN</td>\n      <td>-27.0</td>\n      <td>-10.0</td>\n      <td>NaN</td>\n    </tr>\n    <tr>\n      <th>53733</th>\n      <td>SE</td>\n      <td>Sweden</td>\n      <td>Västra Götaland County</td>\n      <td>Vårgårda Municipality</td>\n      <td>NaN</td>\n      <td>NaN</td>\n      <td>NaN</td>\n      <td>2020-10-15</td>\n      <td>NaN</td>\n      <td>NaN</td>\n      <td>NaN</td>\n      <td>-20.0</td>\n      <td>-10.0</td>\n      <td>NaN</td>\n    </tr>\n    <tr>\n      <th>53734</th>\n      <td>SE</td>\n      <td>Sweden</td>\n      <td>Västra Götaland County</td>\n      <td>Vårgårda Municipality</td>\n      <td>NaN</td>\n      <td>NaN</td>\n      <td>NaN</td>\n      <td>2020-10-16</td>\n      <td>NaN</td>\n      <td>NaN</td>\n      <td>NaN</td>\n      <td>-36.0</td>\n      <td>-11.0</td>\n      <td>NaN</td>\n    </tr>\n  </tbody>\n</table>\n<p>53735 rows × 14 columns</p>\n</div>"
     },
     "metadata": {},
     "execution_count": 378
    }
   ],
   "source": [
    "df_SE_region_mobility_report=pd.read_csv('../datafiles/2020_SE_Region_Mobility_Report.csv')\n",
    "# print(df_coordinates['date'].isna().sum(), df_coordinates['date'].count())\n",
    "df_SE_region_mobility_report"
   ]
  },
  {
   "cell_type": "code",
   "execution_count": 379,
   "metadata": {},
   "outputs": [],
   "source": [
    "\n",
    "# df_coordinates=pd.read_csv('../datafiles/airbnb_listings_sum_stockholm.csv')\n",
    "# # print(df_coordinates['date'].isna().sum(), df_coordinates['date'].count())\n",
    "# df_coordinates"
   ]
  },
  {
   "cell_type": "code",
   "execution_count": 380,
   "metadata": {},
   "outputs": [],
   "source": [
    "# count=0\n",
    "# airbnb_calend_list=[]\n",
    "# with open('../datafiles/airbnb_calendar_stockholm.csv', newline='',encoding = 'cp850') as csvfile:\n",
    "#     csv_reader_data = csv.reader(csvfile)\n",
    "#     for row in csv_reader_data:\n",
    "#         if np.shape(row)[0]==1:\n",
    "#             redone_csv_reading = csv.reader(row)\n",
    "#             for new_row in redone_csv_reading:\n",
    "#                 next_row =[new_row]\n",
    "#         elif np.shape(row)[0]==7:\n",
    "#              next_row = [new_row]\n",
    "#         airbnb_calend_list.append(next_row)         "
   ]
  },
  {
   "cell_type": "code",
   "execution_count": 381,
   "metadata": {
    "tags": []
   },
   "outputs": [
    {
     "output_type": "stream",
     "name": "stdout",
     "text": [
      "(1048575, 7) (7,)\n",
      "        listing_id        date available      price adjusted_price  \\\n",
      "0           565912  2020-06-27         t  $2,461.00      $2,461.00   \n",
      "1           145320  2020-06-27         f  $1,424.00      $1,424.00   \n",
      "2           145320  2020-06-28         f  $1,424.00      $1,424.00   \n",
      "3           145320  2020-06-29         f  $1,424.00      $1,424.00   \n",
      "4           145320  2020-06-30         f  $1,424.00      $1,424.00   \n",
      "...            ...         ...       ...        ...            ...   \n",
      "1048570   15773429  2020-11-24         t    $250.00        $250.00   \n",
      "1048571   15773429  2020-11-25         t    $250.00        $250.00   \n",
      "1048572   15773429  2020-11-26         t    $250.00        $250.00   \n",
      "1048573   15773429  2020-11-27         t    $250.00        $250.00   \n",
      "1048574   15773429  2020-11-28         t    $250.00        $250.00   \n",
      "\n",
      "        minimum_nights maximum_nights  \n",
      "0                    4             20  \n",
      "1                    3           1125  \n",
      "2                    3           1125  \n",
      "3                    3           1125  \n",
      "4                    3           1125  \n",
      "...                ...            ...  \n",
      "1048570            120           1125  \n",
      "1048571            120           1125  \n",
      "1048572            120           1125  \n",
      "1048573            120           1125  \n",
      "1048574            120           1125  \n",
      "\n",
      "[1048575 rows x 7 columns]\n",
      "Number of elements in row and there count:  Counter()\n",
      "--- 13.18297815322876 seconds ---\n"
     ]
    }
   ],
   "source": [
    "start_time = time.time()\n",
    "wrong_amount_of_element=[]\n",
    "count=0\n",
    "airbnb_calend_list=[]\n",
    "\n",
    "with open('../datafiles/airbnb_calendar_stockholm.csv', newline='',encoding = 'cp850') as csvfile:\n",
    "    csv_reader_data = csv.reader(csvfile)\n",
    "    for row in csv_reader_data: \n",
    "        next_row = []\n",
    "        if count >=1 and np.shape(row)[0]==1: # if count is not header and has \"\" around the all elements\n",
    "            # print(row)\n",
    "            # print(np.shape(row))\n",
    "\n",
    "            redone_csv_reading = csv.reader(row)\n",
    "            for new_row in redone_csv_reading:\n",
    "                # print([new_row])\n",
    "                # print(np.shape(new_row))\n",
    "                if np.shape(new_row)[0]==7:\n",
    "                    next_row = new_row\n",
    "                    # print(\"1\")\n",
    "                    # print(new_row)\n",
    "                else:\n",
    "                    wrong_amount_of_element.append(np.shape(new_row)[0])\n",
    "                    # print(\"\\nError: not shape of 'new_row' ==7 \")\n",
    "                    # print(new_row)\n",
    "\n",
    "            # print(\"\\n\")\n",
    "        elif count >=1 and np.shape(row)[0]==7:\n",
    "            next_row = row\n",
    "            # print(\"2\")\n",
    "            # print([next_row])\n",
    "        elif count==0:\n",
    "            # print(row)\n",
    "            # print(np.shape(row))\n",
    "            headers_row = row\n",
    "\n",
    "        # else:\n",
    "            # print(\"\\nError: not shape of 'row' == 1 or 7\")\n",
    "            # print(row)\n",
    "            # next_row = np.empty((1,7,))\n",
    "            # next_row[:] = np.nan\n",
    "            # # next_row=np.nan\n",
    "            # print(\"\")\n",
    "\n",
    "\n",
    "        if count >=1:     \n",
    "            airbnb_calend_list.append(next_row)\n",
    "\n",
    "        count = count + 1\n",
    "        if count == 15000000:\n",
    "            break\n",
    "# print(airbnb_calend_list)\n",
    "print(np.shape(airbnb_calend_list),np.shape(headers_row))\n",
    "df_airbnb_calend_stockholm = pd.DataFrame(data=airbnb_calend_list, columns= headers_row)\n",
    "print(df_airbnb_calend_stockholm)\n",
    "# df_airbnb_calend_stockholm.to_csv('../datafiles/airbnb_calendar_stockholm_new.csv',index=False)\n",
    "print(\"Number of elements in row and there count: \",Counter(wrong_amount_of_element))\n",
    "print(\"--- %s seconds ---\" % (time.time() - start_time))"
   ]
  },
  {
   "cell_type": "code",
   "execution_count": null,
   "metadata": {},
   "outputs": [],
   "source": [
    "start_time = time.time()\n",
    "wrong_amount_of_element=[]\n",
    "number_of_rows=16\n",
    "\n",
    "count=0\n",
    "airbnb_calend_list=[]\n",
    "with open('../datafiles/airbnb_listings_sum_stockholm.csv', newline='',encoding = 'cp850') as csvfile:\n",
    "    csv_reader_data = csv.reader(csvfile)\n",
    "    for row in csv_reader_data: \n",
    "        next_row = []\n",
    "\n",
    "        if count >=1 and np.shape(row)[0]==1: # if count is not header and has \"\" around the all elements\n",
    "            # print(row)\n",
    "            # print(np.shape(row))\n",
    "            row[0]=row[0].replace(\"\\n\",\"\")\n",
    "            redone_csv_reading = csv.reader(row)\n",
    "            for new_row in redone_csv_reading:\n",
    "                # print([new_row])\n",
    "                # print(np.shape(new_row))\n",
    "                if np.shape(new_row)[0]==number_of_rows:\n",
    "                    next_row = new_row\n",
    "                    # print(\"1\")\n",
    "                    # print(new_row)\n",
    "                else:\n",
    "                    wrong_amount_of_element.append(np.shape(new_row)[0])\n",
    "                    # print(\"\\nError: not shape of 'new_row' ==7 \")\n",
    "                    # print(new_row)\n",
    "                    # print(np.shape(new_row)[0])\n",
    "\n",
    "            # print(\"\\n\")\n",
    "        elif count >=1 and np.shape(row)[0]==number_of_rows:\n",
    "            next_row = row\n",
    "            # print(\"2\")\n",
    "            # print([next_row])\n",
    "        elif count==0:\n",
    "            # print(row)\n",
    "            # print(np.shape(row))\n",
    "            headers_row = row\n",
    "\n",
    "        # else:\n",
    "            # print(\"\\nError: not shape of 'row' == 1 or 7\")\n",
    "            # print(row)\n",
    "            # next_row = np.empty((1,7,))\n",
    "            # next_row[:] = np.nan\n",
    "            # # next_row=np.nan\n",
    "            # print(\"\")\n",
    "\n",
    "\n",
    "        if count >=1:     \n",
    "            airbnb_calend_list.append(next_row)\n",
    "\n",
    "        count = count + 1\n",
    "        if count == 10000:\n",
    "            break\n",
    "# print(airbnb_calend_list)\n",
    "# print(np.shape(airbnb_calend_list),np.shape(headers_row))\n",
    "df_airbnb_listing_stockholm = pd.DataFrame(data=airbnb_calend_list, columns= headers_row)\n",
    "print(df_airbnb_listing_stockholm)\n",
    "# df_airbnb_calend_stockholm.to_csv('../datafiles/airbnb_calendar_stockholm_new.csv',index=False)\n",
    "print(\"Number of elements in row and there count: \",Counter(wrong_amount_of_element))\n",
    "print(\"--- %s seconds ---\" % (time.time() - start_time))"
   ]
  },
  {
   "cell_type": "code",
   "execution_count": 13,
   "metadata": {},
   "outputs": [
    {
     "output_type": "execute_result",
     "data": {
      "text/plain": [
       "array(['S├Âdermalms', None, 'Norrmalms', 'Kungsholmens', 'Rinkeby-Tensta',\n",
       "       'Farsta', '├älvsj├Â', '├ûstermalms', 'Skarpn├ñcks',\n",
       "       'Enskede-├àrsta-Vant├Ârs', 'H├ñgersten-Liljeholmens', 'Bromma',\n",
       "       'Sk├ñrholmens', 'H├ñsselby-V├ñllingby', 'Sp├Ñnga-Tensta'],\n",
       "      dtype=object)"
      ]
     },
     "metadata": {},
     "execution_count": 13
    }
   ],
   "source": [
    "df_airbnb_listing_stockholm['neighbourhood'].unique()"
   ]
  },
  {
   "cell_type": "code",
   "execution_count": 14,
   "metadata": {},
   "outputs": [],
   "source": [
    "# # Correctly spell the names of the neighborhoods\n",
    "# df_airbnb_listing_stockholm['neighbourhood'].replace('S├Âdermalms','Södermalm', inplace=True)\n",
    "# df_airbnb_listing_stockholm['neighbourhood'].replace('Norrmalms','Norrmalm', inplace=True)\n",
    "# df_airbnb_listing_stockholm['neighbourhood'].replace('Kungsholmens','Kungsholmen', inplace=True)\n",
    "# df_airbnb_listing_stockholm['neighbourhood'].replace('├älvsj├Â','Älvsjö', inplace=True)\n",
    "# df_airbnb_listing_stockholm['neighbourhood'].replace('├ûstermalms','Östermalm', inplace=True)\n",
    "# df_airbnb_listing_stockholm['neighbourhood'].replace('H├ñgersten-Liljeholmens','Hägersten-Liljeholmen', inplace=True)\n",
    "# df_airbnb_listing_stockholm['neighbourhood'].replace('Sk├ñrholmens','Skärholmen', inplace=True)\n",
    "# df_airbnb_listing_stockholm['neighbourhood'].replace('H├ñsselby-V├ñllingby','Hässelby-Vällingby', inplace=True)\n",
    "# df_airbnb_listing_stockholm['neighbourhood'].replace('Sp├Ñnga-Tensta','Spånga-Tensta', inplace=True)"
   ]
  },
  {
   "cell_type": "code",
   "execution_count": 15,
   "metadata": {},
   "outputs": [],
   "source": [
    "# df_test=df_airbnb_calend_stockholm[df_airbnb_calend_stockholm['neighbourhood']=='Södermalm']\n",
    "# df_test"
   ]
  },
  {
   "cell_type": "code",
   "execution_count": 16,
   "metadata": {},
   "outputs": [],
   "source": [
    "# df_test[df_test['name'].str.lower().str.contains(\"fantastic sofo\")]   "
   ]
  },
  {
   "source": [
    "It seems like the prices are in SEK - after comparing 'price' to website price for same place"
   ],
   "cell_type": "markdown",
   "metadata": {}
  },
  {
   "cell_type": "code",
   "execution_count": 17,
   "metadata": {
    "tags": []
   },
   "outputs": [
    {
     "output_type": "stream",
     "name": "stdout",
     "text": [
      "(182014,) (6,)\n       listing_id         id        date reviewer_id reviewer_name  \\\n0          145320  156423122  2017-05-30   123386382         Erwin   \n1          145320  170211906  2017-07-15   123091743          Anne   \n2          145320  172169175  2017-07-20       78004      Patricia   \n3          145320  176647581  2017-07-31   103178743     Charlotte   \n4          145320  185676021  2017-08-22     4023961     Alexander   \n...           ...        ...         ...         ...           ...   \n182009   43720290  629441507  2020-06-14   308451513            Lu   \n182010   43720290  631087136  2020-06-21    76954984        Shahin   \n182011   43724610  630964346  2020-06-21    38355251          Ines   \n182012   43749955  632003080  2020-06-25    92774441       Babette   \n182013   43840216  630977479  2020-06-21   251908973          Dala   \n\n                                      comments;;;;;;;;;;;  \n0       Prima plek om Stockholm te bekijken. Alles is ...  \n1       Cosy and clean flat in quiet neighbourhood clo...  \n2       The host canceled this reservation 37 days bef...  \n3       Kim's place was outstanding and comfortable. W...  \n4       great spacious apartment in a nice residential...  \n...                                                   ...  \n182009  Great place with an amazing, spacious balcony ...  \n182010  Amazing place, located near beautiful Hornstul...  \n182011  Catarina has been a kind host. The flat had ev...  \n182012                  Very nice appartement!;;;;;;;;;;;  \n182013   Okej, tog en timma tills vi fick svar;;;;;;;;;;;  \n\n[182014 rows x 6 columns]\nNumber of elements in row and there count:  Counter({1: 45481, 2: 4403, 3: 1553, 4: 621, 7: 557, 8: 371, 5: 329, 9: 241, 12: 188, 11: 134, 10: 131, 13: 112, 14: 87, 17: 47, 16: 46, 15: 36, 18: 29, 19: 19, 22: 15, 23: 13, 20: 11, 28: 6, 21: 6, 24: 6, 25: 5, 27: 4, 26: 4, 36: 2, 37: 1, 31: 1, 39: 1, 43: 1})\n--- 2.9513652324676514 seconds ---\n"
     ]
    }
   ],
   "source": [
    "start_time = time.time()\n",
    "wrong_amount_of_element=[]\n",
    "number_of_rows=6\n",
    "\n",
    "count=0\n",
    "airbnb_calend_list=[]\n",
    "with open('../datafiles/airbnb_reviews_stockholm.csv', newline='',encoding = 'cp850') as csvfile:\n",
    "    csv_reader_data = csv.reader(csvfile)\n",
    "    for row in csv_reader_data: \n",
    "        next_row = [] \n",
    "        # if count== 177:\n",
    "        #     print(row)\n",
    "        #     print(row[0])\n",
    "        #     print(np.shape(row))\n",
    "            # redone_csv_reading = csv.reader(row)\n",
    "            # for new_row in redone_csv_reading:\n",
    "            #     # print([new_row])\n",
    "            #     # print(np.shape(new_row))\n",
    "            #     next_row = new_row\n",
    "\n",
    "            #     print(next_row)\n",
    "        if count >=1 and np.shape(row)[0]==1: # if count is not header and has \"\" around the all elements\n",
    "            # print(row)\n",
    "            # print(np.shape(row))\n",
    "            # print(row[0])\n",
    "            # print(np.shape(row[0]))\n",
    "            row[0]=row[0].replace(\"\\n\",\"\")\n",
    "            redone_csv_reading = csv.reader(row)\n",
    "            for new_row in redone_csv_reading:\n",
    "                # print(new_row)\n",
    "                # print(np.shape(new_row))\n",
    "                if np.shape(new_row)[0]==number_of_rows:\n",
    "                    next_row = new_row\n",
    "                    # print(\"1\")\n",
    "                    # print(new_row)\n",
    "                else:\n",
    "                    wrong_amount_of_element.append(np.shape(new_row)[0])\n",
    "                    # print(\"\\nError: not shape of 'new_row' ==7 \")\n",
    "                    # print(new_row)\n",
    "\n",
    "            # print(\"\\n\")\n",
    "        elif count >=1 and np.shape(row)[0]==number_of_rows:\n",
    "            next_row = row\n",
    "            # print(\"2\")\n",
    "            # print([next_row])\n",
    "        elif count==0:\n",
    "            # print(row)\n",
    "            # print(np.shape(row))\n",
    "            headers_row = row\n",
    "\n",
    "        # else:\n",
    "            # print(\"\\nError: not shape of 'row' == 1 or 7\")\n",
    "            # print(row)\n",
    "            # next_row = np.empty((1,7,))\n",
    "            # next_row[:] = np.nan\n",
    "            # # next_row=np.nan\n",
    "            # print(\"\")\n",
    "\n",
    "\n",
    "        if count >=1:     \n",
    "            airbnb_calend_list.append(next_row)\n",
    "\n",
    "\n",
    "        count = count + 1\n",
    "        if count == 1000000:\n",
    "            break\n",
    "# print(airbnb_calend_list)\n",
    "print(np.shape(airbnb_calend_list),np.shape(headers_row))\n",
    "df_airbnb_review_stockholm = pd.DataFrame(data=airbnb_calend_list, columns= headers_row)\n",
    "print(df_airbnb_review_stockholm)\n",
    "# df_airbnb_calend_stockholm.to_csv('../datafiles/airbnb_calendar_stockholm_new.csv',index=False)\n",
    "print(\"Number of elements in row and there count: \",Counter(wrong_amount_of_element))\n",
    "print(\"--- %s seconds ---\" % (time.time() - start_time))"
   ]
  },
  {
   "cell_type": "code",
   "execution_count": null,
   "metadata": {},
   "outputs": [],
   "source": []
  },
  {
   "cell_type": "code",
   "execution_count": null,
   "metadata": {},
   "outputs": [],
   "source": []
  }
 ]
}