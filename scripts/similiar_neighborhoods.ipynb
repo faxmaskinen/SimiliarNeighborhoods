{
 "metadata": {
  "language_info": {
   "codemirror_mode": {
    "name": "ipython",
    "version": 3
   },
   "file_extension": ".py",
   "mimetype": "text/x-python",
   "name": "python",
   "nbconvert_exporter": "python",
   "pygments_lexer": "ipython3",
   "version": "3.8.6-final"
  },
  "orig_nbformat": 2,
  "kernelspec": {
   "name": "Python 3.8.6 64-bit",
   "display_name": "Python 3.8.6 64-bit",
   "metadata": {
    "interpreter": {
     "hash": "c1c7833bc1f675858b97fffafeb722f93481f4d9b87f7b55bd9edaba86123ae6"
    }
   }
  }
 },
 "nbformat": 4,
 "nbformat_minor": 2,
 "cells": [
  {
   "cell_type": "code",
   "execution_count": 151,
   "metadata": {},
   "outputs": [
    {
     "output_type": "stream",
     "name": "stdout",
     "text": [
      "Libraries imported.\n"
     ]
    }
   ],
   "source": [
    "import pandas as pd # library for data analsysis\n",
    "import numpy as np # library to handle data in a vectorized manner\n",
    "import random # library for random number generation\n",
    "\n",
    "# from bs4 import BeautifulSoup\n",
    "#  http://beautiful-soup-4.readthedocs.io/en/latest/    # for more advanced web scraping  \n",
    "\n",
    "import lxml\n",
    "import html5lib\n",
    "import csv\n",
    "\n",
    "import json # library to handle JSON files\n",
    "\n",
    "import requests # library to handle requests\n",
    "\n",
    "import time  # used to record time to run functions\n",
    "\n",
    "from collections import Counter\n",
    "\n",
    "print('Libraries imported.')"
   ]
  },
  {
   "cell_type": "code",
   "execution_count": 152,
   "metadata": {},
   "outputs": [],
   "source": [
    "import sys\n",
    "# insert at 1, 0 is the script path (or '' in REPL)\n",
    "sys.path.insert(1, '../credentials/')\n",
    "\n",
    "import config"
   ]
  },
  {
   "source": [
    "## Import neighborhoods data\n",
    "\n",
    "start with Toronto"
   ],
   "cell_type": "markdown",
   "metadata": {}
  },
  {
   "cell_type": "code",
   "execution_count": 153,
   "metadata": {},
   "outputs": [
    {
     "output_type": "execute_result",
     "data": {
      "text/plain": [
       "  Postal Code           Borough              Neighbourhood\n",
       "0         M1A      Not assigned               Not assigned\n",
       "1         M2A      Not assigned               Not assigned\n",
       "2         M3A        North York                  Parkwoods\n",
       "3         M4A        North York           Victoria Village\n",
       "4         M5A  Downtown Toronto  Regent Park, Harbourfront"
      ],
      "text/html": "<div>\n<style scoped>\n    .dataframe tbody tr th:only-of-type {\n        vertical-align: middle;\n    }\n\n    .dataframe tbody tr th {\n        vertical-align: top;\n    }\n\n    .dataframe thead th {\n        text-align: right;\n    }\n</style>\n<table border=\"1\" class=\"dataframe\">\n  <thead>\n    <tr style=\"text-align: right;\">\n      <th></th>\n      <th>Postal Code</th>\n      <th>Borough</th>\n      <th>Neighbourhood</th>\n    </tr>\n  </thead>\n  <tbody>\n    <tr>\n      <th>0</th>\n      <td>M1A</td>\n      <td>Not assigned</td>\n      <td>Not assigned</td>\n    </tr>\n    <tr>\n      <th>1</th>\n      <td>M2A</td>\n      <td>Not assigned</td>\n      <td>Not assigned</td>\n    </tr>\n    <tr>\n      <th>2</th>\n      <td>M3A</td>\n      <td>North York</td>\n      <td>Parkwoods</td>\n    </tr>\n    <tr>\n      <th>3</th>\n      <td>M4A</td>\n      <td>North York</td>\n      <td>Victoria Village</td>\n    </tr>\n    <tr>\n      <th>4</th>\n      <td>M5A</td>\n      <td>Downtown Toronto</td>\n      <td>Regent Park, Harbourfront</td>\n    </tr>\n  </tbody>\n</table>\n</div>"
     },
     "metadata": {},
     "execution_count": 153
    }
   ],
   "source": [
    "url = 'https://en.wikipedia.org/wiki/List_of_postal_codes_of_Canada:_M'\n",
    "df_to_neighborhoods = pd.read_html(url, attrs={\"class\": \"wikitable\"})[0]   # 0 is for the 1st table in this particular page\n",
    "df_to_neighborhoods.head()"
   ]
  },
  {
   "source": [
    "clean the Toronto dataframe"
   ],
   "cell_type": "markdown",
   "metadata": {}
  },
  {
   "cell_type": "code",
   "execution_count": 154,
   "metadata": {},
   "outputs": [
    {
     "output_type": "stream",
     "name": "stdout",
     "text": [
      "Dropped 'Not assigned' values in the 'Postal Code' column!\nAny mispelles not assigned values in 'Borough'?  Series([], Name: Borough, dtype: object), Series([], Name: Borough, dtype: object)\nThere is no duplicate 'Postal Code' rows!\nCannot find any 'Not assigned' values in the 'Neighbourhood' column!\n"
     ]
    },
    {
     "output_type": "execute_result",
     "data": {
      "text/plain": [
       "  Postal Code           Borough                                Neighbourhood\n",
       "0         M3A        North York                                    Parkwoods\n",
       "1         M4A        North York                             Victoria Village\n",
       "2         M5A  Downtown Toronto                    Regent Park, Harbourfront\n",
       "3         M6A        North York             Lawrence Manor, Lawrence Heights\n",
       "4         M7A  Downtown Toronto  Queen's Park, Ontario Provincial Government"
      ],
      "text/html": "<div>\n<style scoped>\n    .dataframe tbody tr th:only-of-type {\n        vertical-align: middle;\n    }\n\n    .dataframe tbody tr th {\n        vertical-align: top;\n    }\n\n    .dataframe thead th {\n        text-align: right;\n    }\n</style>\n<table border=\"1\" class=\"dataframe\">\n  <thead>\n    <tr style=\"text-align: right;\">\n      <th></th>\n      <th>Postal Code</th>\n      <th>Borough</th>\n      <th>Neighbourhood</th>\n    </tr>\n  </thead>\n  <tbody>\n    <tr>\n      <th>0</th>\n      <td>M3A</td>\n      <td>North York</td>\n      <td>Parkwoods</td>\n    </tr>\n    <tr>\n      <th>1</th>\n      <td>M4A</td>\n      <td>North York</td>\n      <td>Victoria Village</td>\n    </tr>\n    <tr>\n      <th>2</th>\n      <td>M5A</td>\n      <td>Downtown Toronto</td>\n      <td>Regent Park, Harbourfront</td>\n    </tr>\n    <tr>\n      <th>3</th>\n      <td>M6A</td>\n      <td>North York</td>\n      <td>Lawrence Manor, Lawrence Heights</td>\n    </tr>\n    <tr>\n      <th>4</th>\n      <td>M7A</td>\n      <td>Downtown Toronto</td>\n      <td>Queen's Park, Ontario Provincial Government</td>\n    </tr>\n  </tbody>\n</table>\n</div>"
     },
     "metadata": {},
     "execution_count": 154
    }
   ],
   "source": [
    "df_to_neighborhoods['Borough']=df_to_neighborhoods['Borough'].replace('Not assigned',np.NaN)   # replace 'Not assigned' with NaN \n",
    "df_to_neighborhoods=df_to_neighborhoods.dropna() \n",
    "df_to_neighborhoods.reset_index(drop=True, inplace=True)\n",
    "print(\"Dropped 'Not assigned' values in the 'Postal Code' column!\")\n",
    "\n",
    "# pd.set_option('display.max_rows', None)     # show all data in dataframe\n",
    "\n",
    "# check for mispelled 'Not assigned' values in 'Borough' which has not been replaced\n",
    "print(\"Any mispelles not assigned values in 'Borough'?  \" + str(df_to_neighborhoods['Borough'][df_to_neighborhoods['Borough'].str.lower().str.contains('t as', regex=False)]) + \", \" + str(df_to_neighborhoods['Borough'][df_to_neighborhoods['Borough'].str.lower().str.contains('not ', regex=False)]) )   \n",
    "\n",
    "# find non unique (duplicate) postal codes \n",
    "dupli= \"no\"\n",
    "for d in df_to_neighborhoods['Postal Code'].duplicated().unique():\n",
    "    if d == True:\n",
    "        dupli = \"\"\n",
    "print(\"There is \" + dupli+\" duplicate 'Postal Code' rows!\")\n",
    "\n",
    "\n",
    "# find neighborhoods with 'Not assigned' values\n",
    "assigned=\"Cannot find any\"\n",
    "for a in df_to_neighborhoods['Neighbourhood'].isin(['Not assigned']):\n",
    "    if a == True:\n",
    "        assigned=\"Found\"\n",
    "print(assigned+\" 'Not assigned' values in the 'Neighbourhood' column!\")\n",
    "\n",
    "df_to_neighborhoods.head()"
   ]
  },
  {
   "cell_type": "code",
   "execution_count": 155,
   "metadata": {},
   "outputs": [
    {
     "output_type": "execute_result",
     "data": {
      "text/plain": [
       "(103, 3)"
      ]
     },
     "metadata": {},
     "execution_count": 155
    }
   ],
   "source": [
    "df_to_neighborhoods.shape"
   ]
  },
  {
   "source": [
    "### Add location data of the neighborhoods in Toronto\n",
    "\n",
    "Google Maps Geocoding API started to cost therefore geocoder is used, however it is a bit unreliable it seems, thus we need to download an .CSV file with data of the coordinates"
   ],
   "cell_type": "markdown",
   "metadata": {}
  },
  {
   "cell_type": "code",
   "execution_count": 156,
   "metadata": {},
   "outputs": [
    {
     "output_type": "execute_result",
     "data": {
      "text/plain": [
       "  Postal Code   Latitude  Longitude\n",
       "0         M1B  43.806686 -79.194353\n",
       "1         M1C  43.784535 -79.160497\n",
       "2         M1E  43.763573 -79.188711\n",
       "3         M1G  43.770992 -79.216917\n",
       "4         M1H  43.773136 -79.239476"
      ],
      "text/html": "<div>\n<style scoped>\n    .dataframe tbody tr th:only-of-type {\n        vertical-align: middle;\n    }\n\n    .dataframe tbody tr th {\n        vertical-align: top;\n    }\n\n    .dataframe thead th {\n        text-align: right;\n    }\n</style>\n<table border=\"1\" class=\"dataframe\">\n  <thead>\n    <tr style=\"text-align: right;\">\n      <th></th>\n      <th>Postal Code</th>\n      <th>Latitude</th>\n      <th>Longitude</th>\n    </tr>\n  </thead>\n  <tbody>\n    <tr>\n      <th>0</th>\n      <td>M1B</td>\n      <td>43.806686</td>\n      <td>-79.194353</td>\n    </tr>\n    <tr>\n      <th>1</th>\n      <td>M1C</td>\n      <td>43.784535</td>\n      <td>-79.160497</td>\n    </tr>\n    <tr>\n      <th>2</th>\n      <td>M1E</td>\n      <td>43.763573</td>\n      <td>-79.188711</td>\n    </tr>\n    <tr>\n      <th>3</th>\n      <td>M1G</td>\n      <td>43.770992</td>\n      <td>-79.216917</td>\n    </tr>\n    <tr>\n      <th>4</th>\n      <td>M1H</td>\n      <td>43.773136</td>\n      <td>-79.239476</td>\n    </tr>\n  </tbody>\n</table>\n</div>"
     },
     "metadata": {},
     "execution_count": 156
    }
   ],
   "source": [
    "df_to_coordinates=pd.read_csv('../datafiles/Geospatial_Coordinates.csv')\n",
    "df_to_coordinates.head()"
   ]
  },
  {
   "cell_type": "code",
   "execution_count": 157,
   "metadata": {},
   "outputs": [],
   "source": [
    "import geocoder # import geocoder\n",
    "import geopy\n",
    "from geopy.geocoders import Nominatim"
   ]
  },
  {
   "cell_type": "code",
   "execution_count": 158,
   "metadata": {},
   "outputs": [],
   "source": [
    "# Coordinate arrays\n",
    "lat_to_list=np.array([])\n",
    "long_to_list=np.array([])\n",
    "\n",
    "for i, pcode in enumerate(df_to_neighborhoods['Postal Code']):\n",
    "    # print(i, pcode)\n",
    "    # initialize your variable to None\n",
    "    lat_coords =None\n",
    "    lng_coords =None\n",
    "    \n",
    "\n",
    "    locator = Nominatim(user_agent=\"myGeocoder\")\n",
    "    count = 0\n",
    "    # loop until you get the coordinates\n",
    "    while(lng_coords is None):\n",
    "        location = locator.geocode('{}, Toronto, Ontario'.format(pcode))\n",
    "        try:\n",
    "            lat_coords = location.latitude\n",
    "            lng_coords = location.longitude\n",
    "            # print(\"Coordinates: \"+ str(lat_coords) + \", \"+str(lng_coords) )\n",
    "        except:\n",
    "            lat_coords =None\n",
    "            lng_coords =None\n",
    "\n",
    "        if count == 3:  # the limit\n",
    "            # print(\" Error 'Location' not found in Geocode! Switching to CSV file\")\n",
    "            lat_coords = df_to_coordinates.loc[ df_to_coordinates['Postal Code'] == pcode ]['Latitude'].to_list()[0]\n",
    "            lng_coords = df_to_coordinates.loc[ df_to_coordinates['Postal Code'] == pcode ]['Longitude'].to_list()[0]\n",
    "            # print(\"\\nCoordinates: \"+ str(lat_coords) + \", \"+str(lng_coords) )\n",
    "        # if count == 3:\n",
    "        #     print(\"Error count = 3\")\n",
    "        #     break\n",
    "\n",
    "        count = count + 1\n",
    "\n",
    "    lat_to_list= np.append(lat_to_list, lat_coords)\n",
    "    long_to_list= np.append(long_to_list, lng_coords)"
   ]
  },
  {
   "cell_type": "code",
   "execution_count": 148,
   "metadata": {},
   "outputs": [],
   "source": [
    "# print(lat_to_list.shape, long_to_list.shape)\n",
    "# lat_to_list"
   ]
  },
  {
   "cell_type": "code",
   "execution_count": 159,
   "metadata": {},
   "outputs": [
    {
     "output_type": "execute_result",
     "data": {
      "text/plain": [
       "  Postal Code           Borough                                Neighbourhood  \\\n",
       "0         M3A        North York                                    Parkwoods   \n",
       "1         M4A        North York                             Victoria Village   \n",
       "2         M5A  Downtown Toronto                    Regent Park, Harbourfront   \n",
       "3         M6A        North York             Lawrence Manor, Lawrence Heights   \n",
       "4         M7A  Downtown Toronto  Queen's Park, Ontario Provincial Government   \n",
       "\n",
       "    Latitude  Longitude  \n",
       "0  43.653482 -79.383935  \n",
       "1  43.725882 -79.315572  \n",
       "2  43.654260 -79.360636  \n",
       "3  43.718518 -79.464763  \n",
       "4  43.653482 -79.383935  "
      ],
      "text/html": "<div>\n<style scoped>\n    .dataframe tbody tr th:only-of-type {\n        vertical-align: middle;\n    }\n\n    .dataframe tbody tr th {\n        vertical-align: top;\n    }\n\n    .dataframe thead th {\n        text-align: right;\n    }\n</style>\n<table border=\"1\" class=\"dataframe\">\n  <thead>\n    <tr style=\"text-align: right;\">\n      <th></th>\n      <th>Postal Code</th>\n      <th>Borough</th>\n      <th>Neighbourhood</th>\n      <th>Latitude</th>\n      <th>Longitude</th>\n    </tr>\n  </thead>\n  <tbody>\n    <tr>\n      <th>0</th>\n      <td>M3A</td>\n      <td>North York</td>\n      <td>Parkwoods</td>\n      <td>43.653482</td>\n      <td>-79.383935</td>\n    </tr>\n    <tr>\n      <th>1</th>\n      <td>M4A</td>\n      <td>North York</td>\n      <td>Victoria Village</td>\n      <td>43.725882</td>\n      <td>-79.315572</td>\n    </tr>\n    <tr>\n      <th>2</th>\n      <td>M5A</td>\n      <td>Downtown Toronto</td>\n      <td>Regent Park, Harbourfront</td>\n      <td>43.654260</td>\n      <td>-79.360636</td>\n    </tr>\n    <tr>\n      <th>3</th>\n      <td>M6A</td>\n      <td>North York</td>\n      <td>Lawrence Manor, Lawrence Heights</td>\n      <td>43.718518</td>\n      <td>-79.464763</td>\n    </tr>\n    <tr>\n      <th>4</th>\n      <td>M7A</td>\n      <td>Downtown Toronto</td>\n      <td>Queen's Park, Ontario Provincial Government</td>\n      <td>43.653482</td>\n      <td>-79.383935</td>\n    </tr>\n  </tbody>\n</table>\n</div>"
     },
     "metadata": {},
     "execution_count": 159
    }
   ],
   "source": [
    "df_to_neighborhoods[\"Latitude\"]=lat_to_list\n",
    "df_to_neighborhoods[\"Longitude\"]=long_to_list\n",
    "df_to_neighborhoods.head()"
   ]
  },
  {
   "cell_type": "code",
   "execution_count": 161,
   "metadata": {},
   "outputs": [
    {
     "output_type": "execute_result",
     "data": {
      "text/plain": [
       "(103, 5)"
      ]
     },
     "metadata": {},
     "execution_count": 161
    }
   ],
   "source": [
    "df_to_neighborhoods.shape"
   ]
  },
  {
   "source": [
    "### Now adding weather data of the city New York\n",
    "\n",
    "1. we take a look at city level temp data\n",
    "\n",
    "2. we use openweathermap api to get last 5 days daily temperature and the most frequent weather to compare. \n",
    "   An average of the neighborhoods temperature and the most common weathers would have been preferred."
   ],
   "cell_type": "markdown",
   "metadata": {}
  },
  {
   "cell_type": "code",
   "execution_count": 147,
   "metadata": {},
   "outputs": [],
   "source": [
    "url = 'https://en.wikipedia.org/wiki/List_of_cities_by_average_temperature'\n",
    "df_city_weather_eu = pd.read_html(url, attrs={\"class\": \"wikitable\"})[2]   # 0 is for the 1st table in this particular page\n",
    "df_city_weather_na = pd.read_html(url, attrs={\"class\": \"wikitable\"})[3]\n",
    "df_city_weather = pd.concat([df_city_weather_eu, df_city_weather_na])\n",
    "# df_city_weather.head()"
   ]
  },
  {
   "source": [
    "Clean the data"
   ],
   "cell_type": "markdown",
   "metadata": {}
  },
  {
   "cell_type": "code",
   "execution_count": 146,
   "metadata": {},
   "outputs": [
    {
     "output_type": "execute_result",
     "data": {
      "text/plain": [
       "          Country           City   Jan   Feb  Mar   Apr   May   Jun   Jul  \\\n",
       "60         Sweden      Stockholm  −2.8  −3.0  0.1   4.6  10.7  15.6  17.2   \n",
       "16         Canada        Toronto  −3.7  −2.6  1.4   7.9  14.1  19.4  22.3   \n",
       "77  United States  New York City   0.6   2.1  6.1  11.9  17.1  22.1  24.9   \n",
       "\n",
       "     Aug   Sep   Oct  Nov   Dec  Year  \n",
       "60  16.2  11.9   7.5  2.6  −1.0   6.6  \n",
       "16  21.5  17.2  10.7  4.9  −0.5   9.4  \n",
       "77  24.3  20.2  14.1  8.9   3.3  12.9  "
      ],
      "text/html": "<div>\n<style scoped>\n    .dataframe tbody tr th:only-of-type {\n        vertical-align: middle;\n    }\n\n    .dataframe tbody tr th {\n        vertical-align: top;\n    }\n\n    .dataframe thead th {\n        text-align: right;\n    }\n</style>\n<table border=\"1\" class=\"dataframe\">\n  <thead>\n    <tr style=\"text-align: right;\">\n      <th></th>\n      <th>Country</th>\n      <th>City</th>\n      <th>Jan</th>\n      <th>Feb</th>\n      <th>Mar</th>\n      <th>Apr</th>\n      <th>May</th>\n      <th>Jun</th>\n      <th>Jul</th>\n      <th>Aug</th>\n      <th>Sep</th>\n      <th>Oct</th>\n      <th>Nov</th>\n      <th>Dec</th>\n      <th>Year</th>\n    </tr>\n  </thead>\n  <tbody>\n    <tr>\n      <th>60</th>\n      <td>Sweden</td>\n      <td>Stockholm</td>\n      <td>−2.8</td>\n      <td>−3.0</td>\n      <td>0.1</td>\n      <td>4.6</td>\n      <td>10.7</td>\n      <td>15.6</td>\n      <td>17.2</td>\n      <td>16.2</td>\n      <td>11.9</td>\n      <td>7.5</td>\n      <td>2.6</td>\n      <td>−1.0</td>\n      <td>6.6</td>\n    </tr>\n    <tr>\n      <th>16</th>\n      <td>Canada</td>\n      <td>Toronto</td>\n      <td>−3.7</td>\n      <td>−2.6</td>\n      <td>1.4</td>\n      <td>7.9</td>\n      <td>14.1</td>\n      <td>19.4</td>\n      <td>22.3</td>\n      <td>21.5</td>\n      <td>17.2</td>\n      <td>10.7</td>\n      <td>4.9</td>\n      <td>−0.5</td>\n      <td>9.4</td>\n    </tr>\n    <tr>\n      <th>77</th>\n      <td>United States</td>\n      <td>New York City</td>\n      <td>0.6</td>\n      <td>2.1</td>\n      <td>6.1</td>\n      <td>11.9</td>\n      <td>17.1</td>\n      <td>22.1</td>\n      <td>24.9</td>\n      <td>24.3</td>\n      <td>20.2</td>\n      <td>14.1</td>\n      <td>8.9</td>\n      <td>3.3</td>\n      <td>12.9</td>\n    </tr>\n  </tbody>\n</table>\n</div>"
     },
     "metadata": {},
     "execution_count": 146
    }
   ],
   "source": [
    "# remove the farenheit temperature values\n",
    "weather_months = df_city_weather.columns.drop(['Country','City','Ref.']) # list of months\n",
    "\n",
    "for month in  weather_months:\n",
    "    df_city_weather[str(month)] = df_city_weather[str(month)].str.replace(r\"\\(.*\\)\",\"\") # Remove the parenthesis + the within\n",
    "\n",
    "# drop the ref column\n",
    "df_city_weather = df_city_weather.drop(['Ref.'], axis=1) \n",
    "\n",
    "# the cities average temperatures in celsius\n",
    "# df_city_weather.head()\n",
    "\n",
    "# cities of interest\n",
    "df_city_weather[df_city_weather[\"City\"].str.lower().str.contains(\"stock|new york|toro\")]\n",
    "# pd.set_option('display.max_columns', None)"
   ]
  },
  {
   "source": [
    "### use another data source \n",
    "the the used wikipedia page since a city level is not detailed enough."
   ],
   "cell_type": "markdown",
   "metadata": {}
  },
  {
   "cell_type": "code",
   "execution_count": 201,
   "metadata": {},
   "outputs": [],
   "source": [
    "openweathermap_api_key = config.openweathermap_api_key\n",
    "lat       = 43.648198\n",
    "lon       = -79.379817\n"
   ]
  },
  {
   "cell_type": "code",
   "execution_count": 202,
   "metadata": {},
   "outputs": [],
   "source": [
    "url = \"https://api.openweathermap.org/data/2.5/onecall?lat={}&lon={}&exclude={}&appid={}\".format(lat, lon, \"current,minutely,hourly,alerts\", openweathermap_api_key)"
   ]
  },
  {
   "cell_type": "code",
   "execution_count": 203,
   "metadata": {},
   "outputs": [],
   "source": [
    "results = requests.get(url).json()"
   ]
  },
  {
   "cell_type": "code",
   "execution_count": 204,
   "metadata": {},
   "outputs": [
    {
     "output_type": "execute_result",
     "data": {
      "text/plain": [
       "dict_keys(['lat', 'lon', 'timezone', 'timezone_offset', 'daily'])"
      ]
     },
     "metadata": {},
     "execution_count": 204
    }
   ],
   "source": [
    "results.keys()\n",
    "# results['current']['temp']\n",
    "# results['daily'][0].keys()\n",
    "# results['daily'][0]['weather'][0]['main']\n",
    "# results['daily'][0]['dt']\n",
    "# results['daily'][0]['temp']['day']"
   ]
  },
  {
   "cell_type": "code",
   "execution_count": 279,
   "metadata": {},
   "outputs": [
    {
     "output_type": "stream",
     "name": "stdout",
     "text": [
      "Mean temp:  11.15375\nmost frequent weather:  Clear\n"
     ]
    },
    {
     "output_type": "execute_result",
     "data": {
      "text/plain": [
       "    temp weather                             date\n",
       "0   8.39    Rain  Sun, 01 Nov 2020 18:00:00 +0000\n",
       "1   4.70  Clouds  Sun, 01 Nov 2020 18:00:00 +0000\n",
       "2   3.78  Clouds  Sun, 01 Nov 2020 18:00:00 +0000\n",
       "3  13.29   Clear  Sun, 01 Nov 2020 18:00:00 +0000\n",
       "4  14.02  Clouds  Sun, 01 Nov 2020 18:00:00 +0000"
      ],
      "text/html": "<div>\n<style scoped>\n    .dataframe tbody tr th:only-of-type {\n        vertical-align: middle;\n    }\n\n    .dataframe tbody tr th {\n        vertical-align: top;\n    }\n\n    .dataframe thead th {\n        text-align: right;\n    }\n</style>\n<table border=\"1\" class=\"dataframe\">\n  <thead>\n    <tr style=\"text-align: right;\">\n      <th></th>\n      <th>temp</th>\n      <th>weather</th>\n      <th>date</th>\n    </tr>\n  </thead>\n  <tbody>\n    <tr>\n      <th>0</th>\n      <td>8.39</td>\n      <td>Rain</td>\n      <td>Sun, 01 Nov 2020 18:00:00 +0000</td>\n    </tr>\n    <tr>\n      <th>1</th>\n      <td>4.70</td>\n      <td>Clouds</td>\n      <td>Sun, 01 Nov 2020 18:00:00 +0000</td>\n    </tr>\n    <tr>\n      <th>2</th>\n      <td>3.78</td>\n      <td>Clouds</td>\n      <td>Sun, 01 Nov 2020 18:00:00 +0000</td>\n    </tr>\n    <tr>\n      <th>3</th>\n      <td>13.29</td>\n      <td>Clear</td>\n      <td>Sun, 01 Nov 2020 18:00:00 +0000</td>\n    </tr>\n    <tr>\n      <th>4</th>\n      <td>14.02</td>\n      <td>Clouds</td>\n      <td>Sun, 01 Nov 2020 18:00:00 +0000</td>\n    </tr>\n  </tbody>\n</table>\n</div>"
     },
     "metadata": {},
     "execution_count": 279
    }
   ],
   "source": [
    "weather_yesterday=[]\n",
    "for i,a in enumerate(results['daily']):\n",
    "    # print(i)\n",
    "    # print(str(round( results['daily'][i]['temp']['day'] -273, 2)) +\" C.  \"+ str(results['daily'][i]['weather'][0]['main'])+ \"  \" +str( time.strftime(\"%a, %d %b %Y %H:%M:%S +0000\", time.localtime(results['daily'][0]['dt'])) ) )\n",
    "    weather_yesterday.append([round( results['daily'][i]['temp']['day'] -273.15, 2), results['daily'][i]['weather'][0]['main'], time.strftime(\"%a, %d %b %Y %H:%M:%S +0000\", time.localtime(results['daily'][0]['dt'])) ])\n",
    "\n",
    "df_weather_yesterday=pd.DataFrame(weather_yesterday, columns=['temp','weather','date'])\n",
    "print(\"Mean temp: \",df_weather_yesterday['temp'].mean())\n",
    "# print(\"weather: \",Counter(df_weather_yesterday['weather']))\n",
    "print(\"most frequent weather: \", df_weather_yesterday['weather'].value_counts()[:2].index[1])\n",
    "\n",
    "df_weather_yesterday.head()"
   ]
  },
  {
   "source": [
    "include data in df"
   ],
   "cell_type": "markdown",
   "metadata": {}
  },
  {
   "cell_type": "code",
   "execution_count": 213,
   "metadata": {},
   "outputs": [],
   "source": [
    "weather_mean_temp=np.array([])\n",
    "weather_most_freq_weather=np.array([])\n",
    "weather_2nd_most_freq_weather=np.array([])\n",
    "\n",
    "# get coordinates for all neighborhoods\n",
    "for lat,lon in df_to_neighborhoods[['Latitude', 'Longitude']].itertuples(index=False):\n",
    "\n",
    "    # Get data from api, with coordinates\n",
    "    url = \"https://api.openweathermap.org/data/2.5/onecall?lat={}&lon={}&exclude={}&appid={}\".format(lat, lon, \"current,minutely,hourly,alerts\", openweathermap_api_key)\n",
    "    weather_data = requests.get(url).json()\n",
    "    \n",
    "    # there is a constraint that MAX 60 api-calls per minutes can be made\n",
    "    time.sleep(2)\n",
    "    \n",
    "    # get weather data for last 5 days and get mean ans most freq\n",
    "    weather_last_5=[]\n",
    "    for i in range(0,len(weather_data['daily'])):\n",
    "        # print(weather_data['daily'][i]['temp']['day'])\n",
    "        # clean and add data in dataframe\n",
    "        weather_last_5.append([ round( weather_data['daily'][i]['temp']['day'] -273.15, 2),  weather_data['daily'][i]['weather'][0]['main'] ])\n",
    "    df_weather_last_5=pd.DataFrame(weather_last_5, columns=['temp','weather'])\n",
    "    \n",
    "    # calculate mean temp and most frequent weather, the last 5 days\n",
    "    mean_temperature = df_weather_last_5['temp'].mean()\n",
    "    most_freq_weather = df_weather_last_5['weather'].value_counts()[:1].index[0]\n",
    "    weather_2nd_most_freq_weather = df_weather_last_5['weather'].value_counts()[:2].index[1]\n",
    "    \n",
    "    weather_mean_temp = np.append(weather_mean_temp, mean_temperature)\n",
    "    weather_most_freq_weather = np.append(weather_most_freq_weather, most_freq_weather)"
   ]
  },
  {
   "cell_type": "code",
   "execution_count": 215,
   "metadata": {},
   "outputs": [
    {
     "output_type": "stream",
     "name": "stdout",
     "text": [
      "Mean temp:  11.20625\n"
     ]
    },
    {
     "output_type": "execute_result",
     "data": {
      "text/plain": [
       "0     7.29\n",
       "1     4.47\n",
       "2     3.83\n",
       "3    13.57\n",
       "4    14.26\n",
       "5    14.16\n",
       "6    15.87\n",
       "7    16.20\n",
       "Name: temp, dtype: float64"
      ]
     },
     "metadata": {},
     "execution_count": 215
    }
   ],
   "source": [
    "print(\"Mean temp: \",df_weather_last_5['temp'].mean())\n",
    "df_weather_last_5['temp']"
   ]
  },
  {
   "cell_type": "code",
   "execution_count": 214,
   "metadata": {},
   "outputs": [
    {
     "output_type": "execute_result",
     "data": {
      "text/plain": [
       "  Postal Code           Borough                                Neighbourhood  \\\n",
       "0         M3A        North York                                    Parkwoods   \n",
       "1         M4A        North York                             Victoria Village   \n",
       "2         M5A  Downtown Toronto                    Regent Park, Harbourfront   \n",
       "3         M6A        North York             Lawrence Manor, Lawrence Heights   \n",
       "4         M7A  Downtown Toronto  Queen's Park, Ontario Provincial Government   \n",
       "\n",
       "    Latitude  Longitude  mean_temp_last5days most_freq_weather_last5days  \n",
       "0  43.653482 -79.383935             11.06625                      Clouds  \n",
       "1  43.725882 -79.315572             11.03875                      Clouds  \n",
       "2  43.654260 -79.360636             11.01625                      Clouds  \n",
       "3  43.718518 -79.464763             10.97875                      Clouds  \n",
       "4  43.653482 -79.383935             11.06625                      Clouds  "
      ],
      "text/html": "<div>\n<style scoped>\n    .dataframe tbody tr th:only-of-type {\n        vertical-align: middle;\n    }\n\n    .dataframe tbody tr th {\n        vertical-align: top;\n    }\n\n    .dataframe thead th {\n        text-align: right;\n    }\n</style>\n<table border=\"1\" class=\"dataframe\">\n  <thead>\n    <tr style=\"text-align: right;\">\n      <th></th>\n      <th>Postal Code</th>\n      <th>Borough</th>\n      <th>Neighbourhood</th>\n      <th>Latitude</th>\n      <th>Longitude</th>\n      <th>mean_temp_last5days</th>\n      <th>most_freq_weather_last5days</th>\n    </tr>\n  </thead>\n  <tbody>\n    <tr>\n      <th>0</th>\n      <td>M3A</td>\n      <td>North York</td>\n      <td>Parkwoods</td>\n      <td>43.653482</td>\n      <td>-79.383935</td>\n      <td>11.06625</td>\n      <td>Clouds</td>\n    </tr>\n    <tr>\n      <th>1</th>\n      <td>M4A</td>\n      <td>North York</td>\n      <td>Victoria Village</td>\n      <td>43.725882</td>\n      <td>-79.315572</td>\n      <td>11.03875</td>\n      <td>Clouds</td>\n    </tr>\n    <tr>\n      <th>2</th>\n      <td>M5A</td>\n      <td>Downtown Toronto</td>\n      <td>Regent Park, Harbourfront</td>\n      <td>43.654260</td>\n      <td>-79.360636</td>\n      <td>11.01625</td>\n      <td>Clouds</td>\n    </tr>\n    <tr>\n      <th>3</th>\n      <td>M6A</td>\n      <td>North York</td>\n      <td>Lawrence Manor, Lawrence Heights</td>\n      <td>43.718518</td>\n      <td>-79.464763</td>\n      <td>10.97875</td>\n      <td>Clouds</td>\n    </tr>\n    <tr>\n      <th>4</th>\n      <td>M7A</td>\n      <td>Downtown Toronto</td>\n      <td>Queen's Park, Ontario Provincial Government</td>\n      <td>43.653482</td>\n      <td>-79.383935</td>\n      <td>11.06625</td>\n      <td>Clouds</td>\n    </tr>\n  </tbody>\n</table>\n</div>"
     },
     "metadata": {},
     "execution_count": 214
    }
   ],
   "source": [
    "df_to_neighborhoods[\"mean_temp_last5days\"]=weather_mean_temp\n",
    "df_to_neighborhoods[\"most_freq_weather_last5days\"]=weather_most_freq_weather\n",
    "df_to_neighborhoods.head()"
   ]
  },
  {
   "cell_type": "code",
   "execution_count": 216,
   "metadata": {},
   "outputs": [
    {
     "output_type": "execute_result",
     "data": {
      "text/plain": [
       "    Postal Code           Borough  \\\n",
       "0           M3A        North York   \n",
       "1           M4A        North York   \n",
       "2           M5A  Downtown Toronto   \n",
       "3           M6A        North York   \n",
       "4           M7A  Downtown Toronto   \n",
       "..          ...               ...   \n",
       "98          M8X         Etobicoke   \n",
       "99          M4Y  Downtown Toronto   \n",
       "100         M7Y      East Toronto   \n",
       "101         M8Y         Etobicoke   \n",
       "102         M8Z         Etobicoke   \n",
       "\n",
       "                                         Neighbourhood   Latitude  Longitude  \\\n",
       "0                                            Parkwoods  43.653482 -79.383935   \n",
       "1                                     Victoria Village  43.725882 -79.315572   \n",
       "2                            Regent Park, Harbourfront  43.654260 -79.360636   \n",
       "3                     Lawrence Manor, Lawrence Heights  43.718518 -79.464763   \n",
       "4          Queen's Park, Ontario Provincial Government  43.653482 -79.383935   \n",
       "..                                                 ...        ...        ...   \n",
       "98       The Kingsway, Montgomery Road, Old Mill North  43.653654 -79.506944   \n",
       "99                                Church and Wellesley  43.665860 -79.383160   \n",
       "100  Business reply mail Processing Centre, South C...  43.662744 -79.321558   \n",
       "101  Old Mill South, King's Mill Park, Sunnylea, Hu...  43.636258 -79.498509   \n",
       "102  Mimico NW, The Queensway West, South of Bloor,...  43.628841 -79.520999   \n",
       "\n",
       "     mean_temp_last5days most_freq_weather_last5days  \n",
       "0               11.06625                      Clouds  \n",
       "1               11.03875                      Clouds  \n",
       "2               11.01625                      Clouds  \n",
       "3               10.97875                      Clouds  \n",
       "4               11.06625                      Clouds  \n",
       "..                   ...                         ...  \n",
       "98              11.25125                      Clouds  \n",
       "99              11.00125                      Clouds  \n",
       "100             10.96000                      Clouds  \n",
       "101             11.23625                      Clouds  \n",
       "102             11.20625                      Clouds  \n",
       "\n",
       "[103 rows x 7 columns]"
      ],
      "text/html": "<div>\n<style scoped>\n    .dataframe tbody tr th:only-of-type {\n        vertical-align: middle;\n    }\n\n    .dataframe tbody tr th {\n        vertical-align: top;\n    }\n\n    .dataframe thead th {\n        text-align: right;\n    }\n</style>\n<table border=\"1\" class=\"dataframe\">\n  <thead>\n    <tr style=\"text-align: right;\">\n      <th></th>\n      <th>Postal Code</th>\n      <th>Borough</th>\n      <th>Neighbourhood</th>\n      <th>Latitude</th>\n      <th>Longitude</th>\n      <th>mean_temp_last5days</th>\n      <th>most_freq_weather_last5days</th>\n    </tr>\n  </thead>\n  <tbody>\n    <tr>\n      <th>0</th>\n      <td>M3A</td>\n      <td>North York</td>\n      <td>Parkwoods</td>\n      <td>43.653482</td>\n      <td>-79.383935</td>\n      <td>11.06625</td>\n      <td>Clouds</td>\n    </tr>\n    <tr>\n      <th>1</th>\n      <td>M4A</td>\n      <td>North York</td>\n      <td>Victoria Village</td>\n      <td>43.725882</td>\n      <td>-79.315572</td>\n      <td>11.03875</td>\n      <td>Clouds</td>\n    </tr>\n    <tr>\n      <th>2</th>\n      <td>M5A</td>\n      <td>Downtown Toronto</td>\n      <td>Regent Park, Harbourfront</td>\n      <td>43.654260</td>\n      <td>-79.360636</td>\n      <td>11.01625</td>\n      <td>Clouds</td>\n    </tr>\n    <tr>\n      <th>3</th>\n      <td>M6A</td>\n      <td>North York</td>\n      <td>Lawrence Manor, Lawrence Heights</td>\n      <td>43.718518</td>\n      <td>-79.464763</td>\n      <td>10.97875</td>\n      <td>Clouds</td>\n    </tr>\n    <tr>\n      <th>4</th>\n      <td>M7A</td>\n      <td>Downtown Toronto</td>\n      <td>Queen's Park, Ontario Provincial Government</td>\n      <td>43.653482</td>\n      <td>-79.383935</td>\n      <td>11.06625</td>\n      <td>Clouds</td>\n    </tr>\n    <tr>\n      <th>...</th>\n      <td>...</td>\n      <td>...</td>\n      <td>...</td>\n      <td>...</td>\n      <td>...</td>\n      <td>...</td>\n      <td>...</td>\n    </tr>\n    <tr>\n      <th>98</th>\n      <td>M8X</td>\n      <td>Etobicoke</td>\n      <td>The Kingsway, Montgomery Road, Old Mill North</td>\n      <td>43.653654</td>\n      <td>-79.506944</td>\n      <td>11.25125</td>\n      <td>Clouds</td>\n    </tr>\n    <tr>\n      <th>99</th>\n      <td>M4Y</td>\n      <td>Downtown Toronto</td>\n      <td>Church and Wellesley</td>\n      <td>43.665860</td>\n      <td>-79.383160</td>\n      <td>11.00125</td>\n      <td>Clouds</td>\n    </tr>\n    <tr>\n      <th>100</th>\n      <td>M7Y</td>\n      <td>East Toronto</td>\n      <td>Business reply mail Processing Centre, South C...</td>\n      <td>43.662744</td>\n      <td>-79.321558</td>\n      <td>10.96000</td>\n      <td>Clouds</td>\n    </tr>\n    <tr>\n      <th>101</th>\n      <td>M8Y</td>\n      <td>Etobicoke</td>\n      <td>Old Mill South, King's Mill Park, Sunnylea, Hu...</td>\n      <td>43.636258</td>\n      <td>-79.498509</td>\n      <td>11.23625</td>\n      <td>Clouds</td>\n    </tr>\n    <tr>\n      <th>102</th>\n      <td>M8Z</td>\n      <td>Etobicoke</td>\n      <td>Mimico NW, The Queensway West, South of Bloor,...</td>\n      <td>43.628841</td>\n      <td>-79.520999</td>\n      <td>11.20625</td>\n      <td>Clouds</td>\n    </tr>\n  </tbody>\n</table>\n<p>103 rows × 7 columns</p>\n</div>"
     },
     "metadata": {},
     "execution_count": 216
    }
   ],
   "source": [
    "pd.set_option('display.max_columns', None)\n",
    "df_to_neighborhoods"
   ]
  },
  {
   "source": [
    "## add crime index"
   ],
   "cell_type": "markdown",
   "metadata": {}
  },
  {
   "source": [],
   "cell_type": "markdown",
   "metadata": {}
  },
  {
   "cell_type": "code",
   "execution_count": 232,
   "metadata": {},
   "outputs": [
    {
     "output_type": "execute_result",
     "data": {
      "text/plain": [
       "              X             Y  Index_ event_unique_id          occurrencedate  \\\n",
       "0 -8.850277e+06  5.429886e+06       1  GO-20141289469  2014/01/06 01:08:00+00   \n",
       "1 -8.827688e+06  5.435919e+06       4  GO-20141331950  2014/01/12 20:58:00+00   \n",
       "2 -8.827688e+06  5.435919e+06       5  GO-20141331950  2014/01/12 20:58:00+00   \n",
       "3 -8.836777e+06  5.412838e+06       9  GO-20141332202  2014/01/12 22:00:00+00   \n",
       "4 -8.847506e+06  5.423442e+06      11  GO-20141335270  2014/01/13 11:56:00+00   \n",
       "\n",
       "             reporteddate premisetype  ucr_code  ucr_ext              offence  \\\n",
       "0  2014/01/06 01:57:00+00       Other      1610      200    Robbery - Mugging   \n",
       "1  2014/01/12 20:58:00+00       Other      1610      100  Robbery With Weapon   \n",
       "2  2014/01/12 20:58:00+00       Other      1610      100  Robbery With Weapon   \n",
       "3  2014/01/12 22:00:00+00     Outside      1610      200    Robbery - Mugging   \n",
       "4  2014/01/13 11:56:00+00  Commercial      1610      200    Robbery - Mugging   \n",
       "\n",
       "   reportedyear reportedmonth  reportedday  reporteddayofyear  \\\n",
       "0          2014       January            6                  6   \n",
       "1          2014       January           12                 12   \n",
       "2          2014       January           12                 12   \n",
       "3          2014       January           12                 12   \n",
       "4          2014       January           13                 13   \n",
       "\n",
       "  reporteddayofweek  reportedhour  occurrenceyear occurrencemonth  \\\n",
       "0        Monday                 1          2014.0         January   \n",
       "1        Sunday                20          2014.0         January   \n",
       "2        Sunday                20          2014.0         January   \n",
       "3        Sunday                22          2014.0         January   \n",
       "4        Monday                11          2014.0         January   \n",
       "\n",
       "   occurrenceday  occurrencedayofyear occurrencedayofweek  occurrencehour  \\\n",
       "0            6.0                  6.0          Monday                   1   \n",
       "1           12.0                 12.0          Sunday                  20   \n",
       "2           12.0                 12.0          Sunday                  20   \n",
       "3           12.0                 12.0          Sunday                  22   \n",
       "4           13.0                 13.0          Monday                  11   \n",
       "\n",
       "       MCI Division  Hood_ID                 Neighbourhood       Long  \\\n",
       "0  Robbery      D31       27  York University Heights (27) -79.503388   \n",
       "1  Robbery      D42      130                Milliken (130) -79.300468   \n",
       "2  Robbery      D42      130                Milliken (130) -79.300468   \n",
       "3  Robbery      D51       76      Bay Street Corridor (76) -79.382118   \n",
       "4  Robbery      D31       26     Downsview-Roding-CFB (26) -79.478500   \n",
       "\n",
       "         Lat  ObjectId  \n",
       "0  43.769791         1  \n",
       "1  43.808918         2  \n",
       "2  43.808918         3  \n",
       "3  43.659100         4  \n",
       "4  43.727978         5  "
      ],
      "text/html": "<div>\n<style scoped>\n    .dataframe tbody tr th:only-of-type {\n        vertical-align: middle;\n    }\n\n    .dataframe tbody tr th {\n        vertical-align: top;\n    }\n\n    .dataframe thead th {\n        text-align: right;\n    }\n</style>\n<table border=\"1\" class=\"dataframe\">\n  <thead>\n    <tr style=\"text-align: right;\">\n      <th></th>\n      <th>X</th>\n      <th>Y</th>\n      <th>Index_</th>\n      <th>event_unique_id</th>\n      <th>occurrencedate</th>\n      <th>reporteddate</th>\n      <th>premisetype</th>\n      <th>ucr_code</th>\n      <th>ucr_ext</th>\n      <th>offence</th>\n      <th>reportedyear</th>\n      <th>reportedmonth</th>\n      <th>reportedday</th>\n      <th>reporteddayofyear</th>\n      <th>reporteddayofweek</th>\n      <th>reportedhour</th>\n      <th>occurrenceyear</th>\n      <th>occurrencemonth</th>\n      <th>occurrenceday</th>\n      <th>occurrencedayofyear</th>\n      <th>occurrencedayofweek</th>\n      <th>occurrencehour</th>\n      <th>MCI</th>\n      <th>Division</th>\n      <th>Hood_ID</th>\n      <th>Neighbourhood</th>\n      <th>Long</th>\n      <th>Lat</th>\n      <th>ObjectId</th>\n    </tr>\n  </thead>\n  <tbody>\n    <tr>\n      <th>0</th>\n      <td>-8.850277e+06</td>\n      <td>5.429886e+06</td>\n      <td>1</td>\n      <td>GO-20141289469</td>\n      <td>2014/01/06 01:08:00+00</td>\n      <td>2014/01/06 01:57:00+00</td>\n      <td>Other</td>\n      <td>1610</td>\n      <td>200</td>\n      <td>Robbery - Mugging</td>\n      <td>2014</td>\n      <td>January</td>\n      <td>6</td>\n      <td>6</td>\n      <td>Monday</td>\n      <td>1</td>\n      <td>2014.0</td>\n      <td>January</td>\n      <td>6.0</td>\n      <td>6.0</td>\n      <td>Monday</td>\n      <td>1</td>\n      <td>Robbery</td>\n      <td>D31</td>\n      <td>27</td>\n      <td>York University Heights (27)</td>\n      <td>-79.503388</td>\n      <td>43.769791</td>\n      <td>1</td>\n    </tr>\n    <tr>\n      <th>1</th>\n      <td>-8.827688e+06</td>\n      <td>5.435919e+06</td>\n      <td>4</td>\n      <td>GO-20141331950</td>\n      <td>2014/01/12 20:58:00+00</td>\n      <td>2014/01/12 20:58:00+00</td>\n      <td>Other</td>\n      <td>1610</td>\n      <td>100</td>\n      <td>Robbery With Weapon</td>\n      <td>2014</td>\n      <td>January</td>\n      <td>12</td>\n      <td>12</td>\n      <td>Sunday</td>\n      <td>20</td>\n      <td>2014.0</td>\n      <td>January</td>\n      <td>12.0</td>\n      <td>12.0</td>\n      <td>Sunday</td>\n      <td>20</td>\n      <td>Robbery</td>\n      <td>D42</td>\n      <td>130</td>\n      <td>Milliken (130)</td>\n      <td>-79.300468</td>\n      <td>43.808918</td>\n      <td>2</td>\n    </tr>\n    <tr>\n      <th>2</th>\n      <td>-8.827688e+06</td>\n      <td>5.435919e+06</td>\n      <td>5</td>\n      <td>GO-20141331950</td>\n      <td>2014/01/12 20:58:00+00</td>\n      <td>2014/01/12 20:58:00+00</td>\n      <td>Other</td>\n      <td>1610</td>\n      <td>100</td>\n      <td>Robbery With Weapon</td>\n      <td>2014</td>\n      <td>January</td>\n      <td>12</td>\n      <td>12</td>\n      <td>Sunday</td>\n      <td>20</td>\n      <td>2014.0</td>\n      <td>January</td>\n      <td>12.0</td>\n      <td>12.0</td>\n      <td>Sunday</td>\n      <td>20</td>\n      <td>Robbery</td>\n      <td>D42</td>\n      <td>130</td>\n      <td>Milliken (130)</td>\n      <td>-79.300468</td>\n      <td>43.808918</td>\n      <td>3</td>\n    </tr>\n    <tr>\n      <th>3</th>\n      <td>-8.836777e+06</td>\n      <td>5.412838e+06</td>\n      <td>9</td>\n      <td>GO-20141332202</td>\n      <td>2014/01/12 22:00:00+00</td>\n      <td>2014/01/12 22:00:00+00</td>\n      <td>Outside</td>\n      <td>1610</td>\n      <td>200</td>\n      <td>Robbery - Mugging</td>\n      <td>2014</td>\n      <td>January</td>\n      <td>12</td>\n      <td>12</td>\n      <td>Sunday</td>\n      <td>22</td>\n      <td>2014.0</td>\n      <td>January</td>\n      <td>12.0</td>\n      <td>12.0</td>\n      <td>Sunday</td>\n      <td>22</td>\n      <td>Robbery</td>\n      <td>D51</td>\n      <td>76</td>\n      <td>Bay Street Corridor (76)</td>\n      <td>-79.382118</td>\n      <td>43.659100</td>\n      <td>4</td>\n    </tr>\n    <tr>\n      <th>4</th>\n      <td>-8.847506e+06</td>\n      <td>5.423442e+06</td>\n      <td>11</td>\n      <td>GO-20141335270</td>\n      <td>2014/01/13 11:56:00+00</td>\n      <td>2014/01/13 11:56:00+00</td>\n      <td>Commercial</td>\n      <td>1610</td>\n      <td>200</td>\n      <td>Robbery - Mugging</td>\n      <td>2014</td>\n      <td>January</td>\n      <td>13</td>\n      <td>13</td>\n      <td>Monday</td>\n      <td>11</td>\n      <td>2014.0</td>\n      <td>January</td>\n      <td>13.0</td>\n      <td>13.0</td>\n      <td>Monday</td>\n      <td>11</td>\n      <td>Robbery</td>\n      <td>D31</td>\n      <td>26</td>\n      <td>Downsview-Roding-CFB (26)</td>\n      <td>-79.478500</td>\n      <td>43.727978</td>\n      <td>5</td>\n    </tr>\n  </tbody>\n</table>\n</div>"
     },
     "metadata": {},
     "execution_count": 232
    }
   ],
   "source": [
    "df_to_crime_all=pd.read_csv('../datafiles/Robbery_2014_to_2019.csv')\n",
    "df_to_crime_all.head()"
   ]
  },
  {
   "cell_type": "code",
   "execution_count": 236,
   "metadata": {},
   "outputs": [
    {
     "output_type": "stream",
     "name": "stdout",
     "text": [
      "(3417, 29)\n"
     ]
    },
    {
     "output_type": "execute_result",
     "data": {
      "text/plain": [
       "   index             X             Y  Index_ event_unique_id  \\\n",
       "0  14002 -8.847359e+06  5.417543e+06  132094  GO-20191084412   \n",
       "1  14012 -8.844723e+06  5.418360e+06  132139   GO-2019224056   \n",
       "2  14016 -8.829785e+06  5.414963e+06  132158   GO-2019283112   \n",
       "3  14018 -8.823933e+06  5.421483e+06  132168   GO-2019918984   \n",
       "4  14020 -8.853407e+06  5.421303e+06  131641   GO-2019378335   \n",
       "\n",
       "           occurrencedate            reporteddate premisetype  ucr_code  \\\n",
       "0  2019/06/11 17:30:00+00  2019/06/12 15:00:00+00     Outside      1610   \n",
       "1  2019/02/04 20:40:00+00  2019/02/04 20:53:00+00  Commercial      1610   \n",
       "2  2019/02/14 08:45:00+00  2019/02/14 12:09:00+00  Commercial      1610   \n",
       "3  2019/05/20 10:30:00+00  2019/05/20 12:51:00+00     Outside      1610   \n",
       "4  2019/02/28 23:24:00+00  2019/02/28 23:24:00+00     Outside      1610   \n",
       "\n",
       "   ucr_ext             offence  reportedyear reportedmonth  reportedday  \\\n",
       "0      200   Robbery - Mugging          2019          June           12   \n",
       "1      210  Robbery - Business          2019      February            4   \n",
       "2      210  Robbery - Business          2019      February           14   \n",
       "3      220     Robbery - Other          2019           May           20   \n",
       "4      220     Robbery - Other          2019      February           28   \n",
       "\n",
       "   reporteddayofyear reporteddayofweek  reportedhour  occurrenceyear  \\\n",
       "0                163        Wednesday             15          2019.0   \n",
       "1                 35        Monday                20          2019.0   \n",
       "2                 45        Thursday              12          2019.0   \n",
       "3                140        Monday                12          2019.0   \n",
       "4                 59        Thursday              23          2019.0   \n",
       "\n",
       "  occurrencemonth  occurrenceday  occurrencedayofyear occurrencedayofweek  \\\n",
       "0            June           11.0                162.0          Tuesday      \n",
       "1        February            4.0                 35.0          Monday       \n",
       "2        February           14.0                 45.0          Thursday     \n",
       "3             May           20.0                140.0          Monday       \n",
       "4        February           28.0                 59.0          Thursday     \n",
       "\n",
       "   occurrencehour      MCI Division  Hood_ID                  Neighbourhood  \\\n",
       "0              17  Robbery      D12      112  Beechborough-Greenbrook (112)   \n",
       "1              20  Robbery      D13      108     Briar Hill-Belgravia (108)   \n",
       "2               8  Robbery      D55       64         Woodbine Corridor (64)   \n",
       "3              10  Robbery      D41      120      Clairlea-Birchmount (120)   \n",
       "4              23  Robbery      D12       23      Pelmo Park-Humberlea (23)   \n",
       "\n",
       "        Long        Lat  ObjectId  \n",
       "0 -79.477181  43.689671     14003  \n",
       "1 -79.453499  43.694981     14013  \n",
       "2 -79.319305  43.672909     14017  \n",
       "3 -79.266739  43.715260     14019  \n",
       "4 -79.531509  43.714092     14021  "
      ],
      "text/html": "<div>\n<style scoped>\n    .dataframe tbody tr th:only-of-type {\n        vertical-align: middle;\n    }\n\n    .dataframe tbody tr th {\n        vertical-align: top;\n    }\n\n    .dataframe thead th {\n        text-align: right;\n    }\n</style>\n<table border=\"1\" class=\"dataframe\">\n  <thead>\n    <tr style=\"text-align: right;\">\n      <th></th>\n      <th>index</th>\n      <th>X</th>\n      <th>Y</th>\n      <th>Index_</th>\n      <th>event_unique_id</th>\n      <th>occurrencedate</th>\n      <th>reporteddate</th>\n      <th>premisetype</th>\n      <th>ucr_code</th>\n      <th>ucr_ext</th>\n      <th>offence</th>\n      <th>reportedyear</th>\n      <th>reportedmonth</th>\n      <th>reportedday</th>\n      <th>reporteddayofyear</th>\n      <th>reporteddayofweek</th>\n      <th>reportedhour</th>\n      <th>occurrenceyear</th>\n      <th>occurrencemonth</th>\n      <th>occurrenceday</th>\n      <th>occurrencedayofyear</th>\n      <th>occurrencedayofweek</th>\n      <th>occurrencehour</th>\n      <th>MCI</th>\n      <th>Division</th>\n      <th>Hood_ID</th>\n      <th>Neighbourhood</th>\n      <th>Long</th>\n      <th>Lat</th>\n      <th>ObjectId</th>\n    </tr>\n  </thead>\n  <tbody>\n    <tr>\n      <th>0</th>\n      <td>14002</td>\n      <td>-8.847359e+06</td>\n      <td>5.417543e+06</td>\n      <td>132094</td>\n      <td>GO-20191084412</td>\n      <td>2019/06/11 17:30:00+00</td>\n      <td>2019/06/12 15:00:00+00</td>\n      <td>Outside</td>\n      <td>1610</td>\n      <td>200</td>\n      <td>Robbery - Mugging</td>\n      <td>2019</td>\n      <td>June</td>\n      <td>12</td>\n      <td>163</td>\n      <td>Wednesday</td>\n      <td>15</td>\n      <td>2019.0</td>\n      <td>June</td>\n      <td>11.0</td>\n      <td>162.0</td>\n      <td>Tuesday</td>\n      <td>17</td>\n      <td>Robbery</td>\n      <td>D12</td>\n      <td>112</td>\n      <td>Beechborough-Greenbrook (112)</td>\n      <td>-79.477181</td>\n      <td>43.689671</td>\n      <td>14003</td>\n    </tr>\n    <tr>\n      <th>1</th>\n      <td>14012</td>\n      <td>-8.844723e+06</td>\n      <td>5.418360e+06</td>\n      <td>132139</td>\n      <td>GO-2019224056</td>\n      <td>2019/02/04 20:40:00+00</td>\n      <td>2019/02/04 20:53:00+00</td>\n      <td>Commercial</td>\n      <td>1610</td>\n      <td>210</td>\n      <td>Robbery - Business</td>\n      <td>2019</td>\n      <td>February</td>\n      <td>4</td>\n      <td>35</td>\n      <td>Monday</td>\n      <td>20</td>\n      <td>2019.0</td>\n      <td>February</td>\n      <td>4.0</td>\n      <td>35.0</td>\n      <td>Monday</td>\n      <td>20</td>\n      <td>Robbery</td>\n      <td>D13</td>\n      <td>108</td>\n      <td>Briar Hill-Belgravia (108)</td>\n      <td>-79.453499</td>\n      <td>43.694981</td>\n      <td>14013</td>\n    </tr>\n    <tr>\n      <th>2</th>\n      <td>14016</td>\n      <td>-8.829785e+06</td>\n      <td>5.414963e+06</td>\n      <td>132158</td>\n      <td>GO-2019283112</td>\n      <td>2019/02/14 08:45:00+00</td>\n      <td>2019/02/14 12:09:00+00</td>\n      <td>Commercial</td>\n      <td>1610</td>\n      <td>210</td>\n      <td>Robbery - Business</td>\n      <td>2019</td>\n      <td>February</td>\n      <td>14</td>\n      <td>45</td>\n      <td>Thursday</td>\n      <td>12</td>\n      <td>2019.0</td>\n      <td>February</td>\n      <td>14.0</td>\n      <td>45.0</td>\n      <td>Thursday</td>\n      <td>8</td>\n      <td>Robbery</td>\n      <td>D55</td>\n      <td>64</td>\n      <td>Woodbine Corridor (64)</td>\n      <td>-79.319305</td>\n      <td>43.672909</td>\n      <td>14017</td>\n    </tr>\n    <tr>\n      <th>3</th>\n      <td>14018</td>\n      <td>-8.823933e+06</td>\n      <td>5.421483e+06</td>\n      <td>132168</td>\n      <td>GO-2019918984</td>\n      <td>2019/05/20 10:30:00+00</td>\n      <td>2019/05/20 12:51:00+00</td>\n      <td>Outside</td>\n      <td>1610</td>\n      <td>220</td>\n      <td>Robbery - Other</td>\n      <td>2019</td>\n      <td>May</td>\n      <td>20</td>\n      <td>140</td>\n      <td>Monday</td>\n      <td>12</td>\n      <td>2019.0</td>\n      <td>May</td>\n      <td>20.0</td>\n      <td>140.0</td>\n      <td>Monday</td>\n      <td>10</td>\n      <td>Robbery</td>\n      <td>D41</td>\n      <td>120</td>\n      <td>Clairlea-Birchmount (120)</td>\n      <td>-79.266739</td>\n      <td>43.715260</td>\n      <td>14019</td>\n    </tr>\n    <tr>\n      <th>4</th>\n      <td>14020</td>\n      <td>-8.853407e+06</td>\n      <td>5.421303e+06</td>\n      <td>131641</td>\n      <td>GO-2019378335</td>\n      <td>2019/02/28 23:24:00+00</td>\n      <td>2019/02/28 23:24:00+00</td>\n      <td>Outside</td>\n      <td>1610</td>\n      <td>220</td>\n      <td>Robbery - Other</td>\n      <td>2019</td>\n      <td>February</td>\n      <td>28</td>\n      <td>59</td>\n      <td>Thursday</td>\n      <td>23</td>\n      <td>2019.0</td>\n      <td>February</td>\n      <td>28.0</td>\n      <td>59.0</td>\n      <td>Thursday</td>\n      <td>23</td>\n      <td>Robbery</td>\n      <td>D12</td>\n      <td>23</td>\n      <td>Pelmo Park-Humberlea (23)</td>\n      <td>-79.531509</td>\n      <td>43.714092</td>\n      <td>14021</td>\n    </tr>\n  </tbody>\n</table>\n</div>"
     },
     "metadata": {},
     "execution_count": 236
    }
   ],
   "source": [
    "df_to_crime_2019 = df_to_crime_all[ df_to_crime_all['reportedyear']==2019 ]\n",
    "print(df_to_crime_2019.shape)\n",
    "df_to_crime_2019.reset_index(inplace=True)\n",
    "df_to_crime_2019.head()"
   ]
  },
  {
   "cell_type": "code",
   "execution_count": 439,
   "metadata": {},
   "outputs": [
    {
     "output_type": "execute_result",
     "data": {
      "text/plain": [
       "50"
      ]
     },
     "metadata": {},
     "execution_count": 439
    }
   ],
   "source": [
    "# lat=43.653482\n",
    "# lon=-79.383935\t\n",
    "# df_to_crime_coord_2019=df_to_crime_2019[['Long', 'Lat', 'ObjectId']]\n",
    "# lat_array=df_to_crime_coord_2019[['Lat']].to_numpy()\n",
    "# long_array=df_to_crime_coord_2019[[ 'Long']].to_numpy()\n",
    "# lat_dist=np.absolute(lat-lat_array)*111139  # convert distance from Degrees to Meters\n",
    "# long_dist=np.absolute(lon-long_array)*111139\n",
    "# distance= np.sqrt( np.power(lat_dist, 2) + np.power(long_dist, 2) )\n",
    "# df_dist=pd.DataFrame(distance, columns=['distance'])\n",
    "# df_dist[\"closeby\"] = df_dist['distance'] <= 500\n",
    "# number_crimes=df_dist[\"closeby\"].value_counts()[True]\n",
    "# number_crimes"
   ]
  },
  {
   "cell_type": "code",
   "execution_count": 280,
   "metadata": {},
   "outputs": [],
   "source": [
    "crime_closeby=np.array([])\n",
    "\n",
    "# get coordinates for all neighborhoods\n",
    "for lat,lon in df_to_neighborhoods[['Latitude', 'Longitude']].itertuples(index=False):\n",
    "\n",
    "    # numpy arrays for coordinates to do matrix calculations\n",
    "    lat_array=df_to_crime_2019[['Lat']].to_numpy()\n",
    "    long_array=df_to_crime_2019[[ 'Long']].to_numpy()\n",
    "    \n",
    "    lat_dist=np.absolute(lat-lat_array)*111139  # convert distance from Degrees to Meters\n",
    "    long_dist=np.absolute(lon-long_array)*111139\n",
    "    distance= np.sqrt( np.power(lat_dist, 2) + np.power(long_dist, 2) ) # pythagoras theorem for distance\n",
    "    \n",
    "    df_dist=pd.DataFrame(distance, columns=['distance'])\n",
    "\n",
    "    df_dist[\"closeby\"] = df_dist['distance'] <= 500    # a crime nearby is within 500 meters\n",
    "    try:\n",
    "        number_crimes=df_dist[\"closeby\"].value_counts()[True]\n",
    "    except:\n",
    "        # print(df_dist[\"closeby\"].value_counts(), )\n",
    "        number_crimes=0\n",
    "    \n",
    "    crime_closeby= np.append(crime_closeby, number_crimes)"
   ]
  },
  {
   "cell_type": "code",
   "execution_count": 281,
   "metadata": {},
   "outputs": [
    {
     "output_type": "execute_result",
     "data": {
      "text/plain": [
       "  Postal Code           Borough                                Neighbourhood  \\\n",
       "0         M3A        North York                                    Parkwoods   \n",
       "1         M4A        North York                             Victoria Village   \n",
       "2         M5A  Downtown Toronto                    Regent Park, Harbourfront   \n",
       "3         M6A        North York             Lawrence Manor, Lawrence Heights   \n",
       "4         M7A  Downtown Toronto  Queen's Park, Ontario Provincial Government   \n",
       "\n",
       "    Latitude  Longitude  mean_temp_last5days most_freq_weather_last5days  \\\n",
       "0  43.653482 -79.383935             11.06625                      Clouds   \n",
       "1  43.725882 -79.315572             11.03875                      Clouds   \n",
       "2  43.654260 -79.360636             11.01625                      Clouds   \n",
       "3  43.718518 -79.464763             10.97875                      Clouds   \n",
       "4  43.653482 -79.383935             11.06625                      Clouds   \n",
       "\n",
       "   number_crimes_recent_nearby  \n",
       "0                         50.0  \n",
       "1                          1.0  \n",
       "2                          6.0  \n",
       "3                          2.0  \n",
       "4                         50.0  "
      ],
      "text/html": "<div>\n<style scoped>\n    .dataframe tbody tr th:only-of-type {\n        vertical-align: middle;\n    }\n\n    .dataframe tbody tr th {\n        vertical-align: top;\n    }\n\n    .dataframe thead th {\n        text-align: right;\n    }\n</style>\n<table border=\"1\" class=\"dataframe\">\n  <thead>\n    <tr style=\"text-align: right;\">\n      <th></th>\n      <th>Postal Code</th>\n      <th>Borough</th>\n      <th>Neighbourhood</th>\n      <th>Latitude</th>\n      <th>Longitude</th>\n      <th>mean_temp_last5days</th>\n      <th>most_freq_weather_last5days</th>\n      <th>number_crimes_recent_nearby</th>\n    </tr>\n  </thead>\n  <tbody>\n    <tr>\n      <th>0</th>\n      <td>M3A</td>\n      <td>North York</td>\n      <td>Parkwoods</td>\n      <td>43.653482</td>\n      <td>-79.383935</td>\n      <td>11.06625</td>\n      <td>Clouds</td>\n      <td>50.0</td>\n    </tr>\n    <tr>\n      <th>1</th>\n      <td>M4A</td>\n      <td>North York</td>\n      <td>Victoria Village</td>\n      <td>43.725882</td>\n      <td>-79.315572</td>\n      <td>11.03875</td>\n      <td>Clouds</td>\n      <td>1.0</td>\n    </tr>\n    <tr>\n      <th>2</th>\n      <td>M5A</td>\n      <td>Downtown Toronto</td>\n      <td>Regent Park, Harbourfront</td>\n      <td>43.654260</td>\n      <td>-79.360636</td>\n      <td>11.01625</td>\n      <td>Clouds</td>\n      <td>6.0</td>\n    </tr>\n    <tr>\n      <th>3</th>\n      <td>M6A</td>\n      <td>North York</td>\n      <td>Lawrence Manor, Lawrence Heights</td>\n      <td>43.718518</td>\n      <td>-79.464763</td>\n      <td>10.97875</td>\n      <td>Clouds</td>\n      <td>2.0</td>\n    </tr>\n    <tr>\n      <th>4</th>\n      <td>M7A</td>\n      <td>Downtown Toronto</td>\n      <td>Queen's Park, Ontario Provincial Government</td>\n      <td>43.653482</td>\n      <td>-79.383935</td>\n      <td>11.06625</td>\n      <td>Clouds</td>\n      <td>50.0</td>\n    </tr>\n  </tbody>\n</table>\n</div>"
     },
     "metadata": {},
     "execution_count": 281
    }
   ],
   "source": [
    "df_to_neighborhoods[\"number_crimes_recent_nearby\"]=crime_closeby\n",
    "df_to_neighborhoods.head()"
   ]
  },
  {
   "cell_type": "code",
   "execution_count": 417,
   "metadata": {},
   "outputs": [
    {
     "output_type": "stream",
     "name": "stdout",
     "text": [
      "Number of elements in a data row and their count:  Counter({2: 62, 15: 58, 1: 6})\n--- 0.30206727981567383 seconds ---\n"
     ]
    }
   ],
   "source": [
    "start_time = time.time()\n",
    "wrong_amount_of_element=[]\n",
    "number_of_rows=16\n",
    "\n",
    "count=0\n",
    "airbnb_calend_list=[]\n",
    "with open('../datafiles/airbnb_listings_sum_toronto.csv', newline='',encoding = 'cp850') as csvfile:\n",
    "    csv_reader_data = csv.reader(csvfile)\n",
    "    for row in csv_reader_data: \n",
    "        next_row = []\n",
    "\n",
    "        if count >=1 and np.shape(row)[0]==1: # if count is not header and has \"\" around the all elements\n",
    "\n",
    "            row[0]=row[0].replace(\"\\n\",\"\")\n",
    "            redone_csv_reading = csv.reader(row)\n",
    "            for new_row in redone_csv_reading:\n",
    "\n",
    "                if np.shape(new_row)[0]==number_of_rows:\n",
    "                    next_row = new_row\n",
    "\n",
    "                else:\n",
    "                    wrong_amount_of_element.append(np.shape(new_row)[0])\n",
    "\n",
    "        elif count >=1 and np.shape(row)[0]==number_of_rows:\n",
    "            next_row = row\n",
    "\n",
    "        elif count==0:\n",
    "\n",
    "            headers_row = row\n",
    "\n",
    "        if count >=1:     \n",
    "            airbnb_calend_list.append(next_row)\n",
    "\n",
    "        count = count + 1\n",
    "        if count == 20000:\n",
    "            break\n",
    "# print(airbnb_calend_list)\n",
    "# print(np.shape(airbnb_calend_list),np.shape(headers_row))\n",
    "df_airbnb_listing_toronto = pd.DataFrame(data=airbnb_calend_list, columns= headers_row)\n",
    "# print(df_airbnb_listing_toronto.head())\n",
    "\n",
    "print(\"Number of elements in a data row and their count: \",Counter(wrong_amount_of_element))\n",
    "print(\"--- %s seconds ---\" % (time.time() - start_time))"
   ]
  },
  {
   "cell_type": "code",
   "execution_count": 324,
   "metadata": {},
   "outputs": [],
   "source": [
    "# df_airbnb_listing_toronto.head()"
   ]
  },
  {
   "source": [
    "Clean dataframe "
   ],
   "cell_type": "markdown",
   "metadata": {}
  },
  {
   "cell_type": "code",
   "execution_count": 418,
   "metadata": {},
   "outputs": [
    {
     "output_type": "execute_result",
     "data": {
      "text/plain": [
       "      id                                               name host_id  \\\n",
       "0   1419                    Beautiful home in amazing area!    1565   \n",
       "1   8077                 Downtown Harbourfront Private Room   22795   \n",
       "2  12604                     Seaton Village Parlour Bedroom   48239   \n",
       "3  23691                    Queen Bedroom close to downtown   93825   \n",
       "4  26654  World Class downtown @CN Tower Theatre MTCC ga...  113345   \n",
       "\n",
       "        host_name neighbourhood_group                      neighbourhood  \\\n",
       "0       Alexandra                                        Little Portugal   \n",
       "1  Kathie & Larry                      Waterfront Communities-The Island   \n",
       "2            Rona                                                  Annex   \n",
       "3   Yohan & Sarah                                   Briar Hill-Belgravia   \n",
       "4           Adela                      Waterfront Communities-The Island   \n",
       "\n",
       "   latitude  longitude        room_type       price minimum_nights  \\\n",
       "0  43.64617  -79.42451  Entire home/apt  300.160004              4   \n",
       "1  43.64105  -79.37628     Private room   63.359997            180   \n",
       "2  43.66724  -79.41598     Private room   42.239998              1   \n",
       "3  43.69602  -79.45468     Private room   44.799999              1   \n",
       "4   43.6453   -79.3894  Entire home/apt   86.400002             21   \n",
       "\n",
       "  number_of_reviews last_review reviews_per_month  \\\n",
       "0                 7  2017-12-04              0.11   \n",
       "1               169  2013-08-27              1.25   \n",
       "2                 0                                 \n",
       "3               217  2019-12-22              1.73   \n",
       "4                40  2020-03-20              0.34   \n",
       "\n",
       "  calculated_host_listings_count availability_365  \n",
       "0                              1                0  \n",
       "1                              2              365  \n",
       "2                              1                0  \n",
       "3                              2              209  \n",
       "4                              5              216  "
      ],
      "text/html": "<div>\n<style scoped>\n    .dataframe tbody tr th:only-of-type {\n        vertical-align: middle;\n    }\n\n    .dataframe tbody tr th {\n        vertical-align: top;\n    }\n\n    .dataframe thead th {\n        text-align: right;\n    }\n</style>\n<table border=\"1\" class=\"dataframe\">\n  <thead>\n    <tr style=\"text-align: right;\">\n      <th></th>\n      <th>id</th>\n      <th>name</th>\n      <th>host_id</th>\n      <th>host_name</th>\n      <th>neighbourhood_group</th>\n      <th>neighbourhood</th>\n      <th>latitude</th>\n      <th>longitude</th>\n      <th>room_type</th>\n      <th>price</th>\n      <th>minimum_nights</th>\n      <th>number_of_reviews</th>\n      <th>last_review</th>\n      <th>reviews_per_month</th>\n      <th>calculated_host_listings_count</th>\n      <th>availability_365</th>\n    </tr>\n  </thead>\n  <tbody>\n    <tr>\n      <th>0</th>\n      <td>1419</td>\n      <td>Beautiful home in amazing area!</td>\n      <td>1565</td>\n      <td>Alexandra</td>\n      <td></td>\n      <td>Little Portugal</td>\n      <td>43.64617</td>\n      <td>-79.42451</td>\n      <td>Entire home/apt</td>\n      <td>300.160004</td>\n      <td>4</td>\n      <td>7</td>\n      <td>2017-12-04</td>\n      <td>0.11</td>\n      <td>1</td>\n      <td>0</td>\n    </tr>\n    <tr>\n      <th>1</th>\n      <td>8077</td>\n      <td>Downtown Harbourfront Private Room</td>\n      <td>22795</td>\n      <td>Kathie &amp; Larry</td>\n      <td></td>\n      <td>Waterfront Communities-The Island</td>\n      <td>43.64105</td>\n      <td>-79.37628</td>\n      <td>Private room</td>\n      <td>63.359997</td>\n      <td>180</td>\n      <td>169</td>\n      <td>2013-08-27</td>\n      <td>1.25</td>\n      <td>2</td>\n      <td>365</td>\n    </tr>\n    <tr>\n      <th>2</th>\n      <td>12604</td>\n      <td>Seaton Village Parlour Bedroom</td>\n      <td>48239</td>\n      <td>Rona</td>\n      <td></td>\n      <td>Annex</td>\n      <td>43.66724</td>\n      <td>-79.41598</td>\n      <td>Private room</td>\n      <td>42.239998</td>\n      <td>1</td>\n      <td>0</td>\n      <td></td>\n      <td></td>\n      <td>1</td>\n      <td>0</td>\n    </tr>\n    <tr>\n      <th>3</th>\n      <td>23691</td>\n      <td>Queen Bedroom close to downtown</td>\n      <td>93825</td>\n      <td>Yohan &amp; Sarah</td>\n      <td></td>\n      <td>Briar Hill-Belgravia</td>\n      <td>43.69602</td>\n      <td>-79.45468</td>\n      <td>Private room</td>\n      <td>44.799999</td>\n      <td>1</td>\n      <td>217</td>\n      <td>2019-12-22</td>\n      <td>1.73</td>\n      <td>2</td>\n      <td>209</td>\n    </tr>\n    <tr>\n      <th>4</th>\n      <td>26654</td>\n      <td>World Class downtown @CN Tower Theatre MTCC ga...</td>\n      <td>113345</td>\n      <td>Adela</td>\n      <td></td>\n      <td>Waterfront Communities-The Island</td>\n      <td>43.6453</td>\n      <td>-79.3894</td>\n      <td>Entire home/apt</td>\n      <td>86.400002</td>\n      <td>21</td>\n      <td>40</td>\n      <td>2020-03-20</td>\n      <td>0.34</td>\n      <td>5</td>\n      <td>216</td>\n    </tr>\n  </tbody>\n</table>\n</div>"
     },
     "metadata": {},
     "execution_count": 418
    }
   ],
   "source": [
    "# change currency from canadian dollar to Euro\n",
    "df_airbnb_listing_toronto['price']=pd.to_numeric( df_airbnb_listing_toronto['price'], downcast=\"float\")*0.64\n",
    "\n",
    "# remove format errors\n",
    "df_airbnb_listing_toronto['availability_365;;;']=df_airbnb_listing_toronto['availability_365;;;'].str.replace(';;;', '', regex=True)\n",
    "df_airbnb_listing_toronto.rename(columns={'availability_365;;;': 'availability_365'}, inplace=True)\n",
    "\n",
    "# remove nan in coordinate data\n",
    "df_airbnb_listing_toronto.dropna(subset=['latitude', 'longitude'],inplace=True)\n",
    "\n",
    "\n",
    "df_airbnb_listing_toronto.head()"
   ]
  },
  {
   "cell_type": "code",
   "execution_count": 460,
   "metadata": {},
   "outputs": [],
   "source": [
    "# df_airbnb_listing_toronto.groupby(['latitude', 'longitude']).size().unique\n",
    "# df_airbnb_listing_toronto['latitude'].isnull().sum()\n",
    "# df_airbnb_listing_toronto['latitude'].isnull().values.any()\n",
    "# df_airbnb_listing_toronto.dropna(subset=['latitude'],inplace=True)\n",
    "# df_airbnb_listing_toronto['latitude'].isnull().sum()\n",
    "# df_airbnb_listing_toronto['latitude'].astype('float32')\n",
    "# df_airbnb_listing_toronto['longitude'].astype('float32')\n",
    "\n",
    "# df_airbnb_listing_toronto.dtypes\n",
    "\n",
    "# df_airbnb_listing_toronto['longitude'].isnull().sum()\n"
   ]
  },
  {
   "cell_type": "code",
   "execution_count": 486,
   "metadata": {},
   "outputs": [
    {
     "output_type": "stream",
     "name": "stdout",
     "text": [
      "(19280, 17)\n46.06316 115.50477\n"
     ]
    }
   ],
   "source": [
    "lat=43.653482\n",
    "lon=-79.383935\n",
    "print(df_airbnb_listing_toronto.shape )\n",
    "\n",
    "lat_array=df_airbnb_listing_toronto[['latitude']].to_numpy().astype('float32')\n",
    "long_array=df_airbnb_listing_toronto[[ 'longitude']].to_numpy().astype('float32')\n",
    "\n",
    "lat_dist=np.absolute(lat-lat_array)*111139  # convert distance from Degrees to Meters\n",
    "long_dist=np.absolute(lon-long_array)*111139\n",
    "distance= np.sqrt( np.power(lat_dist, 2) + np.power(long_dist, 2) )\n",
    "df_airbnb_listing_toronto['distance']=pd.DataFrame(distance, columns=['distance'])\n",
    "\n",
    "# nearby 500 meters\n",
    "df_airbnb_listing_toronto_nearby=df_airbnb_listing_toronto[df_airbnb_listing_toronto['distance'] <= 500]\n",
    "\n",
    "# to get a better estimate of the house price level the private rooms will only be compared, since the price spread is assumed much larger for \n",
    "private     = df_airbnb_listing_toronto_nearby[df_airbnb_listing_toronto_nearby['room_type']=='Private room']['price'].mean()\n",
    "Entire_home = df_airbnb_listing_toronto_nearby[df_airbnb_listing_toronto_nearby['room_type']=='Entire home/apt']['price'].mean()\n",
    "# number=df_dist[\"closeby\"].value_counts()[True]\n",
    "# number_crimes\n",
    "# lat_array\n",
    "print(private, Entire_home)"
   ]
  },
  {
   "cell_type": "code",
   "execution_count": 483,
   "metadata": {},
   "outputs": [
    {
     "output_type": "execute_result",
     "data": {
      "text/plain": [
       "Counter({'Entire home/apt': 168, 'Private room': 76, 'Shared room': 3})"
      ]
     },
     "metadata": {},
     "execution_count": 483
    }
   ],
   "source": [
    "Counter(df_airbnb_listing_toronto_nearby['room_type'])"
   ]
  },
  {
   "cell_type": "code",
   "execution_count": null,
   "metadata": {},
   "outputs": [],
   "source": []
  },
  {
   "cell_type": "code",
   "execution_count": 488,
   "metadata": {},
   "outputs": [],
   "source": [
    "airbnb_price_private_room=np.array([])\n",
    "airbnb_price_entire_home=np.array([])\n",
    "\n",
    "\n",
    "# get coordinates for all neighborhoods\n",
    "for lat,lon in df_to_neighborhoods[['Latitude', 'Longitude']].itertuples(index=False):\n",
    "\n",
    "    # numpy arrays for coordinates to do matrix calculations\n",
    "    lat_array=df_airbnb_listing_toronto[['latitude']].to_numpy().astype('float32')\n",
    "    long_array=df_airbnb_listing_toronto[[ 'longitude']].to_numpy().astype('float32')\n",
    "\n",
    "    lat_dist=np.absolute(lat-lat_array)*111139  # convert distance from Degrees to Meters\n",
    "    long_dist=np.absolute(lon-long_array)*111139\n",
    "    distance= np.sqrt( np.power(lat_dist, 2) + np.power(long_dist, 2) ) # pythagoras theorem for distance\n",
    "    \n",
    "    df_airbnb_listing_toronto['distance']=pd.DataFrame(distance, columns=['distance'])\n",
    "\n",
    "    # nearby 500 meters\n",
    "    df_airbnb_listing_toronto_nearby=df_airbnb_listing_toronto[df_airbnb_listing_toronto['distance'] <= 500]\n",
    "    \n",
    "    private     = df_airbnb_listing_toronto_nearby[df_airbnb_listing_toronto_nearby['room_type']=='Private room']['price'].mean()\n",
    "    Entire_home = df_airbnb_listing_toronto_nearby[df_airbnb_listing_toronto_nearby['room_type']=='Entire home/apt']['price'].mean()\n",
    "\n",
    "    airbnb_price_private_room= np.append(airbnb_price_private_room, private)    \n",
    "    airbnb_price_entire_home= np.append(airbnb_price_entire_home, Entire_home)"
   ]
  },
  {
   "cell_type": "code",
   "execution_count": 489,
   "metadata": {},
   "outputs": [
    {
     "output_type": "execute_result",
     "data": {
      "text/plain": [
       "  Postal Code           Borough                                Neighbourhood  \\\n",
       "0         M3A        North York                                    Parkwoods   \n",
       "1         M4A        North York                             Victoria Village   \n",
       "2         M5A  Downtown Toronto                    Regent Park, Harbourfront   \n",
       "3         M6A        North York             Lawrence Manor, Lawrence Heights   \n",
       "4         M7A  Downtown Toronto  Queen's Park, Ontario Provincial Government   \n",
       "\n",
       "    Latitude  Longitude  mean_temp_last5days most_freq_weather_last5days  \\\n",
       "0  43.653482 -79.383935             11.06625                      Clouds   \n",
       "1  43.725882 -79.315572             11.03875                      Clouds   \n",
       "2  43.654260 -79.360636             11.01625                      Clouds   \n",
       "3  43.718518 -79.464763             10.97875                      Clouds   \n",
       "4  43.653482 -79.383935             11.06625                      Clouds   \n",
       "\n",
       "   number_crimes_recent_nearby  airbnb_mean_price_private_room  \\\n",
       "0                         50.0                       46.063160   \n",
       "1                          1.0                       37.599998   \n",
       "2                          6.0                       56.727272   \n",
       "3                          2.0                             NaN   \n",
       "4                         50.0                       46.063160   \n",
       "\n",
       "   airbnb_mean_price_entire_home  \n",
       "0                     115.504768  \n",
       "1                     113.439995  \n",
       "2                      99.346870  \n",
       "3                            NaN  \n",
       "4                     115.504768  "
      ],
      "text/html": "<div>\n<style scoped>\n    .dataframe tbody tr th:only-of-type {\n        vertical-align: middle;\n    }\n\n    .dataframe tbody tr th {\n        vertical-align: top;\n    }\n\n    .dataframe thead th {\n        text-align: right;\n    }\n</style>\n<table border=\"1\" class=\"dataframe\">\n  <thead>\n    <tr style=\"text-align: right;\">\n      <th></th>\n      <th>Postal Code</th>\n      <th>Borough</th>\n      <th>Neighbourhood</th>\n      <th>Latitude</th>\n      <th>Longitude</th>\n      <th>mean_temp_last5days</th>\n      <th>most_freq_weather_last5days</th>\n      <th>number_crimes_recent_nearby</th>\n      <th>airbnb_mean_price_private_room</th>\n      <th>airbnb_mean_price_entire_home</th>\n    </tr>\n  </thead>\n  <tbody>\n    <tr>\n      <th>0</th>\n      <td>M3A</td>\n      <td>North York</td>\n      <td>Parkwoods</td>\n      <td>43.653482</td>\n      <td>-79.383935</td>\n      <td>11.06625</td>\n      <td>Clouds</td>\n      <td>50.0</td>\n      <td>46.063160</td>\n      <td>115.504768</td>\n    </tr>\n    <tr>\n      <th>1</th>\n      <td>M4A</td>\n      <td>North York</td>\n      <td>Victoria Village</td>\n      <td>43.725882</td>\n      <td>-79.315572</td>\n      <td>11.03875</td>\n      <td>Clouds</td>\n      <td>1.0</td>\n      <td>37.599998</td>\n      <td>113.439995</td>\n    </tr>\n    <tr>\n      <th>2</th>\n      <td>M5A</td>\n      <td>Downtown Toronto</td>\n      <td>Regent Park, Harbourfront</td>\n      <td>43.654260</td>\n      <td>-79.360636</td>\n      <td>11.01625</td>\n      <td>Clouds</td>\n      <td>6.0</td>\n      <td>56.727272</td>\n      <td>99.346870</td>\n    </tr>\n    <tr>\n      <th>3</th>\n      <td>M6A</td>\n      <td>North York</td>\n      <td>Lawrence Manor, Lawrence Heights</td>\n      <td>43.718518</td>\n      <td>-79.464763</td>\n      <td>10.97875</td>\n      <td>Clouds</td>\n      <td>2.0</td>\n      <td>NaN</td>\n      <td>NaN</td>\n    </tr>\n    <tr>\n      <th>4</th>\n      <td>M7A</td>\n      <td>Downtown Toronto</td>\n      <td>Queen's Park, Ontario Provincial Government</td>\n      <td>43.653482</td>\n      <td>-79.383935</td>\n      <td>11.06625</td>\n      <td>Clouds</td>\n      <td>50.0</td>\n      <td>46.063160</td>\n      <td>115.504768</td>\n    </tr>\n  </tbody>\n</table>\n</div>"
     },
     "metadata": {},
     "execution_count": 489
    }
   ],
   "source": [
    "df_to_neighborhoods[\"airbnb_mean_price_private_room\"]=airbnb_price_private_room\n",
    "df_to_neighborhoods[\"airbnb_mean_price_entire_home\"]=airbnb_price_entire_home\n",
    "df_to_neighborhoods.head()"
   ]
  },
  {
   "cell_type": "code",
   "execution_count": 490,
   "metadata": {},
   "outputs": [
    {
     "output_type": "execute_result",
     "data": {
      "text/plain": [
       "17"
      ]
     },
     "metadata": {},
     "execution_count": 490
    }
   ],
   "source": [
    "df_to_neighborhoods['airbnb_mean_price_private_room'].isnull().sum() "
   ]
  },
  {
   "source": [
    "Add "
   ],
   "cell_type": "markdown",
   "metadata": {}
  },
  {
   "cell_type": "code",
   "execution_count": null,
   "metadata": {},
   "outputs": [],
   "source": []
  },
  {
   "cell_type": "code",
   "execution_count": null,
   "metadata": {},
   "outputs": [],
   "source": []
  },
  {
   "cell_type": "code",
   "execution_count": null,
   "metadata": {},
   "outputs": [],
   "source": []
  },
  {
   "cell_type": "code",
   "execution_count": 289,
   "metadata": {},
   "outputs": [],
   "source": [
    "url = 'https://www.numbeo.com/crime/rankings.jsp'\n",
    "df_city_weather = pd.read_html(url)[1]   # 0 is for the 1st table in this particular page\n",
    "# df_city_weather.head()\n",
    "df_city_weather.drop(['Rank'], axis=1, inplace=True) # drop rank dol since only nan\n",
    "df_city_weather['Rank'] = df_city_weather.index # add index as rank, since they are ordered by rank\n",
    "# df_city_weather['City'].str.split(',', expand=True)[2].unique()\n",
    "df_city_weather=pd.concat([df_city_weather, df_city_weather['City'].str.split(', ', expand=True)], axis=1)\n",
    "# df_city_weather\n",
    "# ~pd.notna(df_city_weather[2])"
   ]
  },
  {
   "cell_type": "code",
   "execution_count": 290,
   "metadata": {},
   "outputs": [],
   "source": [
    "# fixa \n",
    "# print(Counter(~pd.notna(df_city_weather[2])))\n",
    "# print(Counter(df_city_weather[2]))\n",
    "# print(Counter(df_city_weather[1]))\n",
    "# df_city_weather[pd.notna(df_city_weather[2])][1] =  df_city_weather[pd.notna(df_city_weather[2])][1].astype(str) + \",  \"\n",
    "# df_city_weather[~pd.notna(df_city_weather[2])][2].str.replace(None,\"a\")\n",
    "df_city_weather.loc[pd.notna(df_city_weather[2]), 2]=\", \"+df_city_weather.loc[pd.notna(df_city_weather[2]), 2].astype(str)\n",
    "df_city_weather[2].fillna(\"\",inplace=True)\n",
    "# df_city_weather.head(20)\n",
    "# # df_city_weather[2]\n",
    "\n",
    "df_city_weather['Country']=df_city_weather[1].str.cat(df_city_weather[2])\n",
    "# # # # df_city_weather[df_city_weather[1]!=\"\"]\n",
    "# # # # df_city_weather[df_city_weather[1]==None]\n",
    "# # # df_city_weather[pd.notna(df_city_weather[2])][1] \n",
    "\n",
    "df_city_weather.drop([1,2,\"City\"],axis=1, inplace=True)\n",
    "df_city_weather.rename(columns={0:'City'},inplace=True)\n",
    "# print(df_city_weather.head(20))\n"
   ]
  },
  {
   "cell_type": "code",
   "execution_count": 376,
   "metadata": {},
   "outputs": [],
   "source": [
    "# print(df_city_weather[[0,1,2, 'Country']].head(20))\n",
    "# print(Counter(df_city_weather['Country']))\n",
    "# print(df_city_weather.head(20))"
   ]
  },
  {
   "cell_type": "code",
   "execution_count": 287,
   "metadata": {},
   "outputs": [],
   "source": [
    "# A=['aa','adsadaf', 'fafwfe','de', 'Ecuador']\n",
    "# eb=pd.DataFrame({'col':A})\n",
    "# eb['col2'] = 'd ' + eb['col'].astype(str)\n",
    "# eb"
   ]
  },
  {
   "cell_type": "code",
   "execution_count": 283,
   "metadata": {
    "tags": []
   },
   "outputs": [
    {
     "output_type": "stream",
     "name": "stdout",
     "text": [
      "(1048575, 7) (7,)\n",
      "        listing_id        date available      price adjusted_price  \\\n",
      "0           565912  2020-06-27         t  $2,461.00      $2,461.00   \n",
      "1           145320  2020-06-27         f  $1,424.00      $1,424.00   \n",
      "2           145320  2020-06-28         f  $1,424.00      $1,424.00   \n",
      "3           145320  2020-06-29         f  $1,424.00      $1,424.00   \n",
      "4           145320  2020-06-30         f  $1,424.00      $1,424.00   \n",
      "...            ...         ...       ...        ...            ...   \n",
      "1048570   15773429  2020-11-24         t    $250.00        $250.00   \n",
      "1048571   15773429  2020-11-25         t    $250.00        $250.00   \n",
      "1048572   15773429  2020-11-26         t    $250.00        $250.00   \n",
      "1048573   15773429  2020-11-27         t    $250.00        $250.00   \n",
      "1048574   15773429  2020-11-28         t    $250.00        $250.00   \n",
      "\n",
      "        minimum_nights maximum_nights  \n",
      "0                    4             20  \n",
      "1                    3           1125  \n",
      "2                    3           1125  \n",
      "3                    3           1125  \n",
      "4                    3           1125  \n",
      "...                ...            ...  \n",
      "1048570            120           1125  \n",
      "1048571            120           1125  \n",
      "1048572            120           1125  \n",
      "1048573            120           1125  \n",
      "1048574            120           1125  \n",
      "\n",
      "[1048575 rows x 7 columns]\n",
      "Number of elements in row and there count:  Counter()\n",
      "--- 12.58511471748352 seconds ---\n"
     ]
    }
   ],
   "source": [
    "start_time = time.time()\n",
    "wrong_amount_of_element=[]\n",
    "count=0\n",
    "airbnb_calend_list=[]\n",
    "\n",
    "with open('../datafiles/airbnb_calendar_stockholm.csv', newline='',encoding = 'cp850') as csvfile:\n",
    "    csv_reader_data = csv.reader(csvfile)\n",
    "    for row in csv_reader_data: \n",
    "        next_row = []\n",
    "        if count >=1 and np.shape(row)[0]==1: # if count is not header and has \"\" around the all elements\n",
    "            # print(row)\n",
    "            # print(np.shape(row))\n",
    "\n",
    "            redone_csv_reading = csv.reader(row)\n",
    "            for new_row in redone_csv_reading:\n",
    "                # print([new_row])\n",
    "                # print(np.shape(new_row))\n",
    "                if np.shape(new_row)[0]==7:\n",
    "                    next_row = new_row\n",
    "                    # print(\"1\")\n",
    "                    # print(new_row)\n",
    "                else:\n",
    "                    wrong_amount_of_element.append(np.shape(new_row)[0])\n",
    "                    # print(\"\\nError: not shape of 'new_row' ==7 \")\n",
    "                    # print(new_row)\n",
    "\n",
    "            # print(\"\\n\")\n",
    "        elif count >=1 and np.shape(row)[0]==7:\n",
    "            next_row = row\n",
    "            # print(\"2\")\n",
    "            # print([next_row])\n",
    "        elif count==0:\n",
    "            # print(row)\n",
    "            # print(np.shape(row))\n",
    "            headers_row = row\n",
    "\n",
    "        # else:\n",
    "            # print(\"\\nError: not shape of 'row' == 1 or 7\")\n",
    "            # print(row)\n",
    "            # next_row = np.empty((1,7,))\n",
    "            # next_row[:] = np.nan\n",
    "            # # next_row=np.nan\n",
    "            # print(\"\")\n",
    "\n",
    "\n",
    "        if count >=1:     \n",
    "            airbnb_calend_list.append(next_row)\n",
    "\n",
    "        count = count + 1\n",
    "        if count == 15000000:\n",
    "            break\n",
    "# print(airbnb_calend_list)\n",
    "print(np.shape(airbnb_calend_list),np.shape(headers_row))\n",
    "df_airbnb_calend_stockholm = pd.DataFrame(data=airbnb_calend_list, columns= headers_row)\n",
    "print(df_airbnb_calend_stockholm)\n",
    "# df_airbnb_calend_stockholm.to_csv('../datafiles/airbnb_calendar_stockholm_new.csv',index=False)\n",
    "print(\"Number of elements in row and there count: \",Counter(wrong_amount_of_element))\n",
    "print(\"--- %s seconds ---\" % (time.time() - start_time))"
   ]
  },
  {
   "cell_type": "code",
   "execution_count": 284,
   "metadata": {},
   "outputs": [
    {
     "output_type": "execute_result",
     "data": {
      "text/plain": [
       "  listing_id        date available      price adjusted_price minimum_nights  \\\n",
       "0     565912  2020-06-27         t  $2,461.00      $2,461.00              4   \n",
       "1     145320  2020-06-27         f  $1,424.00      $1,424.00              3   \n",
       "2     145320  2020-06-28         f  $1,424.00      $1,424.00              3   \n",
       "3     145320  2020-06-29         f  $1,424.00      $1,424.00              3   \n",
       "4     145320  2020-06-30         f  $1,424.00      $1,424.00              3   \n",
       "\n",
       "  maximum_nights  \n",
       "0             20  \n",
       "1           1125  \n",
       "2           1125  \n",
       "3           1125  \n",
       "4           1125  "
      ],
      "text/html": "<div>\n<style scoped>\n    .dataframe tbody tr th:only-of-type {\n        vertical-align: middle;\n    }\n\n    .dataframe tbody tr th {\n        vertical-align: top;\n    }\n\n    .dataframe thead th {\n        text-align: right;\n    }\n</style>\n<table border=\"1\" class=\"dataframe\">\n  <thead>\n    <tr style=\"text-align: right;\">\n      <th></th>\n      <th>listing_id</th>\n      <th>date</th>\n      <th>available</th>\n      <th>price</th>\n      <th>adjusted_price</th>\n      <th>minimum_nights</th>\n      <th>maximum_nights</th>\n    </tr>\n  </thead>\n  <tbody>\n    <tr>\n      <th>0</th>\n      <td>565912</td>\n      <td>2020-06-27</td>\n      <td>t</td>\n      <td>$2,461.00</td>\n      <td>$2,461.00</td>\n      <td>4</td>\n      <td>20</td>\n    </tr>\n    <tr>\n      <th>1</th>\n      <td>145320</td>\n      <td>2020-06-27</td>\n      <td>f</td>\n      <td>$1,424.00</td>\n      <td>$1,424.00</td>\n      <td>3</td>\n      <td>1125</td>\n    </tr>\n    <tr>\n      <th>2</th>\n      <td>145320</td>\n      <td>2020-06-28</td>\n      <td>f</td>\n      <td>$1,424.00</td>\n      <td>$1,424.00</td>\n      <td>3</td>\n      <td>1125</td>\n    </tr>\n    <tr>\n      <th>3</th>\n      <td>145320</td>\n      <td>2020-06-29</td>\n      <td>f</td>\n      <td>$1,424.00</td>\n      <td>$1,424.00</td>\n      <td>3</td>\n      <td>1125</td>\n    </tr>\n    <tr>\n      <th>4</th>\n      <td>145320</td>\n      <td>2020-06-30</td>\n      <td>f</td>\n      <td>$1,424.00</td>\n      <td>$1,424.00</td>\n      <td>3</td>\n      <td>1125</td>\n    </tr>\n  </tbody>\n</table>\n</div>"
     },
     "metadata": {},
     "execution_count": 284
    }
   ],
   "source": [
    "df_airbnb_calend_stockholm.head()"
   ]
  },
  {
   "cell_type": "code",
   "execution_count": 222,
   "metadata": {},
   "outputs": [
    {
     "output_type": "stream",
     "name": "stdout",
     "text": [
      "            id                                               name    host_id  \\\n0       145320             In the middle of it all - with a view!     703851   \n1         None                                               None       None   \n2       155685                         Hornstull with water view!     748592   \n3       164448        Double room in central Stockholm with Wi-Fi     784312   \n4       170651                 Petit Charm Rooftop next to heaven     814021   \n...        ...                                                ...        ...   \n7651  43936345        Sofa in living room in the shared apartment   31129430   \n7652  43936494               Bo bekv├ñmt 17 Min fr├Ñn Sthlm City!  351810596   \n7653  43942253      Modern apartment close to water and the city.   49991516   \n7654  43942494            Gorgeous piece of heaven  in Stockholm!  137472486   \n7655  43955053  Spacious studio apartment at the core of Soder...   30842844   \n\n     host_name neighbourhood_group            neighbourhood  \\\n0          Kim                                  S├Âdermalms   \n1         None                None                     None   \n2       Robert                                  S├Âdermalms   \n3           Li                                  S├Âdermalms   \n4        Marie                                  S├Âdermalms   \n...        ...                 ...                      ...   \n7651       Dea                                  ├ûstermalms   \n7652  Kouroche                               Sp├Ñnga-Tensta   \n7653   Jessica                      H├ñgersten-Liljeholmens   \n7654     Kamar                                  ├ûstermalms   \n7655   Lei Lei                                  S├Âdermalms   \n\n                latitude         longitude        room_type price  \\\n0               59.31364          18.05256  Entire home/apt  1250   \n1                   None              None             None  None   \n2               59.31535          18.03277  Entire home/apt  3145   \n3               59.31268          18.06258     Private room   597   \n4               59.31568          18.03138  Entire home/apt   719   \n...                  ...               ...              ...   ...   \n7651            59.34645          18.09839     Private room   299   \n7652             59.4028          17.86606  Entire home/apt   392   \n7653            59.29974          18.00066  Entire home/apt  1997   \n7654            59.31807          18.16299  Entire home/apt   541   \n7655  59.320246000618795  18.0653378453517  Entire home/apt   653   \n\n     minimum_nights number_of_reviews last_review reviews_per_month  \\\n0                 3                72  2019-06-25              1.92   \n1              None              None        None              None   \n2                 4                22  2015-12-01              0.20   \n3                 3               322  2020-01-29              2.97   \n4                 4                34  2020-03-09              0.31   \n...             ...               ...         ...               ...   \n7651              1                 0                                 \n7652              1                 0                                 \n7653              2                 0                                 \n7654             14                 0                                 \n7655              1                 0                                 \n\n     calculated_host_listings_count availability_365;  \n0                                 2               24;  \n1                              None              None  \n2                                 1                0;  \n3                                 2              180;  \n4                                 1              287;  \n...                             ...               ...  \n7651                              1               83;  \n7652                              1              337;  \n7653                              1               71;  \n7654                              1               31;  \n7655                              1               39;  \n\n[7656 rows x 16 columns]\nNumber of elements in row and there count:  Counter({15: 15, 2: 14, 1: 4})\n--- 0.14063692092895508 seconds ---\n"
     ]
    }
   ],
   "source": [
    "start_time = time.time()\n",
    "wrong_amount_of_element=[]\n",
    "number_of_rows=16\n",
    "\n",
    "count=0\n",
    "airbnb_calend_list=[]\n",
    "with open('../datafiles/airbnb_listings_sum_stockholm.csv', newline='',encoding = 'cp850') as csvfile:\n",
    "    csv_reader_data = csv.reader(csvfile)\n",
    "    for row in csv_reader_data: \n",
    "        next_row = []\n",
    "\n",
    "        if count >=1 and np.shape(row)[0]==1: # if count is not header and has \"\" around the all elements\n",
    "            # print(row)\n",
    "            # print(np.shape(row))\n",
    "            row[0]=row[0].replace(\"\\n\",\"\")\n",
    "            redone_csv_reading = csv.reader(row)\n",
    "            for new_row in redone_csv_reading:\n",
    "                # print([new_row])\n",
    "                # print(np.shape(new_row))\n",
    "                if np.shape(new_row)[0]==number_of_rows:\n",
    "                    next_row = new_row\n",
    "                    # print(\"1\")\n",
    "                    # print(new_row)\n",
    "                else:\n",
    "                    wrong_amount_of_element.append(np.shape(new_row)[0])\n",
    "                    # print(\"\\nError: not shape of 'new_row' ==7 \")\n",
    "                    # print(new_row)\n",
    "                    # print(np.shape(new_row)[0])\n",
    "\n",
    "            # print(\"\\n\")\n",
    "        elif count >=1 and np.shape(row)[0]==number_of_rows:\n",
    "            next_row = row\n",
    "            # print(\"2\")\n",
    "            # print([next_row])\n",
    "        elif count==0:\n",
    "            # print(row)\n",
    "            # print(np.shape(row))\n",
    "            headers_row = row\n",
    "\n",
    "        # else:\n",
    "            # print(\"\\nError: not shape of 'row' == 1 or 7\")\n",
    "            # print(row)\n",
    "            # next_row = np.empty((1,7,))\n",
    "            # next_row[:] = np.nan\n",
    "            # # next_row=np.nan\n",
    "            # print(\"\")\n",
    "\n",
    "\n",
    "        if count >=1:     \n",
    "            airbnb_calend_list.append(next_row)\n",
    "\n",
    "        count = count + 1\n",
    "        if count == 10000:\n",
    "            break\n",
    "# print(airbnb_calend_list)\n",
    "# print(np.shape(airbnb_calend_list),np.shape(headers_row))\n",
    "df_airbnb_listing_stockholm = pd.DataFrame(data=airbnb_calend_list, columns= headers_row)\n",
    "print(df_airbnb_listing_stockholm)\n",
    "# df_airbnb_calend_stockholm.to_csv('../datafiles/airbnb_calendar_stockholm_new.csv',index=False)\n",
    "print(\"Number of elements in row and there count: \",Counter(wrong_amount_of_element))\n",
    "print(\"--- %s seconds ---\" % (time.time() - start_time))"
   ]
  },
  {
   "cell_type": "code",
   "execution_count": 13,
   "metadata": {},
   "outputs": [
    {
     "output_type": "execute_result",
     "data": {
      "text/plain": [
       "array(['S├Âdermalms', None, 'Norrmalms', 'Kungsholmens', 'Rinkeby-Tensta',\n",
       "       'Farsta', '├älvsj├Â', '├ûstermalms', 'Skarpn├ñcks',\n",
       "       'Enskede-├àrsta-Vant├Ârs', 'H├ñgersten-Liljeholmens', 'Bromma',\n",
       "       'Sk├ñrholmens', 'H├ñsselby-V├ñllingby', 'Sp├Ñnga-Tensta'],\n",
       "      dtype=object)"
      ]
     },
     "metadata": {},
     "execution_count": 13
    }
   ],
   "source": [
    "df_airbnb_listing_stockholm['neighbourhood'].unique()"
   ]
  },
  {
   "cell_type": "code",
   "execution_count": 286,
   "metadata": {},
   "outputs": [
    {
     "output_type": "execute_result",
     "data": {
      "text/plain": [
       "       id                                         name host_id host_name  \\\n",
       "0  145320       In the middle of it all - with a view!  703851       Kim   \n",
       "1    None                                         None    None      None   \n",
       "2  155685                   Hornstull with water view!  748592    Robert   \n",
       "3  164448  Double room in central Stockholm with Wi-Fi  784312        Li   \n",
       "4  170651           Petit Charm Rooftop next to heaven  814021     Marie   \n",
       "\n",
       "  neighbourhood_group neighbourhood  latitude longitude        room_type  \\\n",
       "0                       S├Âdermalms  59.31364  18.05256  Entire home/apt   \n",
       "1                None          None      None      None             None   \n",
       "2                       S├Âdermalms  59.31535  18.03277  Entire home/apt   \n",
       "3                       S├Âdermalms  59.31268  18.06258     Private room   \n",
       "4                       S├Âdermalms  59.31568  18.03138  Entire home/apt   \n",
       "\n",
       "  price minimum_nights number_of_reviews last_review reviews_per_month  \\\n",
       "0  1250              3                72  2019-06-25              1.92   \n",
       "1  None           None              None        None              None   \n",
       "2  3145              4                22  2015-12-01              0.20   \n",
       "3   597              3               322  2020-01-29              2.97   \n",
       "4   719              4                34  2020-03-09              0.31   \n",
       "\n",
       "  calculated_host_listings_count availability_365;  \n",
       "0                              2               24;  \n",
       "1                           None              None  \n",
       "2                              1                0;  \n",
       "3                              2              180;  \n",
       "4                              1              287;  "
      ],
      "text/html": "<div>\n<style scoped>\n    .dataframe tbody tr th:only-of-type {\n        vertical-align: middle;\n    }\n\n    .dataframe tbody tr th {\n        vertical-align: top;\n    }\n\n    .dataframe thead th {\n        text-align: right;\n    }\n</style>\n<table border=\"1\" class=\"dataframe\">\n  <thead>\n    <tr style=\"text-align: right;\">\n      <th></th>\n      <th>id</th>\n      <th>name</th>\n      <th>host_id</th>\n      <th>host_name</th>\n      <th>neighbourhood_group</th>\n      <th>neighbourhood</th>\n      <th>latitude</th>\n      <th>longitude</th>\n      <th>room_type</th>\n      <th>price</th>\n      <th>minimum_nights</th>\n      <th>number_of_reviews</th>\n      <th>last_review</th>\n      <th>reviews_per_month</th>\n      <th>calculated_host_listings_count</th>\n      <th>availability_365;</th>\n    </tr>\n  </thead>\n  <tbody>\n    <tr>\n      <th>0</th>\n      <td>145320</td>\n      <td>In the middle of it all - with a view!</td>\n      <td>703851</td>\n      <td>Kim</td>\n      <td></td>\n      <td>S├Âdermalms</td>\n      <td>59.31364</td>\n      <td>18.05256</td>\n      <td>Entire home/apt</td>\n      <td>1250</td>\n      <td>3</td>\n      <td>72</td>\n      <td>2019-06-25</td>\n      <td>1.92</td>\n      <td>2</td>\n      <td>24;</td>\n    </tr>\n    <tr>\n      <th>1</th>\n      <td>None</td>\n      <td>None</td>\n      <td>None</td>\n      <td>None</td>\n      <td>None</td>\n      <td>None</td>\n      <td>None</td>\n      <td>None</td>\n      <td>None</td>\n      <td>None</td>\n      <td>None</td>\n      <td>None</td>\n      <td>None</td>\n      <td>None</td>\n      <td>None</td>\n      <td>None</td>\n    </tr>\n    <tr>\n      <th>2</th>\n      <td>155685</td>\n      <td>Hornstull with water view!</td>\n      <td>748592</td>\n      <td>Robert</td>\n      <td></td>\n      <td>S├Âdermalms</td>\n      <td>59.31535</td>\n      <td>18.03277</td>\n      <td>Entire home/apt</td>\n      <td>3145</td>\n      <td>4</td>\n      <td>22</td>\n      <td>2015-12-01</td>\n      <td>0.20</td>\n      <td>1</td>\n      <td>0;</td>\n    </tr>\n    <tr>\n      <th>3</th>\n      <td>164448</td>\n      <td>Double room in central Stockholm with Wi-Fi</td>\n      <td>784312</td>\n      <td>Li</td>\n      <td></td>\n      <td>S├Âdermalms</td>\n      <td>59.31268</td>\n      <td>18.06258</td>\n      <td>Private room</td>\n      <td>597</td>\n      <td>3</td>\n      <td>322</td>\n      <td>2020-01-29</td>\n      <td>2.97</td>\n      <td>2</td>\n      <td>180;</td>\n    </tr>\n    <tr>\n      <th>4</th>\n      <td>170651</td>\n      <td>Petit Charm Rooftop next to heaven</td>\n      <td>814021</td>\n      <td>Marie</td>\n      <td></td>\n      <td>S├Âdermalms</td>\n      <td>59.31568</td>\n      <td>18.03138</td>\n      <td>Entire home/apt</td>\n      <td>719</td>\n      <td>4</td>\n      <td>34</td>\n      <td>2020-03-09</td>\n      <td>0.31</td>\n      <td>1</td>\n      <td>287;</td>\n    </tr>\n  </tbody>\n</table>\n</div>"
     },
     "metadata": {},
     "execution_count": 286
    }
   ],
   "source": [
    "df_airbnb_listing_stockholm.head()"
   ]
  },
  {
   "cell_type": "code",
   "execution_count": 14,
   "metadata": {},
   "outputs": [],
   "source": [
    "# # Correctly spell the names of the neighborhoods\n",
    "# df_airbnb_listing_stockholm['neighbourhood'].replace('S├Âdermalms','Södermalm', inplace=True)\n",
    "# df_airbnb_listing_stockholm['neighbourhood'].replace('Norrmalms','Norrmalm', inplace=True)\n",
    "# df_airbnb_listing_stockholm['neighbourhood'].replace('Kungsholmens','Kungsholmen', inplace=True)\n",
    "# df_airbnb_listing_stockholm['neighbourhood'].replace('├älvsj├Â','Älvsjö', inplace=True)\n",
    "# df_airbnb_listing_stockholm['neighbourhood'].replace('├ûstermalms','Östermalm', inplace=True)\n",
    "# df_airbnb_listing_stockholm['neighbourhood'].replace('H├ñgersten-Liljeholmens','Hägersten-Liljeholmen', inplace=True)\n",
    "# df_airbnb_listing_stockholm['neighbourhood'].replace('Sk├ñrholmens','Skärholmen', inplace=True)\n",
    "# df_airbnb_listing_stockholm['neighbourhood'].replace('H├ñsselby-V├ñllingby','Hässelby-Vällingby', inplace=True)\n",
    "# df_airbnb_listing_stockholm['neighbourhood'].replace('Sp├Ñnga-Tensta','Spånga-Tensta', inplace=True)"
   ]
  },
  {
   "cell_type": "code",
   "execution_count": 15,
   "metadata": {},
   "outputs": [],
   "source": [
    "# df_test=df_airbnb_calend_stockholm[df_airbnb_calend_stockholm['neighbourhood']=='Södermalm']\n",
    "# df_test"
   ]
  },
  {
   "cell_type": "code",
   "execution_count": 16,
   "metadata": {},
   "outputs": [],
   "source": [
    "# df_test[df_test['name'].str.lower().str.contains(\"fantastic sofo\")]   "
   ]
  },
  {
   "source": [
    "It seems like the prices are in SEK - after comparing 'price' to website price for same place"
   ],
   "cell_type": "markdown",
   "metadata": {}
  },
  {
   "cell_type": "code",
   "execution_count": 220,
   "metadata": {
    "tags": []
   },
   "outputs": [
    {
     "output_type": "stream",
     "name": "stdout",
     "text": [
      "(182014,) (6,)\n       listing_id         id        date reviewer_id reviewer_name  \\\n0          145320  156423122  2017-05-30   123386382         Erwin   \n1          145320  170211906  2017-07-15   123091743          Anne   \n2          145320  172169175  2017-07-20       78004      Patricia   \n3          145320  176647581  2017-07-31   103178743     Charlotte   \n4          145320  185676021  2017-08-22     4023961     Alexander   \n...           ...        ...         ...         ...           ...   \n182009   43720290  629441507  2020-06-14   308451513            Lu   \n182010   43720290  631087136  2020-06-21    76954984        Shahin   \n182011   43724610  630964346  2020-06-21    38355251          Ines   \n182012   43749955  632003080  2020-06-25    92774441       Babette   \n182013   43840216  630977479  2020-06-21   251908973          Dala   \n\n                                      comments;;;;;;;;;;;  \n0       Prima plek om Stockholm te bekijken. Alles is ...  \n1       Cosy and clean flat in quiet neighbourhood clo...  \n2       The host canceled this reservation 37 days bef...  \n3       Kim's place was outstanding and comfortable. W...  \n4       great spacious apartment in a nice residential...  \n...                                                   ...  \n182009  Great place with an amazing, spacious balcony ...  \n182010  Amazing place, located near beautiful Hornstul...  \n182011  Catarina has been a kind host. The flat had ev...  \n182012                  Very nice appartement!;;;;;;;;;;;  \n182013   Okej, tog en timma tills vi fick svar;;;;;;;;;;;  \n\n[182014 rows x 6 columns]\nNumber of elements in row and there count:  Counter({1: 45481, 2: 4403, 3: 1553, 4: 621, 7: 557, 8: 371, 5: 329, 9: 241, 12: 188, 11: 134, 10: 131, 13: 112, 14: 87, 17: 47, 16: 46, 15: 36, 18: 29, 19: 19, 22: 15, 23: 13, 20: 11, 28: 6, 21: 6, 24: 6, 25: 5, 27: 4, 26: 4, 36: 2, 37: 1, 31: 1, 39: 1, 43: 1})\n--- 3.459775447845459 seconds ---\n"
     ]
    }
   ],
   "source": [
    "start_time = time.time()\n",
    "wrong_amount_of_element=[]\n",
    "number_of_rows=6\n",
    "\n",
    "count=0\n",
    "airbnb_calend_list=[]\n",
    "with open('../datafiles/airbnb_reviews_stockholm.csv', newline='',encoding = 'cp850') as csvfile:\n",
    "    csv_reader_data = csv.reader(csvfile)\n",
    "    for row in csv_reader_data: \n",
    "        next_row = [] \n",
    "        # if count== 177:\n",
    "        #     print(row)\n",
    "        #     print(row[0])\n",
    "        #     print(np.shape(row))\n",
    "            # redone_csv_reading = csv.reader(row)\n",
    "            # for new_row in redone_csv_reading:\n",
    "            #     # print([new_row])\n",
    "            #     # print(np.shape(new_row))\n",
    "            #     next_row = new_row\n",
    "\n",
    "            #     print(next_row)\n",
    "        if count >=1 and np.shape(row)[0]==1: # if count is not header and has \"\" around the all elements\n",
    "            # print(row)\n",
    "            # print(np.shape(row))\n",
    "            # print(row[0])\n",
    "            # print(np.shape(row[0]))\n",
    "            row[0]=row[0].replace(\"\\n\",\"\")\n",
    "            redone_csv_reading = csv.reader(row)\n",
    "            for new_row in redone_csv_reading:\n",
    "                # print(new_row)\n",
    "                # print(np.shape(new_row))\n",
    "                if np.shape(new_row)[0]==number_of_rows:\n",
    "                    next_row = new_row\n",
    "                    # print(\"1\")\n",
    "                    # print(new_row)\n",
    "                else:\n",
    "                    wrong_amount_of_element.append(np.shape(new_row)[0])\n",
    "                    # print(\"\\nError: not shape of 'new_row' ==7 \")\n",
    "                    # print(new_row)\n",
    "\n",
    "            # print(\"\\n\")\n",
    "        elif count >=1 and np.shape(row)[0]==number_of_rows:\n",
    "            next_row = row\n",
    "            # print(\"2\")\n",
    "            # print([next_row])\n",
    "        elif count==0:\n",
    "            # print(row)\n",
    "            # print(np.shape(row))\n",
    "            headers_row = row\n",
    "\n",
    "        # else:\n",
    "            # print(\"\\nError: not shape of 'row' == 1 or 7\")\n",
    "            # print(row)\n",
    "            # next_row = np.empty((1,7,))\n",
    "            # next_row[:] = np.nan\n",
    "            # # next_row=np.nan\n",
    "            # print(\"\")\n",
    "\n",
    "\n",
    "        if count >=1:     \n",
    "            airbnb_calend_list.append(next_row)\n",
    "\n",
    "\n",
    "        count = count + 1\n",
    "        if count == 1000000:\n",
    "            break\n",
    "# print(airbnb_calend_list)\n",
    "print(np.shape(airbnb_calend_list),np.shape(headers_row))\n",
    "df_airbnb_review_stockholm = pd.DataFrame(data=airbnb_calend_list, columns= headers_row)\n",
    "print(df_airbnb_review_stockholm)\n",
    "# df_airbnb_calend_stockholm.to_csv('../datafiles/airbnb_calendar_stockholm_new.csv',index=False)\n",
    "print(\"Number of elements in row and there count: \",Counter(wrong_amount_of_element))\n",
    "print(\"--- %s seconds ---\" % (time.time() - start_time))"
   ]
  },
  {
   "cell_type": "code",
   "execution_count": 221,
   "metadata": {},
   "outputs": [
    {
     "output_type": "execute_result",
     "data": {
      "text/plain": [
       "  listing_id         id        date reviewer_id reviewer_name  \\\n",
       "0     145320  156423122  2017-05-30   123386382         Erwin   \n",
       "1     145320  170211906  2017-07-15   123091743          Anne   \n",
       "2     145320  172169175  2017-07-20       78004      Patricia   \n",
       "3     145320  176647581  2017-07-31   103178743     Charlotte   \n",
       "4     145320  185676021  2017-08-22     4023961     Alexander   \n",
       "\n",
       "                                 comments;;;;;;;;;;;  \n",
       "0  Prima plek om Stockholm te bekijken. Alles is ...  \n",
       "1  Cosy and clean flat in quiet neighbourhood clo...  \n",
       "2  The host canceled this reservation 37 days bef...  \n",
       "3  Kim's place was outstanding and comfortable. W...  \n",
       "4  great spacious apartment in a nice residential...  "
      ],
      "text/html": "<div>\n<style scoped>\n    .dataframe tbody tr th:only-of-type {\n        vertical-align: middle;\n    }\n\n    .dataframe tbody tr th {\n        vertical-align: top;\n    }\n\n    .dataframe thead th {\n        text-align: right;\n    }\n</style>\n<table border=\"1\" class=\"dataframe\">\n  <thead>\n    <tr style=\"text-align: right;\">\n      <th></th>\n      <th>listing_id</th>\n      <th>id</th>\n      <th>date</th>\n      <th>reviewer_id</th>\n      <th>reviewer_name</th>\n      <th>comments;;;;;;;;;;;</th>\n    </tr>\n  </thead>\n  <tbody>\n    <tr>\n      <th>0</th>\n      <td>145320</td>\n      <td>156423122</td>\n      <td>2017-05-30</td>\n      <td>123386382</td>\n      <td>Erwin</td>\n      <td>Prima plek om Stockholm te bekijken. Alles is ...</td>\n    </tr>\n    <tr>\n      <th>1</th>\n      <td>145320</td>\n      <td>170211906</td>\n      <td>2017-07-15</td>\n      <td>123091743</td>\n      <td>Anne</td>\n      <td>Cosy and clean flat in quiet neighbourhood clo...</td>\n    </tr>\n    <tr>\n      <th>2</th>\n      <td>145320</td>\n      <td>172169175</td>\n      <td>2017-07-20</td>\n      <td>78004</td>\n      <td>Patricia</td>\n      <td>The host canceled this reservation 37 days bef...</td>\n    </tr>\n    <tr>\n      <th>3</th>\n      <td>145320</td>\n      <td>176647581</td>\n      <td>2017-07-31</td>\n      <td>103178743</td>\n      <td>Charlotte</td>\n      <td>Kim's place was outstanding and comfortable. W...</td>\n    </tr>\n    <tr>\n      <th>4</th>\n      <td>145320</td>\n      <td>185676021</td>\n      <td>2017-08-22</td>\n      <td>4023961</td>\n      <td>Alexander</td>\n      <td>great spacious apartment in a nice residential...</td>\n    </tr>\n  </tbody>\n</table>\n</div>"
     },
     "metadata": {},
     "execution_count": 221
    }
   ],
   "source": [
    "df_airbnb_review_stockholm.head()"
   ]
  },
  {
   "cell_type": "code",
   "execution_count": null,
   "metadata": {},
   "outputs": [],
   "source": []
  }
 ]
}