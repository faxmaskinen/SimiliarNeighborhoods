{
 "metadata": {
  "language_info": {
   "codemirror_mode": {
    "name": "ipython",
    "version": 3
   },
   "file_extension": ".py",
   "mimetype": "text/x-python",
   "name": "python",
   "nbconvert_exporter": "python",
   "pygments_lexer": "ipython3",
   "version": "3.8.6-final"
  },
  "orig_nbformat": 2,
  "kernelspec": {
   "name": "Python 3.8.6 64-bit",
   "display_name": "Python 3.8.6 64-bit",
   "metadata": {
    "interpreter": {
     "hash": "c1c7833bc1f675858b97fffafeb722f93481f4d9b87f7b55bd9edaba86123ae6"
    }
   }
  }
 },
 "nbformat": 4,
 "nbformat_minor": 2,
 "cells": [
  {
   "source": [
    "# Install a pip package in the current Jupyter kernel\n",
    "# import sys\n",
    "# !{sys.executable} -m pip install BeautifulSoup4\n",
    "# python -m pip install BeautifulSoup4"
   ],
   "cell_type": "code",
   "metadata": {},
   "execution_count": 363,
   "outputs": []
  },
  {
   "cell_type": "code",
   "execution_count": 364,
   "metadata": {},
   "outputs": [],
   "source": [
    "\n",
    "# pip install BeautifulSoup4"
   ]
  },
  {
   "cell_type": "code",
   "execution_count": 365,
   "metadata": {},
   "outputs": [
    {
     "output_type": "stream",
     "name": "stdout",
     "text": [
      "Libraries imported.\n"
     ]
    }
   ],
   "source": [
    "import pandas as pd # library for data analsysis\n",
    "import numpy as np # library to handle data in a vectorized manner\n",
    "import random # library for random number generation\n",
    "\n",
    "# from bs4 import BeautifulSoup\n",
    "#  http://beautiful-soup-4.readthedocs.io/en/latest/    # for more advanced web scraping  \n",
    "\n",
    "import lxml\n",
    "import html5lib\n",
    "import csv\n",
    "\n",
    "import time  # used to record time to run functions\n",
    "\n",
    "from collections import Counter\n",
    "\n",
    "print('Libraries imported.')"
   ]
  },
  {
   "source": [
    "## Import neighborhoods data\n",
    "\n",
    "start with Toronto"
   ],
   "cell_type": "markdown",
   "metadata": {}
  },
  {
   "cell_type": "code",
   "execution_count": 366,
   "metadata": {},
   "outputs": [
    {
     "output_type": "execute_result",
     "data": {
      "text/plain": [
       "  Postal Code           Borough              Neighbourhood\n",
       "0         M1A      Not assigned               Not assigned\n",
       "1         M2A      Not assigned               Not assigned\n",
       "2         M3A        North York                  Parkwoods\n",
       "3         M4A        North York           Victoria Village\n",
       "4         M5A  Downtown Toronto  Regent Park, Harbourfront"
      ],
      "text/html": "<div>\n<style scoped>\n    .dataframe tbody tr th:only-of-type {\n        vertical-align: middle;\n    }\n\n    .dataframe tbody tr th {\n        vertical-align: top;\n    }\n\n    .dataframe thead th {\n        text-align: right;\n    }\n</style>\n<table border=\"1\" class=\"dataframe\">\n  <thead>\n    <tr style=\"text-align: right;\">\n      <th></th>\n      <th>Postal Code</th>\n      <th>Borough</th>\n      <th>Neighbourhood</th>\n    </tr>\n  </thead>\n  <tbody>\n    <tr>\n      <th>0</th>\n      <td>M1A</td>\n      <td>Not assigned</td>\n      <td>Not assigned</td>\n    </tr>\n    <tr>\n      <th>1</th>\n      <td>M2A</td>\n      <td>Not assigned</td>\n      <td>Not assigned</td>\n    </tr>\n    <tr>\n      <th>2</th>\n      <td>M3A</td>\n      <td>North York</td>\n      <td>Parkwoods</td>\n    </tr>\n    <tr>\n      <th>3</th>\n      <td>M4A</td>\n      <td>North York</td>\n      <td>Victoria Village</td>\n    </tr>\n    <tr>\n      <th>4</th>\n      <td>M5A</td>\n      <td>Downtown Toronto</td>\n      <td>Regent Park, Harbourfront</td>\n    </tr>\n  </tbody>\n</table>\n</div>"
     },
     "metadata": {},
     "execution_count": 366
    }
   ],
   "source": [
    "url = 'https://en.wikipedia.org/wiki/List_of_postal_codes_of_Canada:_M'\n",
    "df_to_neighborhoods = pd.read_html(url, attrs={\"class\": \"wikitable\"})[0]   # 0 is for the 1st table in this particular page\n",
    "df_to_neighborhoods.head()"
   ]
  },
  {
   "source": [
    "clean the Toronto dataframe"
   ],
   "cell_type": "markdown",
   "metadata": {}
  },
  {
   "cell_type": "code",
   "execution_count": 367,
   "metadata": {},
   "outputs": [
    {
     "output_type": "stream",
     "name": "stdout",
     "text": [
      "Dropped 'Not assigned' values in the 'Postal Code' column!\nAny mispelles not assigned values in 'Borough'?  Series([], Name: Borough, dtype: object), Series([], Name: Borough, dtype: object)\nThere is no duplicate 'Postal Code' rows!\nCannot find any 'Not assigned' values in the 'Neighbourhood' column!\n"
     ]
    },
    {
     "output_type": "execute_result",
     "data": {
      "text/plain": [
       "  Postal Code           Borough                                Neighbourhood\n",
       "0         M3A        North York                                    Parkwoods\n",
       "1         M4A        North York                             Victoria Village\n",
       "2         M5A  Downtown Toronto                    Regent Park, Harbourfront\n",
       "3         M6A        North York             Lawrence Manor, Lawrence Heights\n",
       "4         M7A  Downtown Toronto  Queen's Park, Ontario Provincial Government"
      ],
      "text/html": "<div>\n<style scoped>\n    .dataframe tbody tr th:only-of-type {\n        vertical-align: middle;\n    }\n\n    .dataframe tbody tr th {\n        vertical-align: top;\n    }\n\n    .dataframe thead th {\n        text-align: right;\n    }\n</style>\n<table border=\"1\" class=\"dataframe\">\n  <thead>\n    <tr style=\"text-align: right;\">\n      <th></th>\n      <th>Postal Code</th>\n      <th>Borough</th>\n      <th>Neighbourhood</th>\n    </tr>\n  </thead>\n  <tbody>\n    <tr>\n      <th>0</th>\n      <td>M3A</td>\n      <td>North York</td>\n      <td>Parkwoods</td>\n    </tr>\n    <tr>\n      <th>1</th>\n      <td>M4A</td>\n      <td>North York</td>\n      <td>Victoria Village</td>\n    </tr>\n    <tr>\n      <th>2</th>\n      <td>M5A</td>\n      <td>Downtown Toronto</td>\n      <td>Regent Park, Harbourfront</td>\n    </tr>\n    <tr>\n      <th>3</th>\n      <td>M6A</td>\n      <td>North York</td>\n      <td>Lawrence Manor, Lawrence Heights</td>\n    </tr>\n    <tr>\n      <th>4</th>\n      <td>M7A</td>\n      <td>Downtown Toronto</td>\n      <td>Queen's Park, Ontario Provincial Government</td>\n    </tr>\n  </tbody>\n</table>\n</div>"
     },
     "metadata": {},
     "execution_count": 367
    }
   ],
   "source": [
    "df_to_neighborhoods['Borough']=df_to_neighborhoods['Borough'].replace('Not assigned',np.NaN)   # replace 'Not assigned' with NaN \n",
    "df_to_neighborhoods=df_to_neighborhoods.dropna() \n",
    "df_to_neighborhoods.reset_index(drop=True, inplace=True)\n",
    "print(\"Dropped 'Not assigned' values in the 'Postal Code' column!\")\n",
    "\n",
    "# pd.set_option('display.max_rows', None)     # show all data in dataframe\n",
    "\n",
    "# check for mispelled 'Not assigned' values in 'Borough' which has not been replaced\n",
    "print(\"Any mispelles not assigned values in 'Borough'?  \" + str(df_to_neighborhoods['Borough'][df_to_neighborhoods['Borough'].str.lower().str.contains('t as', regex=False)]) + \", \" + str(df_to_neighborhoods['Borough'][df_to_neighborhoods['Borough'].str.lower().str.contains('not ', regex=False)]) )   \n",
    "\n",
    "# find non unique (duplicate) postal codes \n",
    "dupli= \"no\"\n",
    "for d in df_to_neighborhoods['Postal Code'].duplicated().unique():\n",
    "    if d == True:\n",
    "        dupli = \"\"\n",
    "print(\"There is \" + dupli+\" duplicate 'Postal Code' rows!\")\n",
    "\n",
    "\n",
    "# find neighborhoods with 'Not assigned' values\n",
    "assigned=\"Cannot find any\"\n",
    "for a in df_to_neighborhoods['Neighbourhood'].isin(['Not assigned']):\n",
    "    if a == True:\n",
    "        assigned=\"Found\"\n",
    "print(assigned+\" 'Not assigned' values in the 'Neighbourhood' column!\")\n",
    "\n",
    "df_to_neighborhoods.head()"
   ]
  },
  {
   "cell_type": "code",
   "execution_count": 368,
   "metadata": {},
   "outputs": [
    {
     "output_type": "execute_result",
     "data": {
      "text/plain": [
       "(103, 3)"
      ]
     },
     "metadata": {},
     "execution_count": 368
    }
   ],
   "source": [
    "df_to_neighborhoods.shape"
   ]
  },
  {
   "source": [
    "### Add location data of the neighborhoods in Toronto\n",
    "\n",
    "Google Maps Geocoding API started to cost therefore geocoder is used, however it is a bit unreliable it seems, thus we need to download an .CSV file with data of the coordinates"
   ],
   "cell_type": "markdown",
   "metadata": {}
  },
  {
   "cell_type": "code",
   "execution_count": 369,
   "metadata": {},
   "outputs": [
    {
     "output_type": "execute_result",
     "data": {
      "text/plain": [
       "    Postal Code   Latitude  Longitude\n",
       "0           M1B  43.806686 -79.194353\n",
       "1           M1C  43.784535 -79.160497\n",
       "2           M1E  43.763573 -79.188711\n",
       "3           M1G  43.770992 -79.216917\n",
       "4           M1H  43.773136 -79.239476\n",
       "..          ...        ...        ...\n",
       "98          M9N  43.706876 -79.518188\n",
       "99          M9P  43.696319 -79.532242\n",
       "100         M9R  43.688905 -79.554724\n",
       "101         M9V  43.739416 -79.588437\n",
       "102         M9W  43.706748 -79.594054\n",
       "\n",
       "[103 rows x 3 columns]"
      ],
      "text/html": "<div>\n<style scoped>\n    .dataframe tbody tr th:only-of-type {\n        vertical-align: middle;\n    }\n\n    .dataframe tbody tr th {\n        vertical-align: top;\n    }\n\n    .dataframe thead th {\n        text-align: right;\n    }\n</style>\n<table border=\"1\" class=\"dataframe\">\n  <thead>\n    <tr style=\"text-align: right;\">\n      <th></th>\n      <th>Postal Code</th>\n      <th>Latitude</th>\n      <th>Longitude</th>\n    </tr>\n  </thead>\n  <tbody>\n    <tr>\n      <th>0</th>\n      <td>M1B</td>\n      <td>43.806686</td>\n      <td>-79.194353</td>\n    </tr>\n    <tr>\n      <th>1</th>\n      <td>M1C</td>\n      <td>43.784535</td>\n      <td>-79.160497</td>\n    </tr>\n    <tr>\n      <th>2</th>\n      <td>M1E</td>\n      <td>43.763573</td>\n      <td>-79.188711</td>\n    </tr>\n    <tr>\n      <th>3</th>\n      <td>M1G</td>\n      <td>43.770992</td>\n      <td>-79.216917</td>\n    </tr>\n    <tr>\n      <th>4</th>\n      <td>M1H</td>\n      <td>43.773136</td>\n      <td>-79.239476</td>\n    </tr>\n    <tr>\n      <th>...</th>\n      <td>...</td>\n      <td>...</td>\n      <td>...</td>\n    </tr>\n    <tr>\n      <th>98</th>\n      <td>M9N</td>\n      <td>43.706876</td>\n      <td>-79.518188</td>\n    </tr>\n    <tr>\n      <th>99</th>\n      <td>M9P</td>\n      <td>43.696319</td>\n      <td>-79.532242</td>\n    </tr>\n    <tr>\n      <th>100</th>\n      <td>M9R</td>\n      <td>43.688905</td>\n      <td>-79.554724</td>\n    </tr>\n    <tr>\n      <th>101</th>\n      <td>M9V</td>\n      <td>43.739416</td>\n      <td>-79.588437</td>\n    </tr>\n    <tr>\n      <th>102</th>\n      <td>M9W</td>\n      <td>43.706748</td>\n      <td>-79.594054</td>\n    </tr>\n  </tbody>\n</table>\n<p>103 rows × 3 columns</p>\n</div>"
     },
     "metadata": {},
     "execution_count": 369
    }
   ],
   "source": [
    "df_to_coordinates=pd.read_csv('../datafiles/Geospatial_Coordinates.csv')\n",
    "df_to_coordinates"
   ]
  },
  {
   "cell_type": "code",
   "execution_count": 370,
   "metadata": {},
   "outputs": [],
   "source": [
    "import geocoder # import geocoder\n",
    "import geopy\n",
    "from geopy.geocoders import Nominatim"
   ]
  },
  {
   "cell_type": "code",
   "execution_count": 385,
   "metadata": {},
   "outputs": [],
   "source": [
    "\n",
    "# Coordinate arrays\n",
    "lat_list=np.array([])\n",
    "long_list=np.array([])\n",
    "\n",
    "for i, pcode in enumerate(df_to_neighborhoods['Postal Code']):\n",
    "    # print(i, pcode)\n",
    "    # initialize your variable to None\n",
    "    lat_coords =None\n",
    "    lng_coords =None\n",
    "    \n",
    "\n",
    "    locator = Nominatim(user_agent=\"myGeocoder\")\n",
    "    count = 0\n",
    "    # loop until you get the coordinates\n",
    "    while(lng_coords is None):\n",
    "        location = locator.geocode('{}, Toronto, Ontario'.format(pcode))\n",
    "        try:\n",
    "            lat_coords = location.latitude\n",
    "            lng_coords = location.longitude\n",
    "            # print(\"Coordinates: \"+ str(lat_coords) + \", \"+str(lng_coords) )\n",
    "        except:\n",
    "            lat_coords =None\n",
    "            lng_coords =None\n",
    "\n",
    "        if count == 3:  # the limit\n",
    "            # print(\" Error 'Location' not found in Geocode! Switching to CSV file\")\n",
    "            lat_coords = df_to_coordinates.loc[ df_to_coordinates['Postal Code'] == pcode ]['Latitude'].to_list()[0]\n",
    "            lng_coords = df_to_coordinates.loc[ df_to_coordinates['Postal Code'] == pcode ]['Longitude'].to_list()[0]\n",
    "            # print(\"\\nCoordinates: \"+ str(lat_coords) + \", \"+str(lng_coords) )\n",
    "        # if count == 3:\n",
    "        #     print(\"Error count = 3\")\n",
    "        #     break\n",
    "\n",
    "        count = count + 1\n",
    "    \n",
    "    lat_to_list= np.append(lat_list, lat_coords)\n",
    "    long_to_list= np.append(long_list, lng_coords)\n",
    "\n",
    "# lat_to_list"
   ]
  },
  {
   "cell_type": "code",
   "execution_count": 386,
   "metadata": {},
   "outputs": [
    {
     "output_type": "execute_result",
     "data": {
      "text/plain": [
       "(1,)"
      ]
     },
     "metadata": {},
     "execution_count": 386
    }
   ],
   "source": [
    "\n",
    "lat_to_list.shape"
   ]
  },
  {
   "cell_type": "code",
   "execution_count": 387,
   "metadata": {},
   "outputs": [
    {
     "output_type": "error",
     "ename": "ValueError",
     "evalue": "Length of values (1) does not match length of index (103)",
     "traceback": [
      "\u001b[1;31m---------------------------------------------------------------------------\u001b[0m",
      "\u001b[1;31mValueError\u001b[0m                                Traceback (most recent call last)",
      "\u001b[1;32m<ipython-input-387-99810d9dedfd>\u001b[0m in \u001b[0;36m<module>\u001b[1;34m\u001b[0m\n\u001b[1;32m----> 1\u001b[1;33m \u001b[0mdf_to_neighborhoods\u001b[0m\u001b[1;33m[\u001b[0m\u001b[1;34m\"Latitude\"\u001b[0m\u001b[1;33m]\u001b[0m\u001b[1;33m=\u001b[0m\u001b[0mlat_to_list\u001b[0m\u001b[1;33m\u001b[0m\u001b[1;33m\u001b[0m\u001b[0m\n\u001b[0m\u001b[0;32m      2\u001b[0m \u001b[0mdf_to_neighborhoods\u001b[0m\u001b[1;33m[\u001b[0m\u001b[1;34m\"Longitude\"\u001b[0m\u001b[1;33m]\u001b[0m\u001b[1;33m=\u001b[0m\u001b[0mlong_to_list\u001b[0m\u001b[1;33m\u001b[0m\u001b[1;33m\u001b[0m\u001b[0m\n\u001b[0;32m      3\u001b[0m \u001b[0mdf_to_neighborhoods\u001b[0m\u001b[1;33m\u001b[0m\u001b[1;33m\u001b[0m\u001b[0m\n",
      "\u001b[1;32m~\\AppData\\Local\\Packages\\PythonSoftwareFoundation.Python.3.8_qbz5n2kfra8p0\\LocalCache\\local-packages\\Python38\\site-packages\\pandas\\core\\frame.py\u001b[0m in \u001b[0;36m__setitem__\u001b[1;34m(self, key, value)\u001b[0m\n\u001b[0;32m   3038\u001b[0m         \u001b[1;32melse\u001b[0m\u001b[1;33m:\u001b[0m\u001b[1;33m\u001b[0m\u001b[1;33m\u001b[0m\u001b[0m\n\u001b[0;32m   3039\u001b[0m             \u001b[1;31m# set column\u001b[0m\u001b[1;33m\u001b[0m\u001b[1;33m\u001b[0m\u001b[1;33m\u001b[0m\u001b[0m\n\u001b[1;32m-> 3040\u001b[1;33m             \u001b[0mself\u001b[0m\u001b[1;33m.\u001b[0m\u001b[0m_set_item\u001b[0m\u001b[1;33m(\u001b[0m\u001b[0mkey\u001b[0m\u001b[1;33m,\u001b[0m \u001b[0mvalue\u001b[0m\u001b[1;33m)\u001b[0m\u001b[1;33m\u001b[0m\u001b[1;33m\u001b[0m\u001b[0m\n\u001b[0m\u001b[0;32m   3041\u001b[0m \u001b[1;33m\u001b[0m\u001b[0m\n\u001b[0;32m   3042\u001b[0m     \u001b[1;32mdef\u001b[0m \u001b[0m_setitem_slice\u001b[0m\u001b[1;33m(\u001b[0m\u001b[0mself\u001b[0m\u001b[1;33m,\u001b[0m \u001b[0mkey\u001b[0m\u001b[1;33m:\u001b[0m \u001b[0mslice\u001b[0m\u001b[1;33m,\u001b[0m \u001b[0mvalue\u001b[0m\u001b[1;33m)\u001b[0m\u001b[1;33m:\u001b[0m\u001b[1;33m\u001b[0m\u001b[1;33m\u001b[0m\u001b[0m\n",
      "\u001b[1;32m~\\AppData\\Local\\Packages\\PythonSoftwareFoundation.Python.3.8_qbz5n2kfra8p0\\LocalCache\\local-packages\\Python38\\site-packages\\pandas\\core\\frame.py\u001b[0m in \u001b[0;36m_set_item\u001b[1;34m(self, key, value)\u001b[0m\n\u001b[0;32m   3114\u001b[0m         \"\"\"\n\u001b[0;32m   3115\u001b[0m         \u001b[0mself\u001b[0m\u001b[1;33m.\u001b[0m\u001b[0m_ensure_valid_index\u001b[0m\u001b[1;33m(\u001b[0m\u001b[0mvalue\u001b[0m\u001b[1;33m)\u001b[0m\u001b[1;33m\u001b[0m\u001b[1;33m\u001b[0m\u001b[0m\n\u001b[1;32m-> 3116\u001b[1;33m         \u001b[0mvalue\u001b[0m \u001b[1;33m=\u001b[0m \u001b[0mself\u001b[0m\u001b[1;33m.\u001b[0m\u001b[0m_sanitize_column\u001b[0m\u001b[1;33m(\u001b[0m\u001b[0mkey\u001b[0m\u001b[1;33m,\u001b[0m \u001b[0mvalue\u001b[0m\u001b[1;33m)\u001b[0m\u001b[1;33m\u001b[0m\u001b[1;33m\u001b[0m\u001b[0m\n\u001b[0m\u001b[0;32m   3117\u001b[0m         \u001b[0mNDFrame\u001b[0m\u001b[1;33m.\u001b[0m\u001b[0m_set_item\u001b[0m\u001b[1;33m(\u001b[0m\u001b[0mself\u001b[0m\u001b[1;33m,\u001b[0m \u001b[0mkey\u001b[0m\u001b[1;33m,\u001b[0m \u001b[0mvalue\u001b[0m\u001b[1;33m)\u001b[0m\u001b[1;33m\u001b[0m\u001b[1;33m\u001b[0m\u001b[0m\n\u001b[0;32m   3118\u001b[0m \u001b[1;33m\u001b[0m\u001b[0m\n",
      "\u001b[1;32m~\\AppData\\Local\\Packages\\PythonSoftwareFoundation.Python.3.8_qbz5n2kfra8p0\\LocalCache\\local-packages\\Python38\\site-packages\\pandas\\core\\frame.py\u001b[0m in \u001b[0;36m_sanitize_column\u001b[1;34m(self, key, value, broadcast)\u001b[0m\n\u001b[0;32m   3762\u001b[0m \u001b[1;33m\u001b[0m\u001b[0m\n\u001b[0;32m   3763\u001b[0m             \u001b[1;31m# turn me into an ndarray\u001b[0m\u001b[1;33m\u001b[0m\u001b[1;33m\u001b[0m\u001b[1;33m\u001b[0m\u001b[0m\n\u001b[1;32m-> 3764\u001b[1;33m             \u001b[0mvalue\u001b[0m \u001b[1;33m=\u001b[0m \u001b[0msanitize_index\u001b[0m\u001b[1;33m(\u001b[0m\u001b[0mvalue\u001b[0m\u001b[1;33m,\u001b[0m \u001b[0mself\u001b[0m\u001b[1;33m.\u001b[0m\u001b[0mindex\u001b[0m\u001b[1;33m)\u001b[0m\u001b[1;33m\u001b[0m\u001b[1;33m\u001b[0m\u001b[0m\n\u001b[0m\u001b[0;32m   3765\u001b[0m             \u001b[1;32mif\u001b[0m \u001b[1;32mnot\u001b[0m \u001b[0misinstance\u001b[0m\u001b[1;33m(\u001b[0m\u001b[0mvalue\u001b[0m\u001b[1;33m,\u001b[0m \u001b[1;33m(\u001b[0m\u001b[0mnp\u001b[0m\u001b[1;33m.\u001b[0m\u001b[0mndarray\u001b[0m\u001b[1;33m,\u001b[0m \u001b[0mIndex\u001b[0m\u001b[1;33m)\u001b[0m\u001b[1;33m)\u001b[0m\u001b[1;33m:\u001b[0m\u001b[1;33m\u001b[0m\u001b[1;33m\u001b[0m\u001b[0m\n\u001b[0;32m   3766\u001b[0m                 \u001b[1;32mif\u001b[0m \u001b[0misinstance\u001b[0m\u001b[1;33m(\u001b[0m\u001b[0mvalue\u001b[0m\u001b[1;33m,\u001b[0m \u001b[0mlist\u001b[0m\u001b[1;33m)\u001b[0m \u001b[1;32mand\u001b[0m \u001b[0mlen\u001b[0m\u001b[1;33m(\u001b[0m\u001b[0mvalue\u001b[0m\u001b[1;33m)\u001b[0m \u001b[1;33m>\u001b[0m \u001b[1;36m0\u001b[0m\u001b[1;33m:\u001b[0m\u001b[1;33m\u001b[0m\u001b[1;33m\u001b[0m\u001b[0m\n",
      "\u001b[1;32m~\\AppData\\Local\\Packages\\PythonSoftwareFoundation.Python.3.8_qbz5n2kfra8p0\\LocalCache\\local-packages\\Python38\\site-packages\\pandas\\core\\internals\\construction.py\u001b[0m in \u001b[0;36msanitize_index\u001b[1;34m(data, index)\u001b[0m\n\u001b[0;32m    745\u001b[0m     \"\"\"\n\u001b[0;32m    746\u001b[0m     \u001b[1;32mif\u001b[0m \u001b[0mlen\u001b[0m\u001b[1;33m(\u001b[0m\u001b[0mdata\u001b[0m\u001b[1;33m)\u001b[0m \u001b[1;33m!=\u001b[0m \u001b[0mlen\u001b[0m\u001b[1;33m(\u001b[0m\u001b[0mindex\u001b[0m\u001b[1;33m)\u001b[0m\u001b[1;33m:\u001b[0m\u001b[1;33m\u001b[0m\u001b[1;33m\u001b[0m\u001b[0m\n\u001b[1;32m--> 747\u001b[1;33m         raise ValueError(\n\u001b[0m\u001b[0;32m    748\u001b[0m             \u001b[1;34m\"Length of values \"\u001b[0m\u001b[1;33m\u001b[0m\u001b[1;33m\u001b[0m\u001b[0m\n\u001b[0;32m    749\u001b[0m             \u001b[1;34mf\"({len(data)}) \"\u001b[0m\u001b[1;33m\u001b[0m\u001b[1;33m\u001b[0m\u001b[0m\n",
      "\u001b[1;31mValueError\u001b[0m: Length of values (1) does not match length of index (103)"
     ]
    }
   ],
   "source": [
    "df_to_neighborhoods[\"Latitude\"]=lat_to_list\n",
    "df_to_neighborhoods[\"Longitude\"]=long_to_list\n",
    "df_to_neighborhoods"
   ]
  },
  {
   "source": [
    "### Now adding tempreature average of the city New York\n",
    "We assume that the intercity difference in temperature is not too high.\n",
    "\n",
    "first we read data from wikipedia "
   ],
   "cell_type": "markdown",
   "metadata": {}
  },
  {
   "cell_type": "code",
   "execution_count": 372,
   "metadata": {},
   "outputs": [
    {
     "output_type": "execute_result",
     "data": {
      "text/plain": [
       "   Country         City         Jan         Feb         Mar         Apr  \\\n",
       "0  Algeria      Algiers  11.2(52.2)  11.9(53.4)  12.8(55.0)  14.7(58.5)   \n",
       "1  Algeria  Tamanrasset  12.8(55.0)  15.0(59.0)  18.1(64.6)  22.2(72.0)   \n",
       "2  Algeria      Reggane  16.0(60.8)  18.2(64.8)  23.1(73.6)  27.9(82.2)   \n",
       "3   Angola       Luanda  26.7(80.1)  28.5(83.3)  28.6(83.5)  28.2(82.8)   \n",
       "4    Benin      Cotonou  27.3(81.1)  28.5(83.3)  28.9(84.0)  28.6(83.5)   \n",
       "\n",
       "          May         Jun          Jul          Aug         Sep         Oct  \\\n",
       "0  17.7(63.9)  21.3(70.3)   24.6(76.3)   25.2(77.4)  23.2(73.8)  19.4(66.9)   \n",
       "1  26.1(79.0)  28.9(84.0)   28.7(83.7)   28.2(82.8)  26.5(79.7)  22.4(72.3)   \n",
       "2  32.2(90.0)  36.4(97.5)  39.8(103.6)  38.4(101.1)  35.5(95.9)  29.2(84.6)   \n",
       "3  27.0(80.6)  23.9(75.0)   22.1(71.8)   22.1(71.8)  23.5(74.3)  25.2(77.4)   \n",
       "4  27.8(82.0)  26.5(79.7)   25.8(78.4)   25.6(78.1)  26.0(78.8)  26.7(80.1)   \n",
       "\n",
       "          Nov         Dec        Year Ref.  \n",
       "0  15.2(59.4)  12.1(53.8)  17.4(63.3)  [1]  \n",
       "1  17.3(63.1)  13.9(57.0)  21.7(71.1)  [2]  \n",
       "2  22.0(71.6)  17.8(64.0)  28.3(82.9)  [3]  \n",
       "3  26.7(80.1)  26.9(80.4)  25.8(78.4)  [4]  \n",
       "4  27.6(81.7)  27.3(81.1)  27.2(81.0)  [5]  "
      ],
      "text/html": "<div>\n<style scoped>\n    .dataframe tbody tr th:only-of-type {\n        vertical-align: middle;\n    }\n\n    .dataframe tbody tr th {\n        vertical-align: top;\n    }\n\n    .dataframe thead th {\n        text-align: right;\n    }\n</style>\n<table border=\"1\" class=\"dataframe\">\n  <thead>\n    <tr style=\"text-align: right;\">\n      <th></th>\n      <th>Country</th>\n      <th>City</th>\n      <th>Jan</th>\n      <th>Feb</th>\n      <th>Mar</th>\n      <th>Apr</th>\n      <th>May</th>\n      <th>Jun</th>\n      <th>Jul</th>\n      <th>Aug</th>\n      <th>Sep</th>\n      <th>Oct</th>\n      <th>Nov</th>\n      <th>Dec</th>\n      <th>Year</th>\n      <th>Ref.</th>\n    </tr>\n  </thead>\n  <tbody>\n    <tr>\n      <th>0</th>\n      <td>Algeria</td>\n      <td>Algiers</td>\n      <td>11.2(52.2)</td>\n      <td>11.9(53.4)</td>\n      <td>12.8(55.0)</td>\n      <td>14.7(58.5)</td>\n      <td>17.7(63.9)</td>\n      <td>21.3(70.3)</td>\n      <td>24.6(76.3)</td>\n      <td>25.2(77.4)</td>\n      <td>23.2(73.8)</td>\n      <td>19.4(66.9)</td>\n      <td>15.2(59.4)</td>\n      <td>12.1(53.8)</td>\n      <td>17.4(63.3)</td>\n      <td>[1]</td>\n    </tr>\n    <tr>\n      <th>1</th>\n      <td>Algeria</td>\n      <td>Tamanrasset</td>\n      <td>12.8(55.0)</td>\n      <td>15.0(59.0)</td>\n      <td>18.1(64.6)</td>\n      <td>22.2(72.0)</td>\n      <td>26.1(79.0)</td>\n      <td>28.9(84.0)</td>\n      <td>28.7(83.7)</td>\n      <td>28.2(82.8)</td>\n      <td>26.5(79.7)</td>\n      <td>22.4(72.3)</td>\n      <td>17.3(63.1)</td>\n      <td>13.9(57.0)</td>\n      <td>21.7(71.1)</td>\n      <td>[2]</td>\n    </tr>\n    <tr>\n      <th>2</th>\n      <td>Algeria</td>\n      <td>Reggane</td>\n      <td>16.0(60.8)</td>\n      <td>18.2(64.8)</td>\n      <td>23.1(73.6)</td>\n      <td>27.9(82.2)</td>\n      <td>32.2(90.0)</td>\n      <td>36.4(97.5)</td>\n      <td>39.8(103.6)</td>\n      <td>38.4(101.1)</td>\n      <td>35.5(95.9)</td>\n      <td>29.2(84.6)</td>\n      <td>22.0(71.6)</td>\n      <td>17.8(64.0)</td>\n      <td>28.3(82.9)</td>\n      <td>[3]</td>\n    </tr>\n    <tr>\n      <th>3</th>\n      <td>Angola</td>\n      <td>Luanda</td>\n      <td>26.7(80.1)</td>\n      <td>28.5(83.3)</td>\n      <td>28.6(83.5)</td>\n      <td>28.2(82.8)</td>\n      <td>27.0(80.6)</td>\n      <td>23.9(75.0)</td>\n      <td>22.1(71.8)</td>\n      <td>22.1(71.8)</td>\n      <td>23.5(74.3)</td>\n      <td>25.2(77.4)</td>\n      <td>26.7(80.1)</td>\n      <td>26.9(80.4)</td>\n      <td>25.8(78.4)</td>\n      <td>[4]</td>\n    </tr>\n    <tr>\n      <th>4</th>\n      <td>Benin</td>\n      <td>Cotonou</td>\n      <td>27.3(81.1)</td>\n      <td>28.5(83.3)</td>\n      <td>28.9(84.0)</td>\n      <td>28.6(83.5)</td>\n      <td>27.8(82.0)</td>\n      <td>26.5(79.7)</td>\n      <td>25.8(78.4)</td>\n      <td>25.6(78.1)</td>\n      <td>26.0(78.8)</td>\n      <td>26.7(80.1)</td>\n      <td>27.6(81.7)</td>\n      <td>27.3(81.1)</td>\n      <td>27.2(81.0)</td>\n      <td>[5]</td>\n    </tr>\n  </tbody>\n</table>\n</div>"
     },
     "metadata": {},
     "execution_count": 372
    }
   ],
   "source": [
    "url = 'https://en.wikipedia.org/wiki/List_of_cities_by_average_temperature'\n",
    "df_city_weather = pd.read_html(url, attrs={\"class\": \"wikitable\"})[0]   # 0 is for the 1st table in this particular page\n",
    "df_city_weather.head()"
   ]
  },
  {
   "source": [
    "Clean the data"
   ],
   "cell_type": "markdown",
   "metadata": {}
  },
  {
   "cell_type": "code",
   "execution_count": 373,
   "metadata": {},
   "outputs": [
    {
     "output_type": "execute_result",
     "data": {
      "text/plain": [
       "   Country         City   Jan   Feb   Mar   Apr   May   Jun   Jul   Aug   Sep  \\\n",
       "0  Algeria      Algiers  11.2  11.9  12.8  14.7  17.7  21.3  24.6  25.2  23.2   \n",
       "1  Algeria  Tamanrasset  12.8  15.0  18.1  22.2  26.1  28.9  28.7  28.2  26.5   \n",
       "2  Algeria      Reggane  16.0  18.2  23.1  27.9  32.2  36.4  39.8  38.4  35.5   \n",
       "3   Angola       Luanda  26.7  28.5  28.6  28.2  27.0  23.9  22.1  22.1  23.5   \n",
       "4    Benin      Cotonou  27.3  28.5  28.9  28.6  27.8  26.5  25.8  25.6  26.0   \n",
       "\n",
       "    Oct   Nov   Dec  Year  \n",
       "0  19.4  15.2  12.1  17.4  \n",
       "1  22.4  17.3  13.9  21.7  \n",
       "2  29.2  22.0  17.8  28.3  \n",
       "3  25.2  26.7  26.9  25.8  \n",
       "4  26.7  27.6  27.3  27.2  "
      ],
      "text/html": "<div>\n<style scoped>\n    .dataframe tbody tr th:only-of-type {\n        vertical-align: middle;\n    }\n\n    .dataframe tbody tr th {\n        vertical-align: top;\n    }\n\n    .dataframe thead th {\n        text-align: right;\n    }\n</style>\n<table border=\"1\" class=\"dataframe\">\n  <thead>\n    <tr style=\"text-align: right;\">\n      <th></th>\n      <th>Country</th>\n      <th>City</th>\n      <th>Jan</th>\n      <th>Feb</th>\n      <th>Mar</th>\n      <th>Apr</th>\n      <th>May</th>\n      <th>Jun</th>\n      <th>Jul</th>\n      <th>Aug</th>\n      <th>Sep</th>\n      <th>Oct</th>\n      <th>Nov</th>\n      <th>Dec</th>\n      <th>Year</th>\n    </tr>\n  </thead>\n  <tbody>\n    <tr>\n      <th>0</th>\n      <td>Algeria</td>\n      <td>Algiers</td>\n      <td>11.2</td>\n      <td>11.9</td>\n      <td>12.8</td>\n      <td>14.7</td>\n      <td>17.7</td>\n      <td>21.3</td>\n      <td>24.6</td>\n      <td>25.2</td>\n      <td>23.2</td>\n      <td>19.4</td>\n      <td>15.2</td>\n      <td>12.1</td>\n      <td>17.4</td>\n    </tr>\n    <tr>\n      <th>1</th>\n      <td>Algeria</td>\n      <td>Tamanrasset</td>\n      <td>12.8</td>\n      <td>15.0</td>\n      <td>18.1</td>\n      <td>22.2</td>\n      <td>26.1</td>\n      <td>28.9</td>\n      <td>28.7</td>\n      <td>28.2</td>\n      <td>26.5</td>\n      <td>22.4</td>\n      <td>17.3</td>\n      <td>13.9</td>\n      <td>21.7</td>\n    </tr>\n    <tr>\n      <th>2</th>\n      <td>Algeria</td>\n      <td>Reggane</td>\n      <td>16.0</td>\n      <td>18.2</td>\n      <td>23.1</td>\n      <td>27.9</td>\n      <td>32.2</td>\n      <td>36.4</td>\n      <td>39.8</td>\n      <td>38.4</td>\n      <td>35.5</td>\n      <td>29.2</td>\n      <td>22.0</td>\n      <td>17.8</td>\n      <td>28.3</td>\n    </tr>\n    <tr>\n      <th>3</th>\n      <td>Angola</td>\n      <td>Luanda</td>\n      <td>26.7</td>\n      <td>28.5</td>\n      <td>28.6</td>\n      <td>28.2</td>\n      <td>27.0</td>\n      <td>23.9</td>\n      <td>22.1</td>\n      <td>22.1</td>\n      <td>23.5</td>\n      <td>25.2</td>\n      <td>26.7</td>\n      <td>26.9</td>\n      <td>25.8</td>\n    </tr>\n    <tr>\n      <th>4</th>\n      <td>Benin</td>\n      <td>Cotonou</td>\n      <td>27.3</td>\n      <td>28.5</td>\n      <td>28.9</td>\n      <td>28.6</td>\n      <td>27.8</td>\n      <td>26.5</td>\n      <td>25.8</td>\n      <td>25.6</td>\n      <td>26.0</td>\n      <td>26.7</td>\n      <td>27.6</td>\n      <td>27.3</td>\n      <td>27.2</td>\n    </tr>\n  </tbody>\n</table>\n</div>"
     },
     "metadata": {},
     "execution_count": 373
    }
   ],
   "source": [
    "# remove the farenheit temperature values\n",
    "weather_months = df_city_weather.columns.drop(['Country','City','Ref.']) # list of months\n",
    "\n",
    "for month in  weather_months:\n",
    "    df_city_weather[str(month)] = df_city_weather[str(month)].str.replace(r\"\\(.*\\)\",\"\") # Remove the parenthesis + the within\n",
    "\n",
    "# drop the ref column\n",
    "df_city_weather = df_city_weather.drop(['Ref.'], axis=1) \n",
    "\n",
    "# the cities average temperatures in celsius\n",
    "df_city_weather.head()"
   ]
  },
  {
   "cell_type": "code",
   "execution_count": null,
   "metadata": {},
   "outputs": [],
   "source": []
  },
  {
   "cell_type": "code",
   "execution_count": 374,
   "metadata": {},
   "outputs": [],
   "source": [
    "url = 'https://www.numbeo.com/crime/rankings.jsp'\n",
    "df_city_weather = pd.read_html(url)[1]   # 0 is for the 1st table in this particular page\n",
    "# df_city_weather.head()\n",
    "df_city_weather.drop(['Rank'], axis=1, inplace=True) # drop rank dol since only nan\n",
    "df_city_weather['Rank'] = df_city_weather.index # add index as rank, since they are ordered by rank\n",
    "# df_city_weather['City'].str.split(',', expand=True)[2].unique()\n",
    "df_city_weather=pd.concat([df_city_weather, df_city_weather['City'].str.split(', ', expand=True)], axis=1)\n",
    "# df_city_weather\n",
    "# ~pd.notna(df_city_weather[2])"
   ]
  },
  {
   "cell_type": "code",
   "execution_count": 375,
   "metadata": {},
   "outputs": [
    {
     "output_type": "stream",
     "name": "stdout",
     "text": [
      "    Crime Index  Safety Index  Rank              City              Country\n0         84.57         15.43     0           Caracas            Venezuela\n1         81.89         18.11     1          Pretoria         South Africa\n2         81.35         18.65     2    San Pedro Sula             Honduras\n3         81.05         18.95     3      Port Moresby     Papua New Guinea\n4         80.93         19.07     4  Pietermaritzburg         South Africa\n5         80.80         19.20     5            Durban         South Africa\n6         80.31         19.69     6      Johannesburg         South Africa\n7         78.51         21.49     7         Fortaleza               Brazil\n8         77.42         22.58     8    Rio de Janeiro               Brazil\n9         77.22         22.78     9             Kabul          Afghanistan\n10        76.85         23.15    10    Port Elizabeth         South Africa\n11        76.81         23.19    11            Recife               Brazil\n12        75.79         24.21    12      Porto Alegre               Brazil\n13        75.70         24.30    13     Port of Spain  Trinidad And Tobago\n14        75.61         24.39    14           Memphis    TN, United States\n15        75.60         24.40    15          Salvador               Brazil\n16        74.75         25.25    16         Baltimore    MD, United States\n17        73.79         26.21    17           Detroit    MI, United States\n18        73.67         26.33    18         Cape Town         South Africa\n19        71.51         28.49    19             Klang             Malaysia\n"
     ]
    }
   ],
   "source": [
    "# fixa \n",
    "# print(Counter(~pd.notna(df_city_weather[2])))\n",
    "# print(Counter(df_city_weather[2]))\n",
    "# print(Counter(df_city_weather[1]))\n",
    "# df_city_weather[pd.notna(df_city_weather[2])][1] =  df_city_weather[pd.notna(df_city_weather[2])][1].astype(str) + \",  \"\n",
    "# df_city_weather[~pd.notna(df_city_weather[2])][2].str.replace(None,\"a\")\n",
    "df_city_weather.loc[pd.notna(df_city_weather[2]), 2]=\", \"+df_city_weather.loc[pd.notna(df_city_weather[2]), 2].astype(str)\n",
    "df_city_weather[2].fillna(\"\",inplace=True)\n",
    "# df_city_weather.head(20)\n",
    "# # df_city_weather[2]\n",
    "\n",
    "df_city_weather['Country']=df_city_weather[1].str.cat(df_city_weather[2])\n",
    "# # # # df_city_weather[df_city_weather[1]!=\"\"]\n",
    "# # # # df_city_weather[df_city_weather[1]==None]\n",
    "# # # df_city_weather[pd.notna(df_city_weather[2])][1] \n",
    "\n",
    "df_city_weather.drop([1,2,\"City\"],axis=1, inplace=True)\n",
    "df_city_weather.rename(columns={0:'City'},inplace=True)\n",
    "print(df_city_weather.head(20))\n"
   ]
  },
  {
   "cell_type": "code",
   "execution_count": 376,
   "metadata": {},
   "outputs": [],
   "source": [
    "# print(df_city_weather[[0,1,2, 'Country']].head(20))\n",
    "# print(Counter(df_city_weather['Country']))\n",
    "# print(df_city_weather.head(20))"
   ]
  },
  {
   "cell_type": "code",
   "execution_count": 377,
   "metadata": {},
   "outputs": [
    {
     "output_type": "execute_result",
     "data": {
      "text/plain": [
       "       col       col2\n",
       "0       aa       d aa\n",
       "1  adsadaf  d adsadaf\n",
       "2   fafwfe   d fafwfe\n",
       "3       de       d de\n",
       "4  Ecuador  d Ecuador"
      ],
      "text/html": "<div>\n<style scoped>\n    .dataframe tbody tr th:only-of-type {\n        vertical-align: middle;\n    }\n\n    .dataframe tbody tr th {\n        vertical-align: top;\n    }\n\n    .dataframe thead th {\n        text-align: right;\n    }\n</style>\n<table border=\"1\" class=\"dataframe\">\n  <thead>\n    <tr style=\"text-align: right;\">\n      <th></th>\n      <th>col</th>\n      <th>col2</th>\n    </tr>\n  </thead>\n  <tbody>\n    <tr>\n      <th>0</th>\n      <td>aa</td>\n      <td>d aa</td>\n    </tr>\n    <tr>\n      <th>1</th>\n      <td>adsadaf</td>\n      <td>d adsadaf</td>\n    </tr>\n    <tr>\n      <th>2</th>\n      <td>fafwfe</td>\n      <td>d fafwfe</td>\n    </tr>\n    <tr>\n      <th>3</th>\n      <td>de</td>\n      <td>d de</td>\n    </tr>\n    <tr>\n      <th>4</th>\n      <td>Ecuador</td>\n      <td>d Ecuador</td>\n    </tr>\n  </tbody>\n</table>\n</div>"
     },
     "metadata": {},
     "execution_count": 377
    }
   ],
   "source": [
    "A=['aa','adsadaf', 'fafwfe','de', 'Ecuador']\n",
    "eb=pd.DataFrame({'col':A})\n",
    "eb['col2'] = 'd ' + eb['col'].astype(str)\n",
    "eb"
   ]
  },
  {
   "cell_type": "code",
   "execution_count": 378,
   "metadata": {},
   "outputs": [
    {
     "output_type": "execute_result",
     "data": {
      "text/plain": [
       "      country_region_code country_region            sub_region_1  \\\n",
       "0                      SE         Sweden                     NaN   \n",
       "1                      SE         Sweden                     NaN   \n",
       "2                      SE         Sweden                     NaN   \n",
       "3                      SE         Sweden                     NaN   \n",
       "4                      SE         Sweden                     NaN   \n",
       "...                   ...            ...                     ...   \n",
       "53730                  SE         Sweden  Västra Götaland County   \n",
       "53731                  SE         Sweden  Västra Götaland County   \n",
       "53732                  SE         Sweden  Västra Götaland County   \n",
       "53733                  SE         Sweden  Västra Götaland County   \n",
       "53734                  SE         Sweden  Västra Götaland County   \n",
       "\n",
       "                sub_region_2  metro_area iso_3166_2_code  census_fips_code  \\\n",
       "0                        NaN         NaN             NaN               NaN   \n",
       "1                        NaN         NaN             NaN               NaN   \n",
       "2                        NaN         NaN             NaN               NaN   \n",
       "3                        NaN         NaN             NaN               NaN   \n",
       "4                        NaN         NaN             NaN               NaN   \n",
       "...                      ...         ...             ...               ...   \n",
       "53730  Vårgårda Municipality         NaN             NaN               NaN   \n",
       "53731  Vårgårda Municipality         NaN             NaN               NaN   \n",
       "53732  Vårgårda Municipality         NaN             NaN               NaN   \n",
       "53733  Vårgårda Municipality         NaN             NaN               NaN   \n",
       "53734  Vårgårda Municipality         NaN             NaN               NaN   \n",
       "\n",
       "             date  retail_and_recreation_percent_change_from_baseline  \\\n",
       "0      2020-02-15                                                2.0    \n",
       "1      2020-02-16                                              -10.0    \n",
       "2      2020-02-17                                               -4.0    \n",
       "3      2020-02-18                                                0.0    \n",
       "4      2020-02-19                                                3.0    \n",
       "...           ...                                                ...    \n",
       "53730  2020-10-12                                                NaN    \n",
       "53731  2020-10-13                                                NaN    \n",
       "53732  2020-10-14                                                NaN    \n",
       "53733  2020-10-15                                                NaN    \n",
       "53734  2020-10-16                                                NaN    \n",
       "\n",
       "       grocery_and_pharmacy_percent_change_from_baseline  \\\n",
       "0                                                    0.0   \n",
       "1                                                   -7.0   \n",
       "2                                                   -3.0   \n",
       "3                                                    0.0   \n",
       "4                                                    1.0   \n",
       "...                                                  ...   \n",
       "53730                                                NaN   \n",
       "53731                                                NaN   \n",
       "53732                                                NaN   \n",
       "53733                                                NaN   \n",
       "53734                                                NaN   \n",
       "\n",
       "       parks_percent_change_from_baseline  \\\n",
       "0                                     3.0   \n",
       "1                                   -30.0   \n",
       "2                                    -3.0   \n",
       "3                                    13.0   \n",
       "4                                    26.0   \n",
       "...                                   ...   \n",
       "53730                                 NaN   \n",
       "53731                                 NaN   \n",
       "53732                                 NaN   \n",
       "53733                                 NaN   \n",
       "53734                                 NaN   \n",
       "\n",
       "       transit_stations_percent_change_from_baseline  \\\n",
       "0                                                4.0   \n",
       "1                                              -11.0   \n",
       "2                                               -6.0   \n",
       "3                                               -4.0   \n",
       "4                                               -3.0   \n",
       "...                                              ...   \n",
       "53730                                          -29.0   \n",
       "53731                                          -20.0   \n",
       "53732                                          -27.0   \n",
       "53733                                          -20.0   \n",
       "53734                                          -36.0   \n",
       "\n",
       "       workplaces_percent_change_from_baseline  \\\n",
       "0                                         -2.0   \n",
       "1                                         -5.0   \n",
       "2                                         -6.0   \n",
       "3                                         -5.0   \n",
       "4                                         -5.0   \n",
       "...                                        ...   \n",
       "53730                                    -11.0   \n",
       "53731                                    -15.0   \n",
       "53732                                    -10.0   \n",
       "53733                                    -10.0   \n",
       "53734                                    -11.0   \n",
       "\n",
       "       residential_percent_change_from_baseline  \n",
       "0                                           0.0  \n",
       "1                                           2.0  \n",
       "2                                           2.0  \n",
       "3                                           1.0  \n",
       "4                                           1.0  \n",
       "...                                         ...  \n",
       "53730                                       NaN  \n",
       "53731                                       NaN  \n",
       "53732                                       NaN  \n",
       "53733                                       NaN  \n",
       "53734                                       NaN  \n",
       "\n",
       "[53735 rows x 14 columns]"
      ],
      "text/html": "<div>\n<style scoped>\n    .dataframe tbody tr th:only-of-type {\n        vertical-align: middle;\n    }\n\n    .dataframe tbody tr th {\n        vertical-align: top;\n    }\n\n    .dataframe thead th {\n        text-align: right;\n    }\n</style>\n<table border=\"1\" class=\"dataframe\">\n  <thead>\n    <tr style=\"text-align: right;\">\n      <th></th>\n      <th>country_region_code</th>\n      <th>country_region</th>\n      <th>sub_region_1</th>\n      <th>sub_region_2</th>\n      <th>metro_area</th>\n      <th>iso_3166_2_code</th>\n      <th>census_fips_code</th>\n      <th>date</th>\n      <th>retail_and_recreation_percent_change_from_baseline</th>\n      <th>grocery_and_pharmacy_percent_change_from_baseline</th>\n      <th>parks_percent_change_from_baseline</th>\n      <th>transit_stations_percent_change_from_baseline</th>\n      <th>workplaces_percent_change_from_baseline</th>\n      <th>residential_percent_change_from_baseline</th>\n    </tr>\n  </thead>\n  <tbody>\n    <tr>\n      <th>0</th>\n      <td>SE</td>\n      <td>Sweden</td>\n      <td>NaN</td>\n      <td>NaN</td>\n      <td>NaN</td>\n      <td>NaN</td>\n      <td>NaN</td>\n      <td>2020-02-15</td>\n      <td>2.0</td>\n      <td>0.0</td>\n      <td>3.0</td>\n      <td>4.0</td>\n      <td>-2.0</td>\n      <td>0.0</td>\n    </tr>\n    <tr>\n      <th>1</th>\n      <td>SE</td>\n      <td>Sweden</td>\n      <td>NaN</td>\n      <td>NaN</td>\n      <td>NaN</td>\n      <td>NaN</td>\n      <td>NaN</td>\n      <td>2020-02-16</td>\n      <td>-10.0</td>\n      <td>-7.0</td>\n      <td>-30.0</td>\n      <td>-11.0</td>\n      <td>-5.0</td>\n      <td>2.0</td>\n    </tr>\n    <tr>\n      <th>2</th>\n      <td>SE</td>\n      <td>Sweden</td>\n      <td>NaN</td>\n      <td>NaN</td>\n      <td>NaN</td>\n      <td>NaN</td>\n      <td>NaN</td>\n      <td>2020-02-17</td>\n      <td>-4.0</td>\n      <td>-3.0</td>\n      <td>-3.0</td>\n      <td>-6.0</td>\n      <td>-6.0</td>\n      <td>2.0</td>\n    </tr>\n    <tr>\n      <th>3</th>\n      <td>SE</td>\n      <td>Sweden</td>\n      <td>NaN</td>\n      <td>NaN</td>\n      <td>NaN</td>\n      <td>NaN</td>\n      <td>NaN</td>\n      <td>2020-02-18</td>\n      <td>0.0</td>\n      <td>0.0</td>\n      <td>13.0</td>\n      <td>-4.0</td>\n      <td>-5.0</td>\n      <td>1.0</td>\n    </tr>\n    <tr>\n      <th>4</th>\n      <td>SE</td>\n      <td>Sweden</td>\n      <td>NaN</td>\n      <td>NaN</td>\n      <td>NaN</td>\n      <td>NaN</td>\n      <td>NaN</td>\n      <td>2020-02-19</td>\n      <td>3.0</td>\n      <td>1.0</td>\n      <td>26.0</td>\n      <td>-3.0</td>\n      <td>-5.0</td>\n      <td>1.0</td>\n    </tr>\n    <tr>\n      <th>...</th>\n      <td>...</td>\n      <td>...</td>\n      <td>...</td>\n      <td>...</td>\n      <td>...</td>\n      <td>...</td>\n      <td>...</td>\n      <td>...</td>\n      <td>...</td>\n      <td>...</td>\n      <td>...</td>\n      <td>...</td>\n      <td>...</td>\n      <td>...</td>\n    </tr>\n    <tr>\n      <th>53730</th>\n      <td>SE</td>\n      <td>Sweden</td>\n      <td>Västra Götaland County</td>\n      <td>Vårgårda Municipality</td>\n      <td>NaN</td>\n      <td>NaN</td>\n      <td>NaN</td>\n      <td>2020-10-12</td>\n      <td>NaN</td>\n      <td>NaN</td>\n      <td>NaN</td>\n      <td>-29.0</td>\n      <td>-11.0</td>\n      <td>NaN</td>\n    </tr>\n    <tr>\n      <th>53731</th>\n      <td>SE</td>\n      <td>Sweden</td>\n      <td>Västra Götaland County</td>\n      <td>Vårgårda Municipality</td>\n      <td>NaN</td>\n      <td>NaN</td>\n      <td>NaN</td>\n      <td>2020-10-13</td>\n      <td>NaN</td>\n      <td>NaN</td>\n      <td>NaN</td>\n      <td>-20.0</td>\n      <td>-15.0</td>\n      <td>NaN</td>\n    </tr>\n    <tr>\n      <th>53732</th>\n      <td>SE</td>\n      <td>Sweden</td>\n      <td>Västra Götaland County</td>\n      <td>Vårgårda Municipality</td>\n      <td>NaN</td>\n      <td>NaN</td>\n      <td>NaN</td>\n      <td>2020-10-14</td>\n      <td>NaN</td>\n      <td>NaN</td>\n      <td>NaN</td>\n      <td>-27.0</td>\n      <td>-10.0</td>\n      <td>NaN</td>\n    </tr>\n    <tr>\n      <th>53733</th>\n      <td>SE</td>\n      <td>Sweden</td>\n      <td>Västra Götaland County</td>\n      <td>Vårgårda Municipality</td>\n      <td>NaN</td>\n      <td>NaN</td>\n      <td>NaN</td>\n      <td>2020-10-15</td>\n      <td>NaN</td>\n      <td>NaN</td>\n      <td>NaN</td>\n      <td>-20.0</td>\n      <td>-10.0</td>\n      <td>NaN</td>\n    </tr>\n    <tr>\n      <th>53734</th>\n      <td>SE</td>\n      <td>Sweden</td>\n      <td>Västra Götaland County</td>\n      <td>Vårgårda Municipality</td>\n      <td>NaN</td>\n      <td>NaN</td>\n      <td>NaN</td>\n      <td>2020-10-16</td>\n      <td>NaN</td>\n      <td>NaN</td>\n      <td>NaN</td>\n      <td>-36.0</td>\n      <td>-11.0</td>\n      <td>NaN</td>\n    </tr>\n  </tbody>\n</table>\n<p>53735 rows × 14 columns</p>\n</div>"
     },
     "metadata": {},
     "execution_count": 378
    }
   ],
   "source": [
    "df_SE_region_mobility_report=pd.read_csv('../datafiles/2020_SE_Region_Mobility_Report.csv')\n",
    "# print(df_coordinates['date'].isna().sum(), df_coordinates['date'].count())\n",
    "df_SE_region_mobility_report"
   ]
  },
  {
   "cell_type": "code",
   "execution_count": 379,
   "metadata": {},
   "outputs": [],
   "source": [
    "\n",
    "# df_coordinates=pd.read_csv('../datafiles/airbnb_listings_sum_stockholm.csv')\n",
    "# # print(df_coordinates['date'].isna().sum(), df_coordinates['date'].count())\n",
    "# df_coordinates"
   ]
  },
  {
   "cell_type": "code",
   "execution_count": 380,
   "metadata": {},
   "outputs": [],
   "source": [
    "# count=0\n",
    "# airbnb_calend_list=[]\n",
    "# with open('../datafiles/airbnb_calendar_stockholm.csv', newline='',encoding = 'cp850') as csvfile:\n",
    "#     csv_reader_data = csv.reader(csvfile)\n",
    "#     for row in csv_reader_data:\n",
    "#         if np.shape(row)[0]==1:\n",
    "#             redone_csv_reading = csv.reader(row)\n",
    "#             for new_row in redone_csv_reading:\n",
    "#                 next_row =[new_row]\n",
    "#         elif np.shape(row)[0]==7:\n",
    "#              next_row = [new_row]\n",
    "#         airbnb_calend_list.append(next_row)         "
   ]
  },
  {
   "cell_type": "code",
   "execution_count": 381,
   "metadata": {
    "tags": []
   },
   "outputs": [
    {
     "output_type": "stream",
     "name": "stdout",
     "text": [
      "(1048575, 7) (7,)\n",
      "        listing_id        date available      price adjusted_price  \\\n",
      "0           565912  2020-06-27         t  $2,461.00      $2,461.00   \n",
      "1           145320  2020-06-27         f  $1,424.00      $1,424.00   \n",
      "2           145320  2020-06-28         f  $1,424.00      $1,424.00   \n",
      "3           145320  2020-06-29         f  $1,424.00      $1,424.00   \n",
      "4           145320  2020-06-30         f  $1,424.00      $1,424.00   \n",
      "...            ...         ...       ...        ...            ...   \n",
      "1048570   15773429  2020-11-24         t    $250.00        $250.00   \n",
      "1048571   15773429  2020-11-25         t    $250.00        $250.00   \n",
      "1048572   15773429  2020-11-26         t    $250.00        $250.00   \n",
      "1048573   15773429  2020-11-27         t    $250.00        $250.00   \n",
      "1048574   15773429  2020-11-28         t    $250.00        $250.00   \n",
      "\n",
      "        minimum_nights maximum_nights  \n",
      "0                    4             20  \n",
      "1                    3           1125  \n",
      "2                    3           1125  \n",
      "3                    3           1125  \n",
      "4                    3           1125  \n",
      "...                ...            ...  \n",
      "1048570            120           1125  \n",
      "1048571            120           1125  \n",
      "1048572            120           1125  \n",
      "1048573            120           1125  \n",
      "1048574            120           1125  \n",
      "\n",
      "[1048575 rows x 7 columns]\n",
      "Number of elements in row and there count:  Counter()\n",
      "--- 13.18297815322876 seconds ---\n"
     ]
    }
   ],
   "source": [
    "start_time = time.time()\n",
    "wrong_amount_of_element=[]\n",
    "count=0\n",
    "airbnb_calend_list=[]\n",
    "\n",
    "with open('../datafiles/airbnb_calendar_stockholm.csv', newline='',encoding = 'cp850') as csvfile:\n",
    "    csv_reader_data = csv.reader(csvfile)\n",
    "    for row in csv_reader_data: \n",
    "        next_row = []\n",
    "        if count >=1 and np.shape(row)[0]==1: # if count is not header and has \"\" around the all elements\n",
    "            # print(row)\n",
    "            # print(np.shape(row))\n",
    "\n",
    "            redone_csv_reading = csv.reader(row)\n",
    "            for new_row in redone_csv_reading:\n",
    "                # print([new_row])\n",
    "                # print(np.shape(new_row))\n",
    "                if np.shape(new_row)[0]==7:\n",
    "                    next_row = new_row\n",
    "                    # print(\"1\")\n",
    "                    # print(new_row)\n",
    "                else:\n",
    "                    wrong_amount_of_element.append(np.shape(new_row)[0])\n",
    "                    # print(\"\\nError: not shape of 'new_row' ==7 \")\n",
    "                    # print(new_row)\n",
    "\n",
    "            # print(\"\\n\")\n",
    "        elif count >=1 and np.shape(row)[0]==7:\n",
    "            next_row = row\n",
    "            # print(\"2\")\n",
    "            # print([next_row])\n",
    "        elif count==0:\n",
    "            # print(row)\n",
    "            # print(np.shape(row))\n",
    "            headers_row = row\n",
    "\n",
    "        # else:\n",
    "            # print(\"\\nError: not shape of 'row' == 1 or 7\")\n",
    "            # print(row)\n",
    "            # next_row = np.empty((1,7,))\n",
    "            # next_row[:] = np.nan\n",
    "            # # next_row=np.nan\n",
    "            # print(\"\")\n",
    "\n",
    "\n",
    "        if count >=1:     \n",
    "            airbnb_calend_list.append(next_row)\n",
    "\n",
    "        count = count + 1\n",
    "        if count == 15000000:\n",
    "            break\n",
    "# print(airbnb_calend_list)\n",
    "print(np.shape(airbnb_calend_list),np.shape(headers_row))\n",
    "df_airbnb_calend_stockholm = pd.DataFrame(data=airbnb_calend_list, columns= headers_row)\n",
    "print(df_airbnb_calend_stockholm)\n",
    "# df_airbnb_calend_stockholm.to_csv('../datafiles/airbnb_calendar_stockholm_new.csv',index=False)\n",
    "print(\"Number of elements in row and there count: \",Counter(wrong_amount_of_element))\n",
    "print(\"--- %s seconds ---\" % (time.time() - start_time))"
   ]
  },
  {
   "cell_type": "code",
   "execution_count": null,
   "metadata": {},
   "outputs": [],
   "source": [
    "start_time = time.time()\n",
    "wrong_amount_of_element=[]\n",
    "number_of_rows=16\n",
    "\n",
    "count=0\n",
    "airbnb_calend_list=[]\n",
    "with open('../datafiles/airbnb_listings_sum_stockholm.csv', newline='',encoding = 'cp850') as csvfile:\n",
    "    csv_reader_data = csv.reader(csvfile)\n",
    "    for row in csv_reader_data: \n",
    "        next_row = []\n",
    "\n",
    "        if count >=1 and np.shape(row)[0]==1: # if count is not header and has \"\" around the all elements\n",
    "            # print(row)\n",
    "            # print(np.shape(row))\n",
    "            row[0]=row[0].replace(\"\\n\",\"\")\n",
    "            redone_csv_reading = csv.reader(row)\n",
    "            for new_row in redone_csv_reading:\n",
    "                # print([new_row])\n",
    "                # print(np.shape(new_row))\n",
    "                if np.shape(new_row)[0]==number_of_rows:\n",
    "                    next_row = new_row\n",
    "                    # print(\"1\")\n",
    "                    # print(new_row)\n",
    "                else:\n",
    "                    wrong_amount_of_element.append(np.shape(new_row)[0])\n",
    "                    # print(\"\\nError: not shape of 'new_row' ==7 \")\n",
    "                    # print(new_row)\n",
    "                    # print(np.shape(new_row)[0])\n",
    "\n",
    "            # print(\"\\n\")\n",
    "        elif count >=1 and np.shape(row)[0]==number_of_rows:\n",
    "            next_row = row\n",
    "            # print(\"2\")\n",
    "            # print([next_row])\n",
    "        elif count==0:\n",
    "            # print(row)\n",
    "            # print(np.shape(row))\n",
    "            headers_row = row\n",
    "\n",
    "        # else:\n",
    "            # print(\"\\nError: not shape of 'row' == 1 or 7\")\n",
    "            # print(row)\n",
    "            # next_row = np.empty((1,7,))\n",
    "            # next_row[:] = np.nan\n",
    "            # # next_row=np.nan\n",
    "            # print(\"\")\n",
    "\n",
    "\n",
    "        if count >=1:     \n",
    "            airbnb_calend_list.append(next_row)\n",
    "\n",
    "        count = count + 1\n",
    "        if count == 10000:\n",
    "            break\n",
    "# print(airbnb_calend_list)\n",
    "# print(np.shape(airbnb_calend_list),np.shape(headers_row))\n",
    "df_airbnb_listing_stockholm = pd.DataFrame(data=airbnb_calend_list, columns= headers_row)\n",
    "print(df_airbnb_listing_stockholm)\n",
    "# df_airbnb_calend_stockholm.to_csv('../datafiles/airbnb_calendar_stockholm_new.csv',index=False)\n",
    "print(\"Number of elements in row and there count: \",Counter(wrong_amount_of_element))\n",
    "print(\"--- %s seconds ---\" % (time.time() - start_time))"
   ]
  },
  {
   "cell_type": "code",
   "execution_count": 13,
   "metadata": {},
   "outputs": [
    {
     "output_type": "execute_result",
     "data": {
      "text/plain": [
       "array(['S├Âdermalms', None, 'Norrmalms', 'Kungsholmens', 'Rinkeby-Tensta',\n",
       "       'Farsta', '├älvsj├Â', '├ûstermalms', 'Skarpn├ñcks',\n",
       "       'Enskede-├àrsta-Vant├Ârs', 'H├ñgersten-Liljeholmens', 'Bromma',\n",
       "       'Sk├ñrholmens', 'H├ñsselby-V├ñllingby', 'Sp├Ñnga-Tensta'],\n",
       "      dtype=object)"
      ]
     },
     "metadata": {},
     "execution_count": 13
    }
   ],
   "source": [
    "df_airbnb_listing_stockholm['neighbourhood'].unique()"
   ]
  },
  {
   "cell_type": "code",
   "execution_count": 14,
   "metadata": {},
   "outputs": [],
   "source": [
    "# # Correctly spell the names of the neighborhoods\n",
    "# df_airbnb_listing_stockholm['neighbourhood'].replace('S├Âdermalms','Södermalm', inplace=True)\n",
    "# df_airbnb_listing_stockholm['neighbourhood'].replace('Norrmalms','Norrmalm', inplace=True)\n",
    "# df_airbnb_listing_stockholm['neighbourhood'].replace('Kungsholmens','Kungsholmen', inplace=True)\n",
    "# df_airbnb_listing_stockholm['neighbourhood'].replace('├älvsj├Â','Älvsjö', inplace=True)\n",
    "# df_airbnb_listing_stockholm['neighbourhood'].replace('├ûstermalms','Östermalm', inplace=True)\n",
    "# df_airbnb_listing_stockholm['neighbourhood'].replace('H├ñgersten-Liljeholmens','Hägersten-Liljeholmen', inplace=True)\n",
    "# df_airbnb_listing_stockholm['neighbourhood'].replace('Sk├ñrholmens','Skärholmen', inplace=True)\n",
    "# df_airbnb_listing_stockholm['neighbourhood'].replace('H├ñsselby-V├ñllingby','Hässelby-Vällingby', inplace=True)\n",
    "# df_airbnb_listing_stockholm['neighbourhood'].replace('Sp├Ñnga-Tensta','Spånga-Tensta', inplace=True)"
   ]
  },
  {
   "cell_type": "code",
   "execution_count": 15,
   "metadata": {},
   "outputs": [],
   "source": [
    "# df_test=df_airbnb_calend_stockholm[df_airbnb_calend_stockholm['neighbourhood']=='Södermalm']\n",
    "# df_test"
   ]
  },
  {
   "cell_type": "code",
   "execution_count": 16,
   "metadata": {},
   "outputs": [],
   "source": [
    "# df_test[df_test['name'].str.lower().str.contains(\"fantastic sofo\")]   "
   ]
  },
  {
   "source": [
    "It seems like the prices are in SEK - after comparing 'price' to website price for same place"
   ],
   "cell_type": "markdown",
   "metadata": {}
  },
  {
   "cell_type": "code",
   "execution_count": 17,
   "metadata": {
    "tags": []
   },
   "outputs": [
    {
     "output_type": "stream",
     "name": "stdout",
     "text": [
      "(182014,) (6,)\n       listing_id         id        date reviewer_id reviewer_name  \\\n0          145320  156423122  2017-05-30   123386382         Erwin   \n1          145320  170211906  2017-07-15   123091743          Anne   \n2          145320  172169175  2017-07-20       78004      Patricia   \n3          145320  176647581  2017-07-31   103178743     Charlotte   \n4          145320  185676021  2017-08-22     4023961     Alexander   \n...           ...        ...         ...         ...           ...   \n182009   43720290  629441507  2020-06-14   308451513            Lu   \n182010   43720290  631087136  2020-06-21    76954984        Shahin   \n182011   43724610  630964346  2020-06-21    38355251          Ines   \n182012   43749955  632003080  2020-06-25    92774441       Babette   \n182013   43840216  630977479  2020-06-21   251908973          Dala   \n\n                                      comments;;;;;;;;;;;  \n0       Prima plek om Stockholm te bekijken. Alles is ...  \n1       Cosy and clean flat in quiet neighbourhood clo...  \n2       The host canceled this reservation 37 days bef...  \n3       Kim's place was outstanding and comfortable. W...  \n4       great spacious apartment in a nice residential...  \n...                                                   ...  \n182009  Great place with an amazing, spacious balcony ...  \n182010  Amazing place, located near beautiful Hornstul...  \n182011  Catarina has been a kind host. The flat had ev...  \n182012                  Very nice appartement!;;;;;;;;;;;  \n182013   Okej, tog en timma tills vi fick svar;;;;;;;;;;;  \n\n[182014 rows x 6 columns]\nNumber of elements in row and there count:  Counter({1: 45481, 2: 4403, 3: 1553, 4: 621, 7: 557, 8: 371, 5: 329, 9: 241, 12: 188, 11: 134, 10: 131, 13: 112, 14: 87, 17: 47, 16: 46, 15: 36, 18: 29, 19: 19, 22: 15, 23: 13, 20: 11, 28: 6, 21: 6, 24: 6, 25: 5, 27: 4, 26: 4, 36: 2, 37: 1, 31: 1, 39: 1, 43: 1})\n--- 2.9513652324676514 seconds ---\n"
     ]
    }
   ],
   "source": [
    "start_time = time.time()\n",
    "wrong_amount_of_element=[]\n",
    "number_of_rows=6\n",
    "\n",
    "count=0\n",
    "airbnb_calend_list=[]\n",
    "with open('../datafiles/airbnb_reviews_stockholm.csv', newline='',encoding = 'cp850') as csvfile:\n",
    "    csv_reader_data = csv.reader(csvfile)\n",
    "    for row in csv_reader_data: \n",
    "        next_row = [] \n",
    "        # if count== 177:\n",
    "        #     print(row)\n",
    "        #     print(row[0])\n",
    "        #     print(np.shape(row))\n",
    "            # redone_csv_reading = csv.reader(row)\n",
    "            # for new_row in redone_csv_reading:\n",
    "            #     # print([new_row])\n",
    "            #     # print(np.shape(new_row))\n",
    "            #     next_row = new_row\n",
    "\n",
    "            #     print(next_row)\n",
    "        if count >=1 and np.shape(row)[0]==1: # if count is not header and has \"\" around the all elements\n",
    "            # print(row)\n",
    "            # print(np.shape(row))\n",
    "            # print(row[0])\n",
    "            # print(np.shape(row[0]))\n",
    "            row[0]=row[0].replace(\"\\n\",\"\")\n",
    "            redone_csv_reading = csv.reader(row)\n",
    "            for new_row in redone_csv_reading:\n",
    "                # print(new_row)\n",
    "                # print(np.shape(new_row))\n",
    "                if np.shape(new_row)[0]==number_of_rows:\n",
    "                    next_row = new_row\n",
    "                    # print(\"1\")\n",
    "                    # print(new_row)\n",
    "                else:\n",
    "                    wrong_amount_of_element.append(np.shape(new_row)[0])\n",
    "                    # print(\"\\nError: not shape of 'new_row' ==7 \")\n",
    "                    # print(new_row)\n",
    "\n",
    "            # print(\"\\n\")\n",
    "        elif count >=1 and np.shape(row)[0]==number_of_rows:\n",
    "            next_row = row\n",
    "            # print(\"2\")\n",
    "            # print([next_row])\n",
    "        elif count==0:\n",
    "            # print(row)\n",
    "            # print(np.shape(row))\n",
    "            headers_row = row\n",
    "\n",
    "        # else:\n",
    "            # print(\"\\nError: not shape of 'row' == 1 or 7\")\n",
    "            # print(row)\n",
    "            # next_row = np.empty((1,7,))\n",
    "            # next_row[:] = np.nan\n",
    "            # # next_row=np.nan\n",
    "            # print(\"\")\n",
    "\n",
    "\n",
    "        if count >=1:     \n",
    "            airbnb_calend_list.append(next_row)\n",
    "\n",
    "\n",
    "        count = count + 1\n",
    "        if count == 1000000:\n",
    "            break\n",
    "# print(airbnb_calend_list)\n",
    "print(np.shape(airbnb_calend_list),np.shape(headers_row))\n",
    "df_airbnb_review_stockholm = pd.DataFrame(data=airbnb_calend_list, columns= headers_row)\n",
    "print(df_airbnb_review_stockholm)\n",
    "# df_airbnb_calend_stockholm.to_csv('../datafiles/airbnb_calendar_stockholm_new.csv',index=False)\n",
    "print(\"Number of elements in row and there count: \",Counter(wrong_amount_of_element))\n",
    "print(\"--- %s seconds ---\" % (time.time() - start_time))"
   ]
  },
  {
   "cell_type": "code",
   "execution_count": null,
   "metadata": {},
   "outputs": [],
   "source": []
  },
  {
   "cell_type": "code",
   "execution_count": null,
   "metadata": {},
   "outputs": [],
   "source": []
  }
 ]
}